{
 "metadata": {
  "language_info": {
   "codemirror_mode": {
    "name": "ipython",
    "version": 3
   },
   "file_extension": ".py",
   "mimetype": "text/x-python",
   "name": "python",
   "nbconvert_exporter": "python",
   "pygments_lexer": "ipython3",
   "version": "3.8.5"
  },
  "orig_nbformat": 2,
  "kernelspec": {
   "name": "python3",
   "display_name": "Python 3",
   "language": "python"
  }
 },
 "nbformat": 4,
 "nbformat_minor": 2,
 "cells": [
  {
   "source": [
    "# IMPORTAMOS LAS LIBRERIAS "
   ],
   "cell_type": "markdown",
   "metadata": {}
  },
  {
   "cell_type": "code",
   "execution_count": null,
   "metadata": {},
   "outputs": [],
   "source": [
    "import numpy as np\n",
    "import pandas as pd\n",
    "import json\n",
    "import re\n",
    "pd.set_option('display.max_rows', 500) # para visualizar todo el DataFrame\n"
   ]
  },
  {
   "cell_type": "code",
   "execution_count": null,
   "metadata": {},
   "outputs": [],
   "source": [
    "db = np.load(\"BD.npy\",allow_pickle=True) \n",
    "\n",
    "# Volvemos el np.array un DataFrame\n",
    "df = pd.DataFrame(db)\n",
    "df.drop([0,1,2],axis=0,inplace=True)\n",
    "df.reset_index(inplace=True,drop=True)\n",
    "\n",
    "# Le damos nombres a las columnas\n",
    "columnas = ['id','created_at','update_at','dalete_at','tipo','folio','area','subarea','texto','valor','document_id']\n",
    "df.columns = columnas"
   ]
  },
  {
   "cell_type": "code",
   "execution_count": null,
   "metadata": {},
   "outputs": [],
   "source": [
    "tipos =  list(df['tipo'].unique())"
   ]
  },
  {
   "cell_type": "code",
   "execution_count": null,
   "metadata": {},
   "outputs": [],
   "source": [
    "df[df['document_id']==360].sort_values('tipo')\n",
    "df[df['tipo']==11][:50]"
   ]
  },
  {
   "cell_type": "code",
   "execution_count": null,
   "metadata": {},
   "outputs": [],
   "source": [
    "tipos_area = {}\n",
    "for i in tipos:\n",
    "    unicos = df[df['tipo']==i]['area'].unique()\n",
    "    tipos_area[i] = list(unicos)"
   ]
  },
  {
   "cell_type": "code",
   "execution_count": null,
   "metadata": {},
   "outputs": [],
   "source": [
    "tipos_area"
   ]
  },
  {
   "cell_type": "code",
   "execution_count": null,
   "metadata": {},
   "outputs": [],
   "source": []
  },
  {
   "cell_type": "code",
   "execution_count": null,
   "metadata": {},
   "outputs": [],
   "source": [
    "t_21 = {\n",
    "    \"Inmunohistoquímica\":5,\n",
    "    \"Citometría de flujo\":6,\n",
    "    \"Clínica exclusivamente\":7,\n",
    "    \"Otro\":8,\n",
    "    \"Genética\":9,\n",
    "    \"Patología básica\":10,\n",
    "    \"Desconocido\":99,\n",
    "    \"Persona con aseguramiento\":55\n",
    "}"
   ]
  },
  {
   "cell_type": "code",
   "execution_count": null,
   "metadata": {},
   "outputs": [],
   "source": [
    "t_22 = {\n",
    "    \"Clínica, usuario con coagulopatía\":1,\n",
    "    \"Clínica, debido a localización del tumor\":2,\n",
    "    \"Clínica, debido al estado funcional del usuario (deterioro)\":3,\n",
    "    \"Negativa realizar estudio\":4,\n",
    "    \"Administrativa\":5,\n",
    "    \"Clínica por reporte de imágenes o laboratorios\":6,\n",
    "    \"Persona con aseguramiento\":55,\n",
    "    \"Tiene confirmación por histopatología\":98,\n",
    "    \"Desconocido\":99\n",
    "}"
   ]
  },
  {
   "cell_type": "code",
   "execution_count": null,
   "metadata": {},
   "outputs": [],
   "source": [
    "t_25 = {\n",
    "    \"codigo IPS\": None ,\n",
    "    \"Persona con aseguramiento\":55,\n",
    "    \"Diagnóstico fuera del país\":96,\n",
    "    \"Desconocido\":99\n",
    "}"
   ]
  },
  {
   "cell_type": "code",
   "execution_count": null,
   "metadata": {},
   "outputs": [],
   "source": [
    "t_27 = { # enfermedad actual\n",
    "    \"Adenocarcinoma\":1,\n",
    "    \"Carcinoma escamocelular\":2,\n",
    "    \"Carcinoma de células basales\":3,\n",
    "    \"Carcinoma diferente\":4,\n",
    "    \"Oligodendroglioma\":5,\n",
    "    \"Astrocitoma\":6,\n",
    "    \"Ependimoma\":7,\n",
    "    \"Neuroblastoma\":8,\n",
    "    \"Meduloblastoma\":9,\n",
    "    \"Hepatoblastoma\":10,\n",
    "    \"Rabdomiosarcoma\":11,\n",
    "    \"Leiomiosarcoma\":12,\n",
    "    \"Osteosarcoma\":13,\n",
    "    \"Fibrosarcoma\":14,\n",
    "    \"Angiosarcoma\":15,\n",
    "    \"Condrosarcoma\":16,\n",
    "    \"Otros sarcomas\":17,\n",
    "    \"Pancreatoblastoma\":18,\n",
    "    \"Blastoma pleuropulmonar\":19,\n",
    "    \"Otros tipos histológicos no mencionados\":20,\n",
    "    \"Melanoma\":21,\n",
    "    \"Carcinoma papilar de tiroides\":24,\n",
    "    \"Persona con aseguramiento\":25,\n",
    "    \"No se realizó estudio histopatológico\":98\n",
    "}"
   ]
  },
  {
   "cell_type": "code",
   "execution_count": null,
   "metadata": {},
   "outputs": [],
   "source": [
    "t_28 = {\n",
    "    \"grado 1\":1,\n",
    "    \"grado 2\":2,\n",
    "    \"grado 3\":4,\n",
    "    \"Anaplásico\":4,\n",
    "    \"Persona con aseguramiento\":55\n",
    "    \"cáncer sólido\":94,\n",
    "    \"No es sólido\":95,\n",
    "    \"No se realizó estudio histopatológico\":98,\n",
    "    \n",
    "}"
   ]
  },
  {
   "cell_type": "code",
   "execution_count": null,
   "metadata": {},
   "outputs": [],
   "source": [
    "t_29 = {\n",
    "\n",
    "}\n",
    "\n",
    "\"\"\"\n",
    "CÁNCER DE MAMA Y CÁNCER GÁSTRICO 15 0= estadio clínico (ec) 0 (tumor in situ) 2= ec IA o 1A 5= ec IB o 1b 11= ec IIA o 2a 14= ec IIB 17= ec IIIA o 3a 18= ec IIIB o 3b 19= ec IIIC o 3c 20= ec IV o 4 CANCER DE PRÓSTATA 7a Edición TNM 0= estadio clínico (ec) o (tumor in situ) 1= ec I o 1 11= ec IIA o 2a 14= ec IIB 16= ec III o 3 20= ec IV o 4 8ª Edición TNM 15= ec IIC o 2c 17= ec IIIA o 3a 18= ec IIIB o 3b 19= ec IIIC o 3c 21= ec IVA o 4a 22= ec IVB o 4b\n",
    "\n",
    " CANCER DE PULMON 7a Edición TNM 0= estadio clínico (ec) o (tumor in situ) 2= ec IA o 1A 5= ec IB o 1b 11= ec IIA o 2a 14= ec IIB 17= ec IIIA o 3a 18= ec IIIB o 3b 20= ec IV o 4 8ª Edición TNM 3= ec IA1 4= ec IA2 19= ec IIIC o 3c 21= ec IVA o 4a 22= ec IVB o 4b 16 26= Estadio IAB MELANOMA 0= estadio clínico (ec) o (tumor in situ) 2= ec IA o 1A 5= ec IB o 1b 11= ec IIA o 2a 14= ec IIB 15= ec IIC o 2c 16= ec III o 3 17= ec IIIA o 3a 18= ec IIIB o 3b 19= ec IIIC o 3c 20= ec IV o 4 29= ec IIID o 3d\n",
    " \n",
    "CÁNCER DE COLON Y RECTO 0= estadio clínico (ec) o (tumor in situ) 1= ec I o 1 11= ec IIA o 2a 14= ec IIB 15= ec IIC o 2c 17= ec IIIA o 3a 18= ec IIIB o 3b 19= ec IIIC o 3c 21= ec IVA o 4a 22= ec IVB o 4b \n",
    "\n",
    "CÁNCER ANAL (Agrupador Colon y recto) 0= estadio clínico (ec) o (tumor in situ) 1= ec I o 1 10= ec II o 2 17= ec IIIA o 3a 18= ec IIIB o 3b 20= ec IV o 4 8ª Edición TNM 1= ec I o 1 11= ec IIA o 2a 14= ec IIB o 2b 17= ec IIIA o 3a 18= ec IIIB o 3b 19= ec IIIC o 3c 20=ec IV o 4 17\n",
    " \n",
    "CÁNCER DE CÉRVIX (FIGO) 0= estadio clínico (ec) o (tumor in situ) 1= ec I o 1 2= ec IA o 1A 3= ec IA1 4= ec IA2 5= ec IB o 1b 6= ec IB1 7= ec IB2 10= ec II o 2 11= ec IIA o 2a 12= ec IIA1 13= ec IIA2 14= ec IIB 16= ec III o 3 17= ec IIIA o 3a 18= ec IIIB o 3b 19= ec IIIC o 3c 21= ec IVA o 4a 22= ec IVB o 4b 27= ec IIIC1 o 3c1 28= ec IIIC2 o 3c2 30= ec IB3 31= ec IC1 32= ec IC2 33= ec IC3 OTRAS OPCIONES 8= ec IC o 1c 9= ec IS o 1s 23= ec IVC o 4c 24= ec 4S (para neuroblastoma) 25= ec V o 5 55= Persona con aseguramiento (régimen subsidiado o contributivo y que no son PPNA) que recibió servicios de salud por parte del ente territorial durante el periodo de reporte. 98= No Aplica (Es cáncer de piel basocelular, es cáncer hematológico o es cáncer en SNC, excepto neuroblastoma). 99= Desconocido, el dato de esta variable no se encuentra descrito en los soportes clínicos.\n",
    "\"\"\""
   ]
  },
  {
   "cell_type": "code",
   "execution_count": null,
   "metadata": {},
   "outputs": [],
   "source": [
    "t_31 = {\n",
    "    \"Sí se le realizó\":1,\n",
    "    \"No se le realizó\":2,\n",
    "    \"Persona con aseguramiento\":55,\n",
    "    \"No Aplica porque es cáncer de mama in situ\":97,\n",
    "    \"No Aplica, no es cancer de mama\":98,\n",
    "    \"Desconocido\":19\n",
    "}"
   ]
  },
  {
   "cell_type": "code",
   "execution_count": null,
   "metadata": {},
   "outputs": [],
   "source": [
    "t_33 = {\n",
    "    \"positivo\":1,\n",
    "    \"indeterminado\":2,\n",
    "    \"negativo\":3,\n",
    "    \"cero\":4,\n",
    "    \"Persona con aseguramiento\":55,\n",
    "    \"No Aplica porque es cáncer de mama in situ\":97,\n",
    "    \"No aplica no es cáncer de mama\":98,\n",
    "    \"Desconocido\":99\n",
    "}"
   ]
  },
  {
   "cell_type": "code",
   "execution_count": null,
   "metadata": {},
   "outputs": [],
   "source": [
    "t_36 = {\n",
    "    \" Estadio I\":1,\n",
    "    \" Estadio II\":2,\n",
    "    \" Estadio III\":3,\n",
    "    \" Estadio IV\":4,\n",
    "    \" Estadio IA\":5,\n",
    "    \" Estadio IB\":6,\n",
    "    \" Estadio IIA\":7,\n",
    "    \" Estadio IIB\":8,\n",
    "    \" Estadio IIIA\":9,\n",
    "    \" Estadio IIIB\":10,\n",
    "    \" Estadio IVA\":11,\n",
    "    \" Estadio IVB\":12,\n",
    "    \" Extranodal cualquier estadio\":13,\n",
    "    \" Primario SNC\":14,\n",
    "    \" Primario Mediastinal\":15,\n",
    "    \" Primario de otros órganos\":16,\n",
    "    \"Persona con aseguramiento\":55,\n",
    "    \"No Aplica, cancer diferente\":98,\n",
    "    \"Desconocido\":99\n",
    "}"
   ]
  },
  {
   "cell_type": "code",
   "execution_count": null,
   "metadata": {},
   "outputs": [],
   "source": [
    "t_37 = {\n",
    "\n",
    "}\n",
    "\"\"\"\n",
    " Registre la opción que corresponde a la clasificación Gleason.\n",
    "11= Gleason ≤ 6: ≤ 3+3\n",
    "12= Gleason 7: 3+4\n",
    "13= Gleason 7: 4+3\n",
    "14= Gleason 8: 4+4 o 3+5 o 5+3\n",
    "15= Gleason 9 o 10: 4+5 o 5+4 o 5+5\n",
    "\n",
    "97= Es cáncer de próstata, pero no hay información acerca de esta estadificación porque el\n",
    "diagnóstico fue clínico.\n",
    "98= No es cáncer de próstata.\n",
    "99= Es cáncer de próstata, pero no hay información en la historia clínica acerca de esta clasificación\n",
    "a pesar de que fue diagnóstico histopatológico.\n",
    "55= Persona con aseguramiento (régimen subsidiado o contributivo y que no son PPNA) que recibió\n",
    "servicios de salud por parte del ente territorial durante el periodo de reporte.\n",
    " \"\"\""
   ]
  },
  {
   "cell_type": "code",
   "execution_count": null,
   "metadata": {},
   "outputs": [],
   "source": [
    "t_38 = {\n",
    "    \"Bajo riesgo\":1,\n",
    "    \"Riesgo intermedio bajo\":2,\n",
    "    \"Riesgo intermedio\":3,\n",
    "    \"Riesgo intermedio alto\":4,\n",
    "    \"Riesgo alto\":5,\n",
    "    \"Persona con aseguramiento\":55,\n",
    "    \"No Aplica\":98,\n",
    "    \"Desconocido\":99\n",
    "}\n"
   ]
  },
  {
   "cell_type": "code",
   "execution_count": null,
   "metadata": {},
   "outputs": [],
   "source": [
    "t_40 = {\n",
    "    \"Curación\":1,\n",
    "    \"Paliación\":2,\n",
    "    \"Persona con aseguramiento\":55,\n",
    "    \"Desconocido\":99\n",
    "}\n"
   ]
  },
  {
   "cell_type": "code",
   "execution_count": null,
   "metadata": {},
   "outputs": [],
   "source": [
    "t_41 = {\n",
    "    \"Observación previa a tratamiento\":1,\n",
    "    \"Ofrecer tratamiento curativo\":2,\n",
    "    \"Observación o seguimiento\":3,\n",
    "    \"observacion y curación\":4,\n",
    "    \"curación y seguimiento\":5,\n",
    "    \"observación, curación y seguimiento\":6,\n",
    "    \"Persona con aseguramiento\":55,\n",
    "    \"No hay intervención en el periodo\":99\n",
    "}\n"
   ]
  },
  {
   "cell_type": "code",
   "execution_count": null,
   "metadata": {},
   "outputs": [],
   "source": [
    "t_42 = {\n",
    "    \"si\":1,\n",
    "    \"no\":2,\n",
    "    \"Persona con aseguramiento\":55,\n",
    "    \"Desconocido\":99\n",
    "}"
   ]
  },
  {
   "cell_type": "code",
   "execution_count": null,
   "metadata": {},
   "outputs": [],
   "source": [
    "t_44 = {\n",
    "    \"Persona con aseguramiento\":55\n",
    "}\n",
    "\n",
    "\"\"\"\n",
    "Registre la enfermedad maligna\n",
    "antecedente o concurrente. Tenga en cuenta que antes de definir, por ejemplo, un linfoma, el\n",
    "usuario pudo tener un diagnóstico de cáncer a estudio o tumor de células pequeñas, redondas y\n",
    "azules, debe notificarse el linfoma. Registre el código de la enfermedad maligna diagnosticada al\n",
    "usuario según código CIE -10 (disponible en la página web CAC).\n",
    "\n",
    "Registre 55= Persona con aseguramiento (régimen subsidiado o contributivo y que no son PPNA)\n",
    "que recibió servicios de salud por parte del ente territorial durante el periodo de reporte.\n",
    "Registre 99= No Aplica (no hay antecedente o concurrencia de otro cáncer primario)\n",
    "\"\"\""
   ]
  },
  {
   "cell_type": "code",
   "execution_count": null,
   "metadata": {},
   "outputs": [],
   "source": [
    "t_45 = {\n",
    "    \"si\":1,\n",
    "    \"No aplica\":98,\n",
    "    \"persona con aseguramiento\" : 55\n",
    "}"
   ]
  },
  {
   "cell_type": "code",
   "execution_count": null,
   "metadata": {},
   "outputs": [],
   "source": [
    "t_46 = {\n",
    "    \"numero de fases\":None,\n",
    "    \"Es cáncer hematolinfático con los siguientes códigos de clasificación diagnóstica CIE 10 ( C835,C910, C920, C924 y C925)\":0,\n",
    "    \"persona con aseguramiento\":55,\n",
    "    \"No aplica\":98\n",
    "}\n",
    "\n",
    "\"\"\"\n",
    "Escriba el número\n",
    "de fases de quimioterapia propuestas para este periodo.\n",
    "0= Es cáncer hematolinfático con los siguientes códigos de clasificación diagnóstica CIE 10 ( C835,\n",
    "C910, C920, C924 y C925) y en la variable 45 respondió la opción 2 ó 98\n",
    "55= Persona con aseguramiento (régimen subsidiado o contributivo y que no son PPNA) que recibió\n",
    "servicios de salud por parte del ente territorial durante el periodo de reporte.\n",
    "98= No Aplica (es sólido o es cáncer diferente a los enunciados en las fases)\n",
    "\"\"\""
   ]
  },
  {
   "cell_type": "code",
   "execution_count": null,
   "metadata": {},
   "outputs": [],
   "source": [
    "t_45 = {\n",
    "    \n",
    "}"
   ]
  },
  {
   "cell_type": "code",
   "execution_count": null,
   "metadata": {},
   "outputs": [],
   "source": []
  },
  {
   "cell_type": "code",
   "execution_count": 2,
   "metadata": {},
   "outputs": [],
   "source": [
    "import pandas as pd\n",
    "\n",
    "data = pd.read_csv('municipios.csv',sep=',')\n",
    "def lower(text):\n",
    "    return text.lower()\n",
    "def normalize(s):\n",
    "    replacements = (\n",
    "        (\"á\", \"a\"),\n",
    "        (\"é\", \"e\"),\n",
    "        (\"í\", \"i\"),\n",
    "        (\"ó\", \"o\"),\n",
    "        (\"ó\", \"o\"),\n",
    "        (\"ú\", \"u\"),\n",
    "    )\n",
    "    for a, b in replacements:\n",
    "        s = s.replace(a, b)\n",
    "    return s\n"
   ]
  },
  {
   "cell_type": "code",
   "execution_count": 3,
   "metadata": {},
   "outputs": [],
   "source": [
    "municipio = \"riohacha\"\n",
    "data['municipio'] = data['municipio'].apply(lambda x: lower(x))\n",
    "data['municipio'] = data['municipio'].apply(lambda x: normalize(x))\n",
    "codigo = data[data['municipio']==municipio]['codigo'].values[0]"
   ]
  },
  {
   "cell_type": "code",
   "execution_count": 21,
   "metadata": {},
   "outputs": [],
   "source": [
    "for i in range(len(data)):\n",
    "    if municipio == data.loc[i,:].values[0]:\n",
    "        codigo = data.loc[i,:].values[1]\n",
    "    "
   ]
  },
  {
   "cell_type": "code",
   "execution_count": 26,
   "metadata": {},
   "outputs": [],
   "source": [
    "import pandas as pd\n",
    "eps = pd.read_csv('eps.csv',sep=',')"
   ]
  },
  {
   "cell_type": "code",
   "execution_count": 27,
   "metadata": {},
   "outputs": [],
   "source": [
    "eps['eps'] = eps['eps'].apply(lambda x: lower(x))\n",
    "eps['eps'] = eps['eps'].apply(lambda x: normalize(x))"
   ]
  },
  {
   "cell_type": "code",
   "execution_count": 28,
   "metadata": {},
   "outputs": [
    {
     "output_type": "execute_result",
     "data": {
      "text/plain": [
       "85"
      ]
     },
     "metadata": {},
     "execution_count": 28
    }
   ],
   "source": [
    "len(eps)"
   ]
  },
  {
   "cell_type": "code",
   "execution_count": 29,
   "metadata": {},
   "outputs": [
    {
     "output_type": "execute_result",
     "data": {
      "text/plain": [
       "codigo  eps                                            \n",
       "85000   direccion departamental de salud de casanare       1\n",
       "EPSI03  asociacion indigena del cauca -a.i.c.              1\n",
       "EPSS41  nueva eps s.a.                                     1\n",
       "EPSS40  savia salud                                        1\n",
       "EPSS34  capital salud epss sas.                            1\n",
       "                                                          ..\n",
       "EMP025  comfenalco valle empresa medicina prepagada        1\n",
       "EMP023  colsanitas empresa medicina prepagada              1\n",
       "EMP019  colpatria empresa medicina prepagada               1\n",
       "EMP017  colmedica empresa medicina prepagada               1\n",
       "REUE09  unidad de salud de la universidad del atlantico    1\n",
       "Length: 85, dtype: int64"
      ]
     },
     "metadata": {},
     "execution_count": 29
    }
   ],
   "source": [
    "eps.value_counts()"
   ]
  },
  {
   "cell_type": "code",
   "execution_count": 50,
   "metadata": {},
   "outputs": [
    {
     "output_type": "execute_result",
     "data": {
      "text/plain": [
       "    codigo                                        eps\n",
       "30  EMP029       colpatria empresa medicina prepagada\n",
       "34  EPSS03                              cafesalud eps\n",
       "49  EPSS33  saludvida s.a. entidad promotora de salud\n",
       "53  EPSS41                             nueva eps s.a."
      ],
      "text/html": "<div>\n<style scoped>\n    .dataframe tbody tr th:only-of-type {\n        vertical-align: middle;\n    }\n\n    .dataframe tbody tr th {\n        vertical-align: top;\n    }\n\n    .dataframe thead th {\n        text-align: right;\n    }\n</style>\n<table border=\"1\" class=\"dataframe\">\n  <thead>\n    <tr style=\"text-align: right;\">\n      <th></th>\n      <th>codigo</th>\n      <th>eps</th>\n    </tr>\n  </thead>\n  <tbody>\n    <tr>\n      <th>30</th>\n      <td>EMP029</td>\n      <td>colpatria empresa medicina prepagada</td>\n    </tr>\n    <tr>\n      <th>34</th>\n      <td>EPSS03</td>\n      <td>cafesalud eps</td>\n    </tr>\n    <tr>\n      <th>49</th>\n      <td>EPSS33</td>\n      <td>saludvida s.a. entidad promotora de salud</td>\n    </tr>\n    <tr>\n      <th>53</th>\n      <td>EPSS41</td>\n      <td>nueva eps s.a.</td>\n    </tr>\n  </tbody>\n</table>\n</div>"
     },
     "metadata": {},
     "execution_count": 50
    }
   ],
   "source": [
    "eps[eps.duplicated('eps')]\n"
   ]
  },
  {
   "cell_type": "code",
   "execution_count": 33,
   "metadata": {},
   "outputs": [
    {
     "output_type": "execute_result",
     "data": {
      "text/plain": [
       "Empty DataFrame\n",
       "Columns: [codigo, eps]\n",
       "Index: []"
      ],
      "text/html": "<div>\n<style scoped>\n    .dataframe tbody tr th:only-of-type {\n        vertical-align: middle;\n    }\n\n    .dataframe tbody tr th {\n        vertical-align: top;\n    }\n\n    .dataframe thead th {\n        text-align: right;\n    }\n</style>\n<table border=\"1\" class=\"dataframe\">\n  <thead>\n    <tr style=\"text-align: right;\">\n      <th></th>\n      <th>codigo</th>\n      <th>eps</th>\n    </tr>\n  </thead>\n  <tbody>\n  </tbody>\n</table>\n</div>"
     },
     "metadata": {},
     "execution_count": 33
    }
   ],
   "source": [
    "\n",
    "ANTIOQUIA               x3\n",
    "BARRANQUILLA            x1\n",
    "bogota                  x1\n",
    "bolivar                 x1\n",
    "CARTAGENA               x4\n",
    "BOYACA                  x2\n",
    "CALDAS                  x1\n",
    "caqueta                 x1\n",
    "CAUCA                   x3"
   ]
  },
  {
   "cell_type": "code",
   "execution_count": 51,
   "metadata": {},
   "outputs": [
    {
     "output_type": "error",
     "ename": "SyntaxError",
     "evalue": "invalid syntax (<ipython-input-51-3a80a496a785>, line 1)",
     "traceback": [
      "\u001b[0;36m  File \u001b[0;32m\"<ipython-input-51-3a80a496a785>\"\u001b[0;36m, line \u001b[0;32m1\u001b[0m\n\u001b[0;31m    EMP029,COLPATRIA EMPRESA MEDICINA PREPAGADA\u001b[0m\n\u001b[0m                     ^\u001b[0m\n\u001b[0;31mSyntaxError\u001b[0m\u001b[0;31m:\u001b[0m invalid syntax\n"
     ]
    }
   ],
   "source": []
  },
  {
   "cell_type": "code",
   "execution_count": null,
   "metadata": {},
   "outputs": [],
   "source": []
  },
  {
   "cell_type": "code",
   "execution_count": null,
   "metadata": {},
   "outputs": [],
   "source": []
  }
 ]
}