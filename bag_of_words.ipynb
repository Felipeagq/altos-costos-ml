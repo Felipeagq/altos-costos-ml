{
 "metadata": {
  "language_info": {
   "codemirror_mode": {
    "name": "ipython",
    "version": 3
   },
   "file_extension": ".py",
   "mimetype": "text/x-python",
   "name": "python",
   "nbconvert_exporter": "python",
   "pygments_lexer": "ipython3",
   "version": "3.8.5"
  },
  "orig_nbformat": 2,
  "kernelspec": {
   "name": "python3",
   "display_name": "Python 3",
   "language": "python"
  }
 },
 "nbformat": 4,
 "nbformat_minor": 2,
 "cells": [
  {
   "source": [
    "# Importamos las librerias"
   ],
   "cell_type": "markdown",
   "metadata": {}
  },
  {
   "cell_type": "code",
   "execution_count": 1,
   "metadata": {},
   "outputs": [],
   "source": [
    "import sklearn\n",
    "from sklearn.feature_extraction.text import CountVectorizer\n",
    "cv = CountVectorizer() "
   ]
  },
  {
   "source": [
    "# Difinimos algunas funciones de preprocesamiento"
   ],
   "cell_type": "markdown",
   "metadata": {}
  },
  {
   "cell_type": "code",
   "execution_count": 2,
   "metadata": {},
   "outputs": [],
   "source": [
    "with open(\"HISTORIA CLÍNICA No.CC 84046881 -- WARNER CHISTIAN MONTENEGRO BARROS.txt\",'r') as file:\n",
    "    paciente = file.read()\n",
    "\n",
    "def normalize(s):\n",
    "    replacements = (\n",
    "        (\"á\", \"a\"),\n",
    "        (\"é\", \"e\"),\n",
    "        (\"í\", \"i\"),\n",
    "        (\"ó\", \"o\"),\n",
    "        (\"ú\", \"u\"),\n",
    "    )\n",
    "    for a, b in replacements:\n",
    "        s = s.replace(a, b)\n",
    "    return s\n",
    "\n",
    "def agg_mayusculas(s):\n",
    "    replacements =(\n",
    "            ('motivo de consulta','MOTIVO DE CONSULTA'),\n",
    "            ('enfermedad actual','ENFERMEDAD ACTUAL'),\n",
    "            ('examen físico','EXAMEN FÍSICO'),\n",
    "            ('análisis','ANÁLISIS'),\n",
    "            ('plan y manejo','PLAN Y MANEJO'),\n",
    "            ('diagnóstico','DIAGNÓSTICO'),\n",
    "            ('ordenes','ORDENES'),\n",
    "            ('órdenes','ÓRDENES'),\n",
    "            ('interconsultas','INTERCONSULTAS'),\n",
    "            ('notas enfermeria','NOTAS ENFERMERIA'),\n",
    "            ('formula médica','FORMULA MÉDICA'),\n",
    "            ('formatos','FORMATOS'),\n",
    "            ('recomendaciones','RECOMENDACIONES'),\n",
    "            ('nota de ingreso','NOTA DE INGRESO'),\n",
    "            ('observaciones','OBSERVACIONES')\n",
    "            )\n",
    "\n",
    "    for a, b in replacements:\n",
    "        s = s.replace(a, b) \n",
    "    return s\n",
    "\n",
    "\n",
    "def translate(text):\n",
    "    ''' Esta función usa el diccionario de la bolsa de palabras\n",
    "        Para transformar un texto en una lista de numeros\n",
    "        texto -> numeros\n",
    "        \n",
    "        -----------\n",
    "        Parametros:\n",
    "        -----------\n",
    "        - text (string) : el string del texto a traducir\n",
    "         '''\n",
    "    text = text.split()\n",
    "    return [word_index.get(palabra,2) for palabra in text]\n",
    "\n",
    "\n",
    "def traductor(list_number):\n",
    "    ''' Esta función usa el diccionario de la bolsa de palabras\n",
    "        Para transformar un texto en una lista de numeros\n",
    "        numeros -> texto\n",
    "        \n",
    "        -----------\n",
    "        Parametros:\n",
    "        -----------\n",
    "        - text (string) : el string del texto a traducir\n",
    "         '''\n",
    "    return [reverse_word_index.get(numero,'?') for numero in list_number]\n",
    "\n",
    "mayusculas = ['ACTUAL', 'ANÁLISIS', 'CONSULTA', 'DE', 'DIAGNÓSTICO', 'ENFERMEDAD', 'ENFERMERIA', 'EXAMEN', 'FORMATOS', 'FORMULA', 'FÍSICO', 'INGRESO', 'INTERCONSULTAS', 'MANEJO', 'MOTIVO', 'MÉDICA', 'NOTA', 'NOTAS', 'OBSERVACIONES', 'ORDENES', 'PLAN', 'RECOMENDACIONES', 'Y', 'ÓRDENES']\n",
    "\n",
    "\n",
    "paciente = paciente.lower().replace(\"\\n\",\" \")\n",
    "paciente = agg_mayusculas(paciente)\n",
    "paciente = normalize(paciente)\n",
    "words = paciente.split(\" \")\n",
    "secciones = paciente.split('$$')"
   ]
  },
  {
   "source": [
    "# Generamos nuestra bolsa de palabras"
   ],
   "cell_type": "markdown",
   "metadata": {}
  },
  {
   "cell_type": "code",
   "execution_count": 3,
   "metadata": {},
   "outputs": [
    {
     "output_type": "stream",
     "name": "stdout",
     "text": [
      "vocabulary\n{'00': 27, '000': 28, '0000': 29, '001': 30, '01': 31, '02': 32, '03': 33, '0302': 34, '04': 35, '05': 36, '06': 37, '07': 38, '08': 39, '080': 40, '09': 41, '10': 42, '100': 43, '10000': 44, '100c0c': 45, '100cc': 46, '100mg': 47, '1045742977': 48, '10c0cde': 49, '10cc': 50, '10ccde': 51, '11': 52, '1140832488': 53, '1140848842': 54, '12': 55, '120': 56, '125mg': 57, '13': 58, '130': 59, '13013667': 60, '131036106': 61, '14': 62, '15': 63, '150': 64, '16': 65, '17': 66, '172': 67, '18': 68, '180': 69, '19': 70, '1989': 71, '1ea': 72, '1er': 73, '1era': 74, '1pi': 75, '20': 76, '200': 77, '200mg': 78, '2020': 79, '2021': 80, '21': 81, '22': 82, '2204': 83, '222000': 84, '223': 85, '23': 86, '24': 87, '248': 88, '250': 89, '2511': 90, '254': 91, '26': 92, '263': 93, '27': 94, '271': 95, '272': 96, '273': 97, '275': 98, '276': 99, '277': 100, '278': 101, '279': 102, '28': 103, '280': 104, '281': 105, '284': 106, '285': 107, '286': 108, '287': 109, '289': 110, '29': 111, '291': 112, '292': 113, '2d0': 114, '2do': 115, '30': 116, '31': 117, '3155863572': 118, '3185218372': 119, '32': 120, '33': 121, '34': 122, '357': 123, '37': 124, '38': 125, '39': 126, '40': 127, '42': 128, '44': 129, '45': 130, '4522': 131, '48': 132, '49': 133, '50': 134, '500': 135, '500cc': 136, '5060': 137, '51': 138, '52': 139, '53': 140, '54': 141, '56': 142, '57': 143, '5830': 144, '59': 145, '5c': 146, '5ml': 147, '60': 148, '6000': 149, '62': 150, '64': 151, '70': 152, '700': 153, '73': 154, '75': 155, '80': 156, '800194798': 157, '84046881': 158, '88': 159, '8ar': 160, '90': 161, 'abdomen': 162, 'abvd': 163, 'abwd': 164, 'ac': 165, 'acceso': 166, 'accion': 167, 'acepta': 168, 'acetaminofen': 169, 'acompañada': 170, 'acompañado': 171, 'acompañamiento': 172, 'acompañando': 173, 'actividad': 174, 'actual': 175, 'actualidad': 176, 'actualizacion': 177, 'adenomegalia': 178, 'adenopatia': 179, 'adenopatias': 180, 'adenopatico': 181, 'administrativos': 182, 'adriana': 183, 'advertir': 184, 'advierten': 185, 'afiliado': 186, 'ah': 187, 'ahora': 188, 'ahñeraciones': 189, 'aisladas': 190, 'al': 191, 'alanino': 192, 'alcalina': 193, 'alcohol': 194, 'alergia': 195, 'alfredo': 196, 'alta': 197, 'alteraciones': 198, 'alto': 199, 'altura': 200, 'ambulatorio': 201, 'amino': 202, 'ampolla': 203, 'amtiparkinsonianos': 204, 'antebrazos': 205, 'anteriores': 206, 'antidepresivos': 207, 'antifluido': 208, 'antisepsia': 209, 'aparatos': 210, 'aparicion': 211, 'aplica': 212, 'aplicar': 213, 'apropiada': 214, 'ars': 215, 'artiparkinsonianos': 216, 'arturo': 217, 'asepsia': 218, 'asociados': 219, 'aspartato': 220, 'atencion': 221, 'atenderlo': 222, 'audifonos': 223, 'audilonos': 224, 'auditivas': 225, 'audiwas': 226, 'augusto': 227, 'aun': 228, 'auxiliar': 229, 'avendaño': 230, 'ayuda': 231, 'añeraciones': 232, 'años': 233, 'bacca': 234, 'bajo': 235, 'barrio': 236, 'barros': 237, 'basica': 238, 'bata': 239, 'baños': 240, 'beltran': 241, 'bendamustina': 242, 'bienvenida': 243, 'blando': 244, 'ble': 245, 'bml': 246, 'bolo': 247, 'bomba': 248, 'bonnadona': 249, 'braceh': 250, 'brentuximab': 251, 'brentuximas': 252, 'brevedad': 253, 'bruce': 254, 'buen': 255, 'buena': 256, 'buenas': 257, 'bun': 258, 'c5819': 259, 'c819': 260, 'c859': 261, 'ca': 262, 'cada': 263, 'cadena': 264, 'caidas': 265, 'calle': 266, 'calzado': 267, 'camas': 268, 'camillas': 269, 'caminando': 270, 'caminar': 271, 'canaliza': 272, 'cantidad': 273, 'captacion': 274, 'captaicon': 275, 'cara': 276, 'cardio': 277, 'cardiopulmonar': 278, 'carlos': 279, 'casa': 280, 'casado': 281, 'castillo': 282, 'cateter': 283, 'cc': 284, 'central': 285, 'cerca': 286, 'cerebelo': 287, 'cervical': 288, 'cesar': 289, 'chamorro': 290, 'chistian': 291, 'ciclo': 292, 'ciclos': 293, 'cita': 294, 'civil': 295, 'clasico': 296, 'clinica': 297, 'cloruro': 298, 'codigo': 299, 'colocar': 300, 'comentarios': 301, 'comfaguajira': 302, 'como': 303, 'comodo': 304, 'comparar': 305, 'completo': 306, 'complicaciones': 307, 'comtuso': 308, 'con': 309, 'condiciones': 310, 'conglomerado': 311, 'consciente': 312, 'considero': 313, 'consulta': 314, 'continua': 315, 'continuar': 316, 'continuo': 317, 'contral': 318, 'control': 319, 'contuzo': 320, 'coronel': 321, 'cotizante': 322, 'covid': 323, 'cr': 324, 'creatinina': 325, 'criterios': 326, 'critrios': 327, 'cruz': 328, 'ct': 329, 'ctable': 330, 'cual': 331, 'cuando': 332, 'cubiculo': 333, 'cuello': 334, 'd0': 335, 'd9': 336, 'da': 337, 'dan': 338, 'dando': 339, 'de': 340, 'deambulacion': 341, 'deberes': 342, 'decretada': 343, 'dedos': 344, 'deficit': 345, 'definido': 346, 'del': 347, 'departamento': 348, 'depuracion': 349, 'derecha': 350, 'derecho': 351, 'derechos': 352, 'dermatologia': 353, 'descripcion': 354, 'descritos': 355, 'deshidrogenasa': 356, 'deuaville': 357, 'deuville': 358, 'dia': 359, 'diagnostico': 360, 'diagnóstico': 361, 'diana': 362, 'dias': 363, 'difehidramida': 364, 'difenhidramina': 365, 'diferecntes': 366, 'diferente': 367, 'dificultad': 368, 'diluida': 369, 'diluido': 370, 'direccion': 371, 'discapacidad': 372, 'disminuir': 373, 'dispositivos': 374, 'diuraticos': 375, 'diureticos': 376, 'diyraticos': 377, 'dolor': 378, 'doloroso': 379, 'dorso': 380, 'dosis': 381, 'durante': 382, 'edad': 383, 'edema': 384, 'edemas': 385, 'eduardo': 386, 'educa': 387, 'educativo': 388, 'el': 389, 'elementales': 390, 'emergencia': 391, 'empresa': 392, 'en': 393, 'endovenosos': 394, 'enfermedad': 395, 'enfermeria': 396, 'entre': 397, 'entrega': 398, 'eritrocitarios': 399, 'eritrocitos': 400, 'escala': 401, 'escucha': 402, 'esferas': 403, 'espacios': 404, 'especial': 405, 'especialista': 406, 'especificada': 407, 'especificado': 408, 'esquema': 409, 'estadio': 410, 'estado': 411, 'estricta': 412, 'estudio': 413, 'etnia': 414, 'etnico': 415, 'ev': 416, 'evacuacion': 417, 'examen': 418, 'extremidades': 419, 'facha': 420, 'fal': 421, 'familiar': 422, 'farid': 423, 'fecha': 424, 'feil': 425, 'fiebre': 426, 'final': 427, 'fisico': 428, 'fluido': 429, 'fluidos': 430, 'folio': 431, 'forma': 432, 'formatos': 433, 'formula': 434, 'fosfatasa': 435, 'frecuencia': 436, 'frenos': 437, 'fuente': 438, 'físico': 439, 'gafas': 440, 'garganta': 441, 'gb': 442, 'geetareo': 443, 'generada': 444, 'general': 445, 'generales': 446, 'gl': 447, 'glucosa': 448, 'glutamico': 449, 'gorro': 450, 'gr': 451, 'gramos': 452, 'gripa': 453, 'grupo': 454, 'guajira': 455, 'guante': 456, 'gutierrez': 457, 'hb': 458, 'hematocrito': 459, 'hemoglobina': 460, 'hemograma': 461, 'hepatica': 462, 'hernandez': 463, 'herrera': 464, 'hidrocortisona': 465, 'hijo': 466, 'hipotensores': 467, 'historia': 468, 'hmematologia': 469, 'hodgkin': 470, 'hombros': 471, 'horas': 472, 'hospital': 473, 'hosvital': 474, 'hto': 475, 'humedo': 476, 'ica': 477, 'identifica': 478, 'identifican': 479, 'importancia': 480, 'incapacidad': 481, 'incentivar': 482, 'incia': 483, 'incontinencia': 484, 'incremento': 485, 'indaga': 486, 'indetifica': 487, 'indica': 488, 'indicaciones': 489, 'indicar': 490, 'indices': 491, 'inferiores': 492, 'informarles': 493, 'infusion': 494, 'ingresa': 495, 'ingreso': 496, 'inia': 497, 'inicia': 498, 'insegura': 499, 'instala': 500, 'instalan': 501, 'interconsulta': 502, 'interconsultas': 503, 'interpretacion': 504, 'intravenoso': 505, 'inye': 506, 'inyeccio': 507, 'inyeccion': 508, 'inyecta': 509, 'ipi': 510, 'isquemia': 511, 'iv': 512, 'izquierda': 513, 'izquireda': 514, 'jarabe': 515, 'karime': 516, 'kg': 517, 'klippel': 518, 'la': 519, 'laboral': 520, 'laborales': 521, 'laboratorio': 522, 'laboratorios': 523, 'lactica': 524, 'lala': 525, 'las': 526, 'laterocervical': 527, 'laterocevical': 528, 'lava': 529, 'lavado': 530, 'lavar': 531, 'lawa': 532, 'ldh': 533, 'lentes': 534, 'levantarse': 535, 'leve': 536, 'linea': 537, 'linfoma': 538, 'liquidos': 539, 'll': 540, 'lo': 541, 'loh': 542, 'los': 543, 'ls': 544, 'luis': 545, 'm2': 546, 'maicao': 547, 'malestar': 548, 'manifiesta': 549, 'manilla': 550, 'mano': 551, 'manos': 552, 'mantener': 553, 'mas': 554, 'masas': 555, 'masculino': 556, 'mayor': 557, 'mañana': 558, 'me265': 559, 'mediano': 560, 'mediastinal': 561, 'mediastinales': 562, 'medicamentos': 563, 'medicamentost': 564, 'medicina': 565, 'medico': 566, 'medidas': 567, 'medio': 568, 'medios': 569, 'mejoria': 570, 'mematologia': 571, 'menar': 572, 'menor': 573, 'mental': 574, 'mes': 575, 'metabolica': 576, 'mg': 577, 'miembros': 578, 'miligramos': 579, 'ministerio': 580, 'minutos': 581, 'mis': 582, 'ml': 583, 'molestia': 584, 'montenegro': 585, 'moreno': 586, 'motivo': 587, 'movil': 588, 'movilizacion': 589, 'municipio': 590, 'médica': 591, 'nacimiento': 592, 'necesite': 593, 'nerwioso': 594, 'neutropenia': 595, 'neutroperta': 596, 'ni': 597, 'niega': 598, 'ninguna': 599, 'ninguno': 600, 'nitrogeno': 601, 'nivel': 602, 'niveles': 603, 'nmguno': 604, 'no': 605, 'nodeambula': 606, 'noo': 607, 'normal': 608, 'nota': 609, 'notas': 610, 'noviembre': 611, 'ns': 612, 'nucleo': 613, 'nueva': 614, 'nuevo': 615, 'numero': 616, 'observa': 617, 'observaciones': 618, 'obtenido': 619, 'ocupacion': 620, 'ocupacional': 621, 'ocupaciones': 622, 'oncologia': 623, 'ondansetaon': 624, 'ondansetron': 625, 'onopedicos': 626, 'oprles': 627, 'oral': 628, 'orden': 629, 'ordena': 630, 'ordenada': 631, 'ordenes': 632, 'organizacion': 633, 'orientado': 634, 'orina': 635, 'ortopedicos': 636, 'otras': 637, 'otro': 638, 'otros': 639, 'oxalacetica': 640, 'pacienbte': 641, 'paciente': 642, 'pacientes': 643, 'pacierne': 644, 'paclerñe': 645, 'pag': 646, 'pal': 647, 'palpacion': 648, 'palpan': 649, 'pandemia': 650, 'para': 651, 'parentesco': 652, 'parestesias': 653, 'parte': 654, 'partir': 655, 'pasar': 656, 'patricia': 657, 'peligros': 658, 'pendiente': 659, 'pera': 660, 'persistencia': 661, 'personal': 662, 'peso': 663, 'pet': 664, 'pezones': 665, 'pgp': 666, 'piel': 667, 'pigmentada': 668, 'piruvica': 669, 'piruwvica': 670, 'pl': 671, 'plan': 672, 'plantean': 673, 'plaq': 674, 'plastron': 675, 'poblacional': 676, 'pofbermatologia': 677, 'pofsalud': 678, 'polvo': 679, 'pophematologia': 680, 'por': 681, 'porcentaje': 682, 'pormematologia': 683, 'posible': 684, 'posibles': 685, 'posox': 686, 'posqx': 687, 'prcal': 688, 'pregabalina': 689, 'premedicacion': 690, 'preneir': 691, 'presenta': 692, 'presentandole': 693, 'prevenir': 694, 'previa': 695, 'previas': 696, 'previo': 697, 'primera': 698, 'principal': 699, 'problemas': 700, 'procedimiento': 701, 'procedimientos': 702, 'promover': 703, 'propios': 704, 'proteccion': 705, 'proteinas': 706, 'proteinuria': 707, 'protocolo': 708, 'proveniente': 709, 'pulmonar': 710, 'punsion': 711, 'puntaje': 712, 'que': 713, 'quimica': 714, 'quimioterapia': 715, 'quirurgico': 716, 'qw': 717, 'realiza': 718, 'realizada': 719, 'realizar': 720, 'recalcando': 721, 'recibe': 722, 'recibio': 723, 'reciente': 724, 'recuento': 725, 'reducida': 726, 'refiere': 727, 'refractario': 728, 'refuerzo': 729, 'reg': 730, 'relacion': 731, 'relacionado': 732, 'ren': 733, 'rescate': 734, 'resolucion': 735, 'respectiva': 736, 'responsable': 737, 'restrepo': 738, 'resultados': 739, 'retira': 740, 'retorno': 741, 'rhscihfch': 742, 'riesgo': 743, 'riesgos': 744, 'rodriguez': 745, 'romero': 746, 'rr': 747, 's00ml': 748, 's5somg': 749, 'sale': 750, 'salida': 751, 'salina': 752, 'salud': 753, 'sanguineo': 754, 'sanitaria': 755, 'santa': 756, 'score': 757, 'se': 758, 'secuela': 759, 'secundaria': 760, 'sedantes': 761, 'sede': 762, 'segregacion': 763, 'segun': 764, 'segura': 765, 'seguridad': 766, 'seguro': 767, 'semanas': 768, 'sensibilidad': 769, 'sensorial': 770, 'sera': 771, 'serica': 772, 'servicio': 773, 'sesion': 774, 'severa': 775, 'sexo': 776, 'si': 777, 'significatica': 778, 'signo': 779, 'siguientes': 780, 'sillas': 781, 'simetricos': 782, 'sin': 783, 'sindrome': 784, 'sintomas': 785, 'sistema': 786, 'slp': 787, 'so0ml': 788, 'sobre': 789, 'sodio': 790, 'sodml': 791, 'solcuion': 792, 'solicita': 793, 'solicitar': 794, 'solucion': 795, 'somg': 796, 'sooml': 797, 'ssn': 798, 'su': 799, 'subsidiado': 800, 'suelo': 801, 'suero': 802, 'superando': 803, 'sus': 804, 'suspendio': 805, 'tab': 806, 'tableta': 807, 'tales': 808, 'talla': 809, 'tanto': 810, 'tapabocas': 811, 'tc': 812, 'teleconsulta': 813, 'telefono': 814, 'temas': 815, 'tendido': 816, 'ter': 817, 'termina': 818, 'tg': 819, 'tgo': 820, 'tgp': 821, 'tin': 822, 'tipo': 823, 'tobillos': 824, 'tolerancia': 825, 'tomar': 826, 'torax': 827, 'tos': 828, 'toxic': 829, 'toxich': 830, 'toxici': 831, 'tranquiizamtes': 832, 'tranquiizamtos': 833, 'transaminasa': 834, 'transferasa': 835, 'traslado': 836, 'traslados': 837, 'tratamiento': 838, 'tres': 839, 'trombocitopenia': 840, 'tumor': 841, 'ubica': 842, 'un': 843, 'unica': 844, 'ureico': 845, 'urico': 846, 'uso': 847, 'usuario': 848, 'valoracion': 849, 'variables': 850, 'vedotina': 851, 'vena': 852, 'venoclisis': 853, 'venoso': 854, 'verificar': 855, 'vertigo': 856, 'via': 857, 'vial': 858, 'vigil': 859, 'visceromegalias': 860, 'visor': 861, 'vista': 862, 'visuales': 863, 'vo': 864, 'warner': 865, 'wenoclisis': 866, 'órdenes': 867, '<PAD>': 0, '<START>': 1, '<UNK>': 2, '<UNUSED>': 3, 'ACTUAL': 3, 'ANÁLISIS': 4, 'CONSULTA': 5, 'DE': 6, 'DIAGNÓSTICO': 7, 'ENFERMEDAD': 8, 'ENFERMERIA': 9, 'EXAMEN': 10, 'FORMATOS': 11, 'FORMULA': 12, 'FÍSICO': 13, 'INGRESO': 14, 'INTERCONSULTAS': 15, 'MANEJO': 16, 'MOTIVO': 17, 'MÉDICA': 18, 'NOTA': 19, 'NOTAS': 20, 'OBSERVACIONES': 21, 'ORDENES': 22, 'PLAN': 23, 'RECOMENDACIONES': 24, 'Y': 25, 'ÓRDENES': 26}\n"
     ]
    }
   ],
   "source": [
    "Bag = cv.fit(words)\n",
    "print('vocabulary')\n",
    "#print(sorted(Bag.vocabulary_.items()))\n",
    "# ahroa haremos un diccionario con las palabras\n",
    "word_index = {k:(v+len(mayusculas)+3) for k,v in sorted(Bag.vocabulary_.items())}\n",
    "# El diccionario lo empezamos en v+3 \n",
    "# para que las 4 primeras sean caracteres especiales\n",
    "\n",
    "# Los caracteres especiales serán \n",
    "word_index[\"<PAD>\"] = 0\n",
    "word_index[\"<START>\"] = 1\n",
    "word_index[\"<UNK>\"] = 2\n",
    "word_index[\"<UNUSED>\"] = 3\n",
    "for mayuscula in range(len(mayusculas)):\n",
    "    word_index[mayusculas[mayuscula]] = mayuscula+3\n",
    "\n",
    "reverse_word_index = dict([(value,key) for (key,value) in word_index.items()])\n",
    "print(word_index)"
   ]
  },
  {
   "source": [
    "# Entrenamiento de la red neuronal "
   ],
   "cell_type": "markdown",
   "metadata": {}
  },
  {
   "cell_type": "code",
   "execution_count": 6,
   "metadata": {},
   "outputs": [],
   "source": [
    "import tensorflow as tf"
   ]
  },
  {
   "cell_type": "code",
   "execution_count": 7,
   "metadata": {},
   "outputs": [],
   "source": [
    "secciones_n = []\n",
    "for sec in secciones:\n",
    "    seccion = translate(sec)\n",
    "    secciones_n.append(seccion)"
   ]
  },
  {
   "cell_type": "code",
   "execution_count": 8,
   "metadata": {},
   "outputs": [],
   "source": [
    "secciones_n = tf.keras.preprocessing.sequence.pad_sequences(secciones_n,\n",
    "                                                     value= word_index[\"<PAD>\"],\n",
    "                                                     padding=\"post\",\n",
    "                                                     maxlen= 3000 )"
   ]
  },
  {
   "cell_type": "code",
   "execution_count": 62,
   "metadata": {},
   "outputs": [
    {
     "output_type": "stream",
     "name": "stdout",
     "text": [
      "DIAGNÓSTICO c819 enfermedad de hodgkin no especificada tipo principal \n"
     ]
    }
   ],
   "source": [
    "print(secciones[3])"
   ]
  },
  {
   "cell_type": "code",
   "execution_count": 1,
   "metadata": {},
   "outputs": [
    {
     "output_type": "error",
     "ename": "NameError",
     "evalue": "name 'secciones' is not defined",
     "traceback": [
      "\u001b[0;31m---------------------------------------------------------------------------\u001b[0m",
      "\u001b[0;31mNameError\u001b[0m                                 Traceback (most recent call last)",
      "\u001b[0;32m<ipython-input-1-df587d2eb168>\u001b[0m in \u001b[0;36m<module>\u001b[0;34m\u001b[0m\n\u001b[1;32m      1\u001b[0m \u001b[0mdiagnosticos\u001b[0m \u001b[0;34m=\u001b[0m \u001b[0;34m[\u001b[0m\u001b[0;34m]\u001b[0m\u001b[0;34m\u001b[0m\u001b[0;34m\u001b[0m\u001b[0m\n\u001b[0;32m----> 2\u001b[0;31m \u001b[0;32mfor\u001b[0m \u001b[0mseccion\u001b[0m \u001b[0;32min\u001b[0m \u001b[0msecciones\u001b[0m\u001b[0;34m:\u001b[0m\u001b[0;34m\u001b[0m\u001b[0;34m\u001b[0m\u001b[0m\n\u001b[0m\u001b[1;32m      3\u001b[0m     \u001b[0;32mif\u001b[0m \u001b[0;34m'ENFERMEDAD ACTUAL'\u001b[0m \u001b[0;32min\u001b[0m \u001b[0mseccion\u001b[0m\u001b[0;34m:\u001b[0m\u001b[0;34m\u001b[0m\u001b[0;34m\u001b[0m\u001b[0m\n\u001b[1;32m      4\u001b[0m         \u001b[0mdiagnosticos\u001b[0m\u001b[0;34m.\u001b[0m\u001b[0mappend\u001b[0m\u001b[0;34m(\u001b[0m\u001b[0mseccion\u001b[0m\u001b[0;34m)\u001b[0m\u001b[0;34m\u001b[0m\u001b[0;34m\u001b[0m\u001b[0m\n",
      "\u001b[0;31mNameError\u001b[0m: name 'secciones' is not defined"
     ]
    }
   ],
   "source": [
    "diagnosticos = []\n",
    "for seccion in secciones:\n",
    "    if 'ENFERMEDAD ACTUAL' in seccion:\n",
    "        diagnosticos.append(seccion)"
   ]
  },
  {
   "cell_type": "code",
   "execution_count": 64,
   "metadata": {},
   "outputs": [
    {
     "output_type": "execute_result",
     "data": {
      "text/plain": [
       "['DIAGNÓSTICO c819 enfermedad de hodgkin no especificada tipo principal ',\n",
       " 'DIAGNÓSTICO c819 enfermedad de hodgkin no especificada tipo principal ',\n",
       " 'DIAGNÓSTICO 2511 sesion de quimioterapia por tumor tipo relacionado  oprles a bruce ah.  carlos arturo bacca herrera reg. 1140832488 medicina general     sede de atencion: 001 sede unica edad : 52 años     ==>folio 281 — fecha 18/03/2021 15:12:19 tipo de atencion ambulatorio     ',\n",
       " 'DIAGNÓSTICO c819 enfermedad de hodgkin no especificada tipo principal ',\n",
       " 'DIAGNÓSTICO c5819 enfermedad de hodgkin no especificada tipo principal ',\n",
       " 'DIAGNÓSTICO c859 linfoma no hodgkin no especificado tipo principal ']"
      ]
     },
     "metadata": {},
     "execution_count": 64
    }
   ],
   "source": []
  },
  {
   "cell_type": "code",
   "execution_count": null,
   "metadata": {},
   "outputs": [],
   "source": []
  }
 ]
}