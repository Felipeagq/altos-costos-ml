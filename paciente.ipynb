{
 "metadata": {
  "language_info": {
   "codemirror_mode": {
    "name": "ipython",
    "version": 3
   },
   "file_extension": ".py",
   "mimetype": "text/x-python",
   "name": "python",
   "nbconvert_exporter": "python",
   "pygments_lexer": "ipython3",
   "version": "3.8.5"
  },
  "orig_nbformat": 2,
  "kernelspec": {
   "name": "python3",
   "display_name": "Python 3",
   "language": "python"
  }
 },
 "nbformat": 4,
 "nbformat_minor": 2,
 "cells": [
  {
   "source": [
    "# Aspectos a considerar del software\n",
    "- Si los datos requeridos no estan el los folios suministrados, estos no se llenarán."
   ],
   "cell_type": "markdown",
   "metadata": {}
  },
  {
   "cell_type": "code",
   "execution_count": 56,
   "metadata": {},
   "outputs": [],
   "source": [
    "import json\n",
    "file = open(\"dic_1.json\",)\n",
    "dic = json.load(file)"
   ]
  },
  {
   "source": [
    "# Diagnostico 17"
   ],
   "cell_type": "markdown",
   "metadata": {}
  },
  {
   "cell_type": "code",
   "execution_count": 57,
   "metadata": {},
   "outputs": [],
   "source": [
    "def _17(folios,dic):\n",
    "    here = []\n",
    "    for folio in range(len(folios)):\n",
    "        if '$$DIAGNÓSTICO' in folios[folio]:\n",
    "            here.append(folio)\n",
    "    ultimo = max(here)\n",
    "    fragmento = aux(folios[ultimo],\"$$DIAGNÓSTICO\")\n",
    "    for valor in dic['17'].values():\n",
    "        if valor in fragmento:\n",
    "            variable = valor\n",
    "            print(variable)\n",
    "        else:\n",
    "            variable = None\n",
    "    return variable"
   ]
  },
  {
   "cell_type": "code",
   "execution_count": 6,
   "metadata": {},
   "outputs": [
    {
     "output_type": "error",
     "ename": "NameError",
     "evalue": "name 'folios' is not defined",
     "traceback": [
      "\u001b[0;31m---------------------------------------------------------------------------\u001b[0m",
      "\u001b[0;31mNameError\u001b[0m                                 Traceback (most recent call last)",
      "\u001b[0;32m<ipython-input-6-1dd6d260c721>\u001b[0m in \u001b[0;36m<module>\u001b[0;34m\u001b[0m\n\u001b[0;32m----> 1\u001b[0;31m \u001b[0m_17\u001b[0m\u001b[0;34m(\u001b[0m\u001b[0mfolios\u001b[0m\u001b[0;34m,\u001b[0m\u001b[0mdic\u001b[0m\u001b[0;34m)\u001b[0m\u001b[0;34m\u001b[0m\u001b[0;34m\u001b[0m\u001b[0m\n\u001b[0m",
      "\u001b[0;31mNameError\u001b[0m: name 'folios' is not defined"
     ]
    }
   ],
   "source": []
  },
  {
   "source": [
    "# Fecha de Diagnóstico del Cáncer reportado 18\n",
    "- Necesito HC con los que pueda llenar este campo."
   ],
   "cell_type": "markdown",
   "metadata": {}
  },
  {
   "cell_type": "code",
   "execution_count": 58,
   "metadata": {},
   "outputs": [
    {
     "output_type": "execute_result",
     "data": {
      "text/plain": [
       "[None]"
      ]
     },
     "metadata": {},
     "execution_count": 58
    }
   ],
   "source": [
    "lista_eliminar = ['patologia', 'enfermedad actual','de patologia','fecha','biopsia','patologia.','cancer de vejiga','desde abril 2009 ','-mamografia bilateral','na','hace , 10 años','cuadrantectomia','ap','cancer cervical hace 13 años','desde hace , mas de 5 años','linfoma']\n",
    "[dic['18'].pop(key,None) for key in lista_eliminar]\n",
    "\n",
    "lista_agregar = ['desde hace']\n",
    "[dic['18'].update({key:None}) for key in lista_agregar]\n"
   ]
  },
  {
   "cell_type": "code",
   "execution_count": 59,
   "metadata": {},
   "outputs": [],
   "source": [
    "#separar por token word, luego escoger la fecha\n",
    "\n",
    "def _18(folios,dic):\n",
    "    for folio in range(len(folios)):\n",
    "        for valor in dic['18'].keys():\n",
    "            if valor in folios[folio]:\n",
    "                variable = valor\n",
    "                print(variable)\n",
    "            else:\n",
    "                variable = None\n",
    "        #print('Ninguna coincidencia encontrada')\n",
    "    if variable:\n",
    "        return variable\n",
    "    print('Ninguna coincidencia encontrada')\n",
    "    variable = \"1800-01-01\"\n",
    "    return variable"
   ]
  },
  {
   "cell_type": "code",
   "execution_count": 16,
   "metadata": {},
   "outputs": [
    {
     "output_type": "error",
     "ename": "NameError",
     "evalue": "name 'folios' is not defined",
     "traceback": [
      "\u001b[0;31m---------------------------------------------------------------------------\u001b[0m",
      "\u001b[0;31mNameError\u001b[0m                                 Traceback (most recent call last)",
      "\u001b[0;32m<ipython-input-16-a632c6c233e4>\u001b[0m in \u001b[0;36m<module>\u001b[0;34m\u001b[0m\n\u001b[0;32m----> 1\u001b[0;31m \u001b[0m_18\u001b[0m\u001b[0;34m(\u001b[0m\u001b[0mfolios\u001b[0m\u001b[0;34m,\u001b[0m\u001b[0mdic\u001b[0m\u001b[0;34m)\u001b[0m\u001b[0;34m\u001b[0m\u001b[0;34m\u001b[0m\u001b[0m\n\u001b[0m",
      "\u001b[0;31mNameError\u001b[0m: name 'folios' is not defined"
     ]
    }
   ],
   "source": []
  },
  {
   "source": [
    "# Fecha de la nota de remisión del médico o institución general hacia la institución que hizo el diagnóstico 19 "
   ],
   "cell_type": "markdown",
   "metadata": {}
  },
  {
   "cell_type": "code",
   "execution_count": 60,
   "metadata": {},
   "outputs": [
    {
     "output_type": "execute_result",
     "data": {
      "text/plain": [
       "[None, None, None, None, None, None]"
      ]
     },
     "metadata": {},
     "execution_count": 60
    }
   ],
   "source": [
    "lista_eliminar = ['ecografia','ecografia mamaria','n','colonoscopipa total bajo sedacion','eco tv','ecografia mamaria bilateral','mamografia bilateral','bacaf de tiroides','mamografia','mamograsfia con reporte','na','fecha','ecografia maamria con reporte de','se realiza una ecografia maamria bilateral','ecogarfia mamaria','ecografi abodminal','hematopecia dese']\n",
    "[dic['19'].pop(key,None) for key in lista_eliminar]\n",
    "\n",
    "lista_agregar = ['remitido el','trasladado el','mamograsfia con reporte','ecografia mamaria con reporte de','hematopecia desde','se realiza una ecografia mamaria bilateral']\n",
    "[dic['19'].update({key:None}) for key in lista_agregar]"
   ]
  },
  {
   "cell_type": "code",
   "execution_count": 61,
   "metadata": {},
   "outputs": [],
   "source": [
    "def _19(folios,dic):\n",
    "    for folio in range(len(folios)):\n",
    "        for valor in dic['19'].keys():\n",
    "            if valor in folios[folio]:\n",
    "                variable = valor\n",
    "                print(variable)\n",
    "            else:\n",
    "                variable = None\n",
    "        #print('Ninguna coincidencia encontrada')\n",
    "    if variable:\n",
    "        return variable\n",
    "    print('Ninguna coincidencia encontrada')\n",
    "    variable = \"1800-01-01\"\n",
    "    return variable"
   ]
  },
  {
   "cell_type": "code",
   "execution_count": 24,
   "metadata": {},
   "outputs": [
    {
     "output_type": "error",
     "ename": "NameError",
     "evalue": "name 'folios' is not defined",
     "traceback": [
      "\u001b[0;31m---------------------------------------------------------------------------\u001b[0m",
      "\u001b[0;31mNameError\u001b[0m                                 Traceback (most recent call last)",
      "\u001b[0;32m<ipython-input-24-fe9ea07ce6a8>\u001b[0m in \u001b[0;36m<module>\u001b[0;34m\u001b[0m\n\u001b[0;32m----> 1\u001b[0;31m \u001b[0m_19\u001b[0m\u001b[0;34m(\u001b[0m\u001b[0mfolios\u001b[0m\u001b[0;34m,\u001b[0m\u001b[0mdic\u001b[0m\u001b[0;34m)\u001b[0m\u001b[0;34m\u001b[0m\u001b[0;34m\u001b[0m\u001b[0m\n\u001b[0m",
      "\u001b[0;31mNameError\u001b[0m: name 'folios' is not defined"
     ]
    }
   ],
   "source": []
  },
  {
   "source": [
    "# Fecha de ingreso a la institución que realizó el diagnóstico luego de la remisión intenconsulta 20"
   ],
   "cell_type": "markdown",
   "metadata": {}
  },
  {
   "cell_type": "code",
   "execution_count": 62,
   "metadata": {},
   "outputs": [
    {
     "output_type": "execute_result",
     "data": {
      "text/plain": [
       "[None, None, None, None, None, None]"
      ]
     },
     "metadata": {},
     "execution_count": 62
    }
   ],
   "source": [
    "lista_eliminar = ['ecografia','ecografia mamaria','n','colonoscopipa total bajo sedacion','eco tv','ecografia mamaria bilateral','mamografia bilateral','bacaf de tiroides','mamografia','mamograsfia con reporte','na','fecha','ecografia maamria con reporte de','se realiza una ecografia maamria bilateral','ecogarfia mamaria','ecografi abodminal','hematopecia dese','n','biopsia','biopsia de mama','istmectomia','biopsia de mama izquierda','biopsia de mama bilateral']\n",
    "[dic['20'].pop(key,None) for key in lista_eliminar]\n",
    "\n",
    "lista_agregar = ['remitido el','trasladado el','mamograsfia con reporte','ecografia mamaria con reporte de','hematopecia desde','se realiza una ecografia mamaria bilateral']\n",
    "[dic['20'].update({key:None}) for key in lista_agregar]"
   ]
  },
  {
   "cell_type": "code",
   "execution_count": 63,
   "metadata": {},
   "outputs": [],
   "source": [
    "# si la variable 19 es \"1800-01-01\" esta tambien lo será\n",
    "\n",
    "def _20(folios,dic):\n",
    "    for folio in range(len(folios)):\n",
    "        for valor in dic['20'].keys():\n",
    "            if valor in folios[folio]:\n",
    "                variable = valor\n",
    "                print(variable)\n",
    "            else:\n",
    "                variable = None\n",
    "        #print('Ninguna coincidencia encontrada')\n",
    "    if variable:\n",
    "        return variable\n",
    "    print('Ninguna coincidencia encontrada')\n",
    "    variable = \"1800-01-01\"\n",
    "    return variable"
   ]
  },
  {
   "cell_type": "code",
   "execution_count": 33,
   "metadata": {},
   "outputs": [
    {
     "output_type": "error",
     "ename": "NameError",
     "evalue": "name 'folios' is not defined",
     "traceback": [
      "\u001b[0;31m---------------------------------------------------------------------------\u001b[0m",
      "\u001b[0;31mNameError\u001b[0m                                 Traceback (most recent call last)",
      "\u001b[0;32m<ipython-input-33-24e1a9d6c6d8>\u001b[0m in \u001b[0;36m<module>\u001b[0;34m\u001b[0m\n\u001b[0;32m----> 1\u001b[0;31m \u001b[0m_20\u001b[0m\u001b[0;34m(\u001b[0m\u001b[0mfolios\u001b[0m\u001b[0;34m,\u001b[0m\u001b[0mdic\u001b[0m\u001b[0;34m)\u001b[0m\u001b[0;34m\u001b[0m\u001b[0;34m\u001b[0m\u001b[0m\n\u001b[0m",
      "\u001b[0;31mNameError\u001b[0m: name 'folios' is not defined"
     ]
    }
   ],
   "source": []
  },
  {
   "source": [
    "# Tipo de estudio con el que se realizó el diagnóstico de cáncer 21"
   ],
   "cell_type": "markdown",
   "metadata": {}
  },
  {
   "cell_type": "code",
   "execution_count": 64,
   "metadata": {},
   "outputs": [],
   "source": [
    "lista_eliminar = ['na','n','ap','linfoma ','linfoma no hodgkin','linfoma no hodgkin','linfoma']\n",
    "[dic['21'].pop(key,None) for key in lista_eliminar]\n",
    "\n",
    "lista_agregar = []\n",
    "[dic['21'].update({key:None}) for key in lista_agregar]\n",
    "\n",
    "agregar  = {\n",
    "    \"Inmunohistoquímica\":'5',\n",
    "    \"Citometría de flujo\":'6',\n",
    "    \"Clínica exclusivamente\":'7',\n",
    "    \"Otro\":'8',\n",
    "    \"Genética\":'9',\n",
    "    \"Patología básica\":'10',\n",
    "    \"Desconocido\":'99',\n",
    "    \"Persona con aseguramiento\":'55'\n",
    "}\n",
    "\n",
    "dic['21'].update(agregar)"
   ]
  },
  {
   "cell_type": "code",
   "execution_count": 65,
   "metadata": {},
   "outputs": [],
   "source": [
    "def _21(folios,dic):\n",
    "    for folio in range(len(folios)):\n",
    "        for valor in dic['21'].keys():\n",
    "            if valor in folios[folio]:\n",
    "                variable = dic['21'][valor]\n",
    "                print(valor,variable)\n",
    "            else:\n",
    "                variable = None\n",
    "        #print('Ninguna coincidencia encontrada')\n",
    "    if variable:\n",
    "        return variable\n",
    "    print('Ninguna coincidencia encontrada')\n",
    "    variable = \"99\"\n",
    "    return variable"
   ]
  },
  {
   "cell_type": "code",
   "execution_count": 55,
   "metadata": {},
   "outputs": [
    {
     "output_type": "error",
     "ename": "NameError",
     "evalue": "name 'folios' is not defined",
     "traceback": [
      "\u001b[0;31m---------------------------------------------------------------------------\u001b[0m",
      "\u001b[0;31mNameError\u001b[0m                                 Traceback (most recent call last)",
      "\u001b[0;32m<ipython-input-55-333791b91143>\u001b[0m in \u001b[0;36m<module>\u001b[0;34m\u001b[0m\n\u001b[0;32m----> 1\u001b[0;31m \u001b[0m_21\u001b[0m\u001b[0;34m(\u001b[0m\u001b[0mfolios\u001b[0m\u001b[0;34m,\u001b[0m\u001b[0mdic\u001b[0m\u001b[0;34m)\u001b[0m\u001b[0;34m\u001b[0m\u001b[0;34m\u001b[0m\u001b[0m\n\u001b[0m",
      "\u001b[0;31mNameError\u001b[0m: name 'folios' is not defined"
     ]
    }
   ],
   "source": []
  },
  {
   "source": [
    "# Motivo por el cual el usuario no tuvo diagnóstico por histopatología a la fecha de corte (aplica para registros con respuesta igual a 7 en la variable anterior) 22"
   ],
   "cell_type": "markdown",
   "metadata": {}
  },
  {
   "cell_type": "code",
   "execution_count": 66,
   "metadata": {},
   "outputs": [],
   "source": [
    "def _22():\n",
    "    ''' es un valor predeterminado'''\n",
    "    variable = 98\n",
    "    return variable"
   ]
  },
  {
   "source": [
    "# Fecha de recolección de muestra para estudio histopatológico de diagnóstico 23"
   ],
   "cell_type": "markdown",
   "metadata": {}
  },
  {
   "cell_type": "code",
   "execution_count": 67,
   "metadata": {},
   "outputs": [],
   "source": [
    "def _23(folios,dic):\n",
    "    for folio in range(len(folios)):\n",
    "        for valor in dic['23'].keys():\n",
    "            if valor in folios[folio]:\n",
    "                variable = dic['23'][valor]\n",
    "                print(valor,variable)\n",
    "            else:\n",
    "                variable = None\n",
    "        #print('Ninguna coincidencia encontrada')\n",
    "    if variable:\n",
    "        return variable\n",
    "    print('Ninguna coincidencia encontrada')\n",
    "    variable = \"1800-01-01\"\n",
    "    return variable"
   ]
  },
  {
   "cell_type": "code",
   "execution_count": null,
   "metadata": {},
   "outputs": [],
   "source": []
  },
  {
   "source": [
    "# Fecha de Primero o único informe histopatológico válido de diagnóstico 24"
   ],
   "cell_type": "markdown",
   "metadata": {}
  },
  {
   "cell_type": "code",
   "execution_count": 68,
   "metadata": {},
   "outputs": [],
   "source": [
    "#_24 = __18"
   ]
  },
  {
   "source": [
    "# Código válido de habilitación de la IPS donde se realiza la confirmación diagnóstica 25"
   ],
   "cell_type": "markdown",
   "metadata": {}
  },
  {
   "cell_type": "code",
   "execution_count": 70,
   "metadata": {},
   "outputs": [
    {
     "output_type": "execute_result",
     "data": {
      "text/plain": [
       "{'na': '80010054401',\n",
       " 'venezuela': '96',\n",
       " 'procedimiento “biopsia de prostata”': '80010054401',\n",
       " 'estudio inmunohistoquimica biopsia de ganglio linfatico, dra. maria viloria, maracaibo/ venezuela': '96',\n",
       " 'fue diagnisticaca en venezuela': '96',\n",
       " 'para procedimiento “biopsia de prostata”': '80010054401',\n",
       " 'ingresa paciente al servicio de cirugia procedente': '80010054401',\n",
       " 'cirugia oncologica ( gerardo torres) en venezuela': '96',\n",
       " 'cancer de ovario cx radical + qt, finaliza en sep-19, venezuela': '96',\n",
       " 'se extrae muestra para patologia': '80010054401',\n",
       " 'ambulatorio': '80010054401',\n",
       " 'hospitalizacion': '80010054401',\n",
       " 'biopsia de mama bilateral': '80010054401',\n",
       " 'biopsia de prostata': '80010054401'}"
      ]
     },
     "metadata": {},
     "execution_count": 70
    }
   ],
   "source": [
    "# se tiene que inferir \n",
    "\n",
    "lista_eliminar = ['na','venezuela',]\n",
    "[dic['21'].pop(key,None) for key in lista_eliminar]\n",
    "\n",
    "lista_agregar = []\n",
    "[dic['21'].update({key:None}) for key in lista_agregar]\n",
    "\n",
    "def _25(folio,dic):\n",
    "    return \"80010054401\"\n",
    "\n",
    "dic['25']"
   ]
  },
  {
   "source": [
    "# Fecha de primera consulta con médico tratante de la enfermedad maligna (médico especialista que define la primera conducta terapéutica-terapia sistémica, cirugía , radioterapia o cuidado paliativos- manejo expectante) 26"
   ],
   "cell_type": "markdown",
   "metadata": {}
  },
  {
   "cell_type": "code",
   "execution_count": null,
   "metadata": {},
   "outputs": [],
   "source": [
    "def _26(folios):\n",
    "    for folio in folios:\n",
    "        frag = aux_reg(folio,'reg. ')\n",
    "        if 'oncologia' in frag:\n",
    "            start = folio.find('fecha') + 6\n",
    "            end = start + 10\n",
    "            return folio[start:end]\n",
    "        else:\n",
    "            return \"1800-01-01\"\n",
    "    "
   ]
  },
  {
   "cell_type": "code",
   "execution_count": null,
   "metadata": {},
   "outputs": [],
   "source": [
    "_26(folio)"
   ]
  },
  {
   "source": [
    "# Histología del tumor en muestra de biopsia o quirúrgica 27"
   ],
   "cell_type": "markdown",
   "metadata": {}
  },
  {
   "cell_type": "code",
   "execution_count": 71,
   "metadata": {},
   "outputs": [],
   "source": [
    "lista_eliminar = ['na','n','ap','linfoma ','el reporte biopsia de mama derecha','fecha','biopsia','patologia','patologia','cirugia','carcinoma','carcinoma ','ca de mama','tumor']\n",
    "[dic['27'].pop(key,None) for key in lista_eliminar]\n",
    "\n",
    "lista_agregar = ['el reporte biopsia', 'dx en','años de evolucion']\n",
    "[dic['27'].update({key:None}) for key in lista_agregar]\n",
    "\n",
    "t_27 = { # enfermedad actual\n",
    "    \"adenocarcinoma\":1,\n",
    "    \"carcinoma escamocelular\":2,\n",
    "    \"carcinoma de células basales\":3,\n",
    "    \"carcinoma diferente\":4,\n",
    "    \"oligodendroglioma\":5,\n",
    "    \"astrocitoma\":6,\n",
    "    \"ependimoma\":7,\n",
    "    \"neuroblastoma\":8,\n",
    "    \"meduloblastoma\":9,\n",
    "    \"hepatoblastoma\":10,\n",
    "    \"rabdomiosarcoma\":11,\n",
    "    \"leiomiosarcoma\":12,\n",
    "    \"osteosarcoma\":13,\n",
    "    \"fibrosarcoma\":14,\n",
    "    \"angiosarcoma\":15,\n",
    "    \"condrosarcoma\":16,\n",
    "    \"otros sarcomas\":17,\n",
    "    \"pancreatoblastoma\":18,\n",
    "    \"blastoma pleuropulmonar\":19,\n",
    "    \"otros tipos histológicos no mencionados\":20,\n",
    "    \"melanoma\":21,\n",
    "    \"carcinoma papilar de tiroides\":24,\n",
    "    \"persona con aseguramiento\":25,\n",
    "    \"no se realizó estudio histopatológico\":98\n",
    "}\n",
    "\n",
    "dic['27'].update(t_27)\n",
    "\n",
    "# una lista y marcar la moda como el return \n",
    "\n",
    "def _27(folios,dic):\n",
    "    variable = None\n",
    "    for folio in folios:\n",
    "        for llave in dic['27'].keys():\n",
    "            if llave in folio:\n",
    "                variable = llave\n",
    "                print(variable, dic['27'][llave])\n",
    "    if variable == None:\n",
    "        return dic[\"Otros tipos histológicos no mencionados\"]"
   ]
  },
  {
   "cell_type": "code",
   "execution_count": 72,
   "metadata": {},
   "outputs": [
    {
     "output_type": "execute_result",
     "data": {
      "text/plain": [
       "{'adenocarcinoma ductal infiltrante': '1',\n",
       " 'carcinoma escamocelular': 2,\n",
       " 'sugestivo de  carcinoma': '4',\n",
       " 'carcinoma acinar': '4',\n",
       " 'adenocarcinoma': 1,\n",
       " 'carcinoma ductal infiltrante': '4',\n",
       " 'carcinoma escamosceluual': '2',\n",
       " 'carcinoma infiltrativo': '4',\n",
       " 'adenocarcinoma acinar': '1',\n",
       " 'carcinoma de celulas renales': '4',\n",
       " 'cancer de ovario': '4',\n",
       " 'carcinoma papilar de tiroides': 24,\n",
       " 'adenocarcinoma endoemtrioide': '1',\n",
       " 'carcinoma escamocelular ': '2',\n",
       " 'escamocelular': '2',\n",
       " 'carcinoma infiltrante': '4',\n",
       " 'cistoadenocarcinoma de ovario': '1',\n",
       " 'seminoma clasico': '4',\n",
       " 'carcinoma infiltrante de tipo no especial': '4',\n",
       " 'carcinoma ductal': '4',\n",
       " 'carcinoma epidermoide': '2',\n",
       " 'ca de prostata': '4',\n",
       " 'carcinoma de celuasl escamosas': '2',\n",
       " 'adecarcinoma': '1',\n",
       " 'carcinoma lobulillar infiltrante': '4',\n",
       " 'carcinoma mamario infiltrativo de tipo no especial': '4',\n",
       " 'carcinoma canalicular infiltrante': '4',\n",
       " 'carcinoma seroso de alto grado': '4',\n",
       " 'carcinoma papilar': '24',\n",
       " 'carcinoma escamocelular de celula grande': '2',\n",
       " 'tumor prostatico': '4',\n",
       " 'carcinoma de celulas escamosas infiltrante': '2',\n",
       " 'leucemia': '20',\n",
       " 'adenocarnoma': '1',\n",
       " 'carcinoma mixto': '4',\n",
       " 'adenoca de recto': '1',\n",
       " 'sarcoma fusocelular': '17',\n",
       " 'carcinoma basocelular': '2',\n",
       " 'arcinoma infiltrante tipo no especial': '4',\n",
       " 'cancer': '4',\n",
       " 'tumor maligno del colon parte no especificada': '4',\n",
       " 'carcinoma mamario': '4',\n",
       " 'tumor malign': '4',\n",
       " 'leucemia de celulas vellosas': '20',\n",
       " 'antecedente de ca de prostata': '4',\n",
       " 'carcinoide': '4',\n",
       " 'tumor maligno': '4',\n",
       " 'carcinoma acinar de prostata bilateral': '4',\n",
       " 'carcinioma canalicualr infiltrante': '4',\n",
       " 'glioma de alto grado de snc': '20',\n",
       " 'carcinoma escamocelular de celulas grandes': '2',\n",
       " 'adenocarcinoma acinar de prostata': '1',\n",
       " 'neoplasia maligna de aspecto neuroendocrino': '20',\n",
       " 'carcinoma canalicular': '4',\n",
       " 'protocolo024877ca cervix infiltrante': '4',\n",
       " 'carcinoma coloide infiltrante': '4',\n",
       " 'sarcoma de alto grado': '17',\n",
       " 'adenocarcinoma patron acinar': '1',\n",
       " 'mieloma': '20',\n",
       " 'cancer de endometrio': '4',\n",
       " 'carcinoma ductal infiltrante clasico pobremente dfdo grado iii dr mendez  la inmunohistoquimica estudio re+ rp+ her neg ki67 38.9% ap e3027221 dfel 22/12/2020 ': '4',\n",
       " 'tumor papilar': '4',\n",
       " 'carcionma escamoceluolar': '2',\n",
       " 'sarcoma fusocelular de alto grado': '17',\n",
       " 'leucemia linfoblastica aguda': '20',\n",
       " 'ca lobullilar': '4',\n",
       " 'proliferacion linfoide madura': '20',\n",
       " 'cancer endometrial': '4',\n",
       " 'carcinoma lobulillar infiltrante de tipo clasico': '4',\n",
       " 'carc ductal': '4',\n",
       " 'carcinoma ductal infiltrante sin patron especifico': '4',\n",
       " 'linfoma hodgkin no clasico tipo predominio linfocitico nodular': '20',\n",
       " 'carcinoma infiltrante no especial': '4',\n",
       " 'tumor maligno de la glandula tiroides': '4',\n",
       " 'ca de mama izquierda': '4',\n",
       " 'carcinoma epidermoide infiltrante': '2',\n",
       " 'linfoma no hodgkin b': '20',\n",
       " 'tumor glial clasificacion': '20',\n",
       " 'carcinoma celulas escamosas': '2',\n",
       " 'carcinoma escamocelular infiltrnate': '2',\n",
       " 'carcinoma canicular infiltrante': '4',\n",
       " 'leucemia mieloide cronica': '20',\n",
       " 'tumor maligno de celulas germinales no seminomatoso mixto': '4',\n",
       " 'carcinoma de celulas rennales': '4',\n",
       " 'carcinoma de celulas transicionales': '4',\n",
       " 'cistoadenocarcinoma seroso papilar': '1',\n",
       " 'tipo carcinoma': '4',\n",
       " 'astrocitoma': 6,\n",
       " 'carcinoma micropapilar de tiroides': '24',\n",
       " 'carcinoma de celulas escamosas,': '2',\n",
       " 'carcinoma basoclar': '3',\n",
       " 'caricnoma escamocelular grande': '2',\n",
       " 'disgerminoma de ovario': '20',\n",
       " 'hace 6 años cancer de ovario': '4',\n",
       " 'leucemia mieloide aguda': '20',\n",
       " 'retinoblastoma exofitico sin compromiso periferico': '20',\n",
       " 'linfoma b difuso de celulas grandes': '20',\n",
       " 'ca de vejiga': '4',\n",
       " 'cancer de mama ductal infiltrante': '4',\n",
       " 'glioblastoma frontal': '20',\n",
       " 'carcinoma ductal inlfiltrante': '4',\n",
       " 'carcinoma ductal infiltrante con areas de ductopapilar': '4',\n",
       " 'cancer de seno izquierdo': '4',\n",
       " 'carcinoma ductal in situ solido cribiforme': '4',\n",
       " 'lesion tumoral': '4',\n",
       " 'cancer de cervix': '4',\n",
       " 'reportan carcinoma': '4',\n",
       " 'cistadenocarcinoma seroso papilar': '1',\n",
       " 'ca de mama lobulillar': '4',\n",
       " 'tumor maligno de la piel': '3',\n",
       " 'carcinoma escamocelular infiltrante': '2',\n",
       " 'carcinoma de tipo escamocelular infiltrante': '2',\n",
       " 'enfermedad de hodgkin no especificada': '20',\n",
       " 'carcinoma escmoaso infiltrante': '2',\n",
       " 'tumor de celulas gigantes': '4',\n",
       " 'tumor maligno de exocervix': '2',\n",
       " 'carcinoma ductal infiltrante de patron clasico': '4',\n",
       " 'angiosarcoma': 15,\n",
       " 'carcinoma ductal infiltrate': '4',\n",
       " 'neoplasia de seno': '4',\n",
       " 'carcinoma de celulas in situ del cervix': '4',\n",
       " 'linfoma no hodgkin': '20',\n",
       " 'sarcoma': '17',\n",
       " 'ca de piel tipo basocelular': '3',\n",
       " 'carcinoma lobiulillar infiltrante': '4',\n",
       " 'microcarcinoma papilar clasico': '24',\n",
       " 'tumor maligno del cerebro': '20',\n",
       " 'ca de colon': '4',\n",
       " 'carcinoma escamoso': '2',\n",
       " 'carcinoma de celula grande de patron bronquioalveolar': '4',\n",
       " 'astrocitoma anaplasico': '6',\n",
       " 'ca basocelular': '3',\n",
       " 'tumor estromal': '4',\n",
       " 'ca de prostataca de prostata': '4',\n",
       " 'carcinoma infiltrativo de aspecto neuroendocrino': '4',\n",
       " 'neoplasia': '4',\n",
       " 'dermatofibrosarcoma': '17',\n",
       " 'enfermedad de hodgkin con esclerosis nodular': '20',\n",
       " 'ca de tumor abdominal': '4',\n",
       " 'melanoma': 21,\n",
       " 'linfoma no hodgkin no especificado': '20',\n",
       " 'linfoma de hodking clasico': '20',\n",
       " 'linfoma de hodgkin con predominio linfocitico nodular': '20',\n",
       " 'ependimoma': 7,\n",
       " 'neuroblastoma': 8,\n",
       " 'ca de pene': '4',\n",
       " 'adenocar': '1',\n",
       " 'linfoma difuso de cel pequeñas': '20',\n",
       " 'mieloma multiple': '20',\n",
       " 'ca de tiroides': '4',\n",
       " 'ca de seno maxilar y parotida': '4',\n",
       " 'carcinoma no especial': '4',\n",
       " 'carcinoma epidermoide de celulas escamosa': '2',\n",
       " 'adenocarcinoma de prostata': '1',\n",
       " 'adenocarcinona': '1',\n",
       " 'carcinoma ductal infiltrante en mama izquierda': '4',\n",
       " 'tumor neuroendocrino': '4',\n",
       " 'ca de laringe': '4',\n",
       " 'adenocarcinoma tipo acinar infiltrante': '1',\n",
       " 'ca escamocelular': '2',\n",
       " 'masa en cervix': '4',\n",
       " 'adenocarcinoma acina prostatico': '1',\n",
       " 'ca gastrico': '4',\n",
       " 'macroglobulinemia de waldenstrom': '20',\n",
       " 'carcinoma escamoceular': '2',\n",
       " 'carcinoma ductal inf': '4',\n",
       " 'cirugia de cabeza y cuello': '4',\n",
       " 'carcinoma mamario infiltrante tipo no especial': '4',\n",
       " ' carcinoma ductal nfiltrate': '4',\n",
       " 'carcinoma ductal no especial': '4',\n",
       " 'ca de mama infiltrativo tipo no especial': '4',\n",
       " 'carcinoma ductual ': '4',\n",
       " 'tumor de mama derecha': '4',\n",
       " 'leucemia linfocitica cronica': '20',\n",
       " 'adenocarcinoma ductal de mama': '1',\n",
       " ':adenocarcinoma endometrioide': '1',\n",
       " 'carcinoma mamari infiltrante de tipo no especial': '4',\n",
       " 'carcinoma invasor de tipo no especial': '4',\n",
       " 'arcinoma mamario': '4',\n",
       " 'el reporte biopsia': None,\n",
       " 'dx en': None,\n",
       " 'años de evolucion': None,\n",
       " 'carcinoma de células basales': 3,\n",
       " 'carcinoma diferente': 4,\n",
       " 'oligodendroglioma': 5,\n",
       " 'meduloblastoma': 9,\n",
       " 'hepatoblastoma': 10,\n",
       " 'rabdomiosarcoma': 11,\n",
       " 'leiomiosarcoma': 12,\n",
       " 'osteosarcoma': 13,\n",
       " 'fibrosarcoma': 14,\n",
       " 'condrosarcoma': 16,\n",
       " 'otros sarcomas': 17,\n",
       " 'pancreatoblastoma': 18,\n",
       " 'blastoma pleuropulmonar': 19,\n",
       " 'otros tipos histológicos no mencionados': 20,\n",
       " 'persona con aseguramiento': 25,\n",
       " 'no se realizó estudio histopatológico': 98}"
      ]
     },
     "metadata": {},
     "execution_count": 72
    }
   ],
   "source": []
  },
  {
   "source": [
    "# Grado de diferenciación del tumor sólido maligno según la biopsia o informe de primera cirugía 28"
   ],
   "cell_type": "markdown",
   "metadata": {}
  },
  {
   "cell_type": "code",
   "execution_count": 76,
   "metadata": {},
   "outputs": [
    {
     "output_type": "execute_result",
     "data": {
      "text/plain": [
       "[None, None, None]"
      ]
     },
     "metadata": {},
     "execution_count": 76
    }
   ],
   "source": [
    "lista_eliminar = ['na',]\n",
    "[dic['28'].pop(key,None) for key in lista_eliminar]\n",
    "\n",
    "lista_agregar = ['el reporte biopsia', 'dx en','años de evolucion']\n",
    "[dic['28'].update({key:None}) for key in lista_agregar]\n"
   ]
  },
  {
   "cell_type": "code",
   "execution_count": 73,
   "metadata": {},
   "outputs": [],
   "source": [
    "def _28(folios,dic):\n",
    "    variable = None\n",
    "    for folio in folios:\n",
    "        for llave in dic['28'].keys():\n",
    "            if llave in folio:\n",
    "                print(llave)\n",
    "                variable = llave\n",
    "                print(variable, dic['28'][llave])\n",
    "    if variable == None:\n",
    "        return 94\n",
    "\n",
    "_28(folios,dic)"
   ]
  },
  {
   "cell_type": "code",
   "execution_count": 74,
   "metadata": {},
   "outputs": [
    {
     "output_type": "error",
     "ename": "NameError",
     "evalue": "name 'folios' is not defined",
     "traceback": [
      "\u001b[0;31m---------------------------------------------------------------------------\u001b[0m",
      "\u001b[0;31mNameError\u001b[0m                                 Traceback (most recent call last)",
      "\u001b[0;32m<ipython-input-74-41a3e7b6afae>\u001b[0m in \u001b[0;36m<module>\u001b[0;34m\u001b[0m\n\u001b[0;32m----> 1\u001b[0;31m \u001b[0m_28\u001b[0m\u001b[0;34m(\u001b[0m\u001b[0mfolios\u001b[0m\u001b[0;34m,\u001b[0m\u001b[0mdic\u001b[0m\u001b[0;34m)\u001b[0m\u001b[0;34m\u001b[0m\u001b[0;34m\u001b[0m\u001b[0m\n\u001b[0m",
      "\u001b[0;31mNameError\u001b[0m: name 'folios' is not defined"
     ]
    }
   ],
   "source": []
  },
  {
   "source": [
    "# Si es tumor sólido, cuál fue la primera estadificación basada en TNM, FIGO, u otras compatibles con esta numeración según tumor 29"
   ],
   "cell_type": "markdown",
   "metadata": {}
  },
  {
   "cell_type": "code",
   "execution_count": null,
   "metadata": {},
   "outputs": [],
   "source": [
    "# Volver a revisar esta jodida\n",
    "\n",
    "def _29(folios,dic):\n",
    "    variable = None\n",
    "    for folio in folios:\n",
    "        for llave in dic['29'].keys():\n",
    "            if llave in folio:\n",
    "                print(llave)\n",
    "                variable = llave\n",
    "                print(variable, dic['29'][llave])\n",
    "    if variable == None:\n",
    "        return 99"
   ]
  },
  {
   "cell_type": "code",
   "execution_count": null,
   "metadata": {},
   "outputs": [],
   "source": [
    "_29(folios,dic)"
   ]
  },
  {
   "cell_type": "code",
   "execution_count": null,
   "metadata": {},
   "outputs": [],
   "source": []
  },
  {
   "cell_type": "code",
   "execution_count": 77,
   "metadata": {},
   "outputs": [
    {
     "output_type": "execute_result",
     "data": {
      "text/plain": [
       "{'leucemia de celulas vellosas': '1845-01-01',\n",
       " 'glioma de alto grado de snc': '1845-01-01',\n",
       " 'leucemia linfoblastica aguda': '1845-01-01',\n",
       " 'enfermedad de hodgkin no especificada': '1845-01-01',\n",
       " 'leucemia': '1845-01-01',\n",
       " 'linfoma hodgkin no clasico tipo predominio linfocitico nodular': '1845-01-01',\n",
       " 'tumor maligno del cerebro excepto lobulos y ventriculost': '1845-01-01',\n",
       " 'leucemia mieloide cronica': '1845-01-01',\n",
       " 'tumor maligno del cerebro excepto lobulos y': '1845-01-01',\n",
       " 'leucemia mieloide aguda': '1845-01-01',\n",
       " 'tumor maligno del lobulo frontal': '1845-01-01',\n",
       " 'linfoma de hodgkin con predominio linfocitico nodular': '1845-01-01',\n",
       " 'carcinoma basocelular': '1845-01-01',\n",
       " 'mieloma multiple': '1845-01-01',\n",
       " 'macroglobulinemia de waldenstrom': '1845-01-01',\n",
       " 'leucemia linfocitica cronica': '1845-01-01'}"
      ]
     },
     "metadata": {},
     "execution_count": 77
    }
   ],
   "source": [
    "lista_eliminar = []\n",
    "for llave in dic['30'].keys():\n",
    "    if 'fecha' in llave:\n",
    "        lista_eliminar.append(llave)\n",
    "lista_eliminar.append('na')\n",
    "[dic['30'].pop(key,None) for key in lista_eliminar]\n",
    "\n",
    "dic['30']"
   ]
  },
  {
   "cell_type": "code",
   "execution_count": 11,
   "metadata": {},
   "outputs": [],
   "source": [
    "def _30(folios,dic):\n",
    "    n = len(folios)\n",
    "    folio = folios[n-1]\n",
    "    for llave in dic['30'].keys():\n",
    "        if llave in folio:\n",
    "            return f'asd {llave}'\n",
    "    start = folio.find('fecha') + 6\n",
    "    end = start + 10\n",
    "    return f'--- {folio[start:end]}'\n"
   ]
  },
  {
   "cell_type": "code",
   "execution_count": 12,
   "metadata": {},
   "outputs": [
    {
     "output_type": "execute_result",
     "data": {
      "text/plain": [
       "'asd fecha'"
      ]
     },
     "metadata": {},
     "execution_count": 12
    }
   ],
   "source": [
    "# a tener en cuenta cuando no aplica\n",
    "# Volver a revisar esta jodida\n",
    "_30(folios,dic)"
   ]
  },
  {
   "source": [
    "# Para cáncer de mama, ¿se le realizó a este usuario la prueba HER2 (llamado también receptor 2 del factor de crecimiento epidérmico humano, también llamado erb-B2) antes del inicio del tratamiento? 31"
   ],
   "cell_type": "markdown",
   "metadata": {}
  },
  {
   "cell_type": "code",
   "execution_count": 18,
   "metadata": {},
   "outputs": [],
   "source": [
    "lista_eliminar = ['na','n','ap','linfoma ','el reporte biopsia de mama derecha','fecha','biopsia','patologia','patologia','cirugia','carcinoma','carcinoma ','ca de mama','tumor']\n",
    "[dic['31'].pop(key,None) for key in lista_eliminar]\n",
    "\n",
    "def _31(folios,dic):\n",
    "    variable = None\n",
    "    for folio in folios:\n",
    "        for llave in dic['31'].keys():\n",
    "            if llave in folio:\n",
    "                print(llave)\n",
    "                variable = llave\n",
    "                print(variable, dic['31'][llave])\n",
    "    if variable == None:\n",
    "        return 99"
   ]
  },
  {
   "source": [
    "def _31(folios,dic):\n",
    "    variable = None\n",
    "    for folio in folios:\n",
    "        tiene_ca()\n",
    "    #if tiene cancer de mama:\n",
    "        return 1\n",
    "    if variable == None:\n",
    "        return 2"
   ],
   "cell_type": "markdown",
   "metadata": {}
  },
  {
   "cell_type": "code",
   "execution_count": null,
   "metadata": {},
   "outputs": [],
   "source": [
    "_31(folios,dic)"
   ]
  },
  {
   "source": [
    "# Para cáncer de mama, fecha de realización de la primera prueba HER2 32"
   ],
   "cell_type": "markdown",
   "metadata": {}
  },
  {
   "cell_type": "code",
   "execution_count": null,
   "metadata": {},
   "outputs": [],
   "source": [
    "def _32(folios,dic):\n",
    "    return \"1845-01-01\""
   ]
  },
  {
   "cell_type": "code",
   "execution_count": null,
   "metadata": {},
   "outputs": [],
   "source": [
    "def _33(folios,dic):\n",
    "    return 98"
   ]
  },
  {
   "source": [
    "\n",
    "# Para cáncer colorrectal, estadificación de Dukes"
   ],
   "cell_type": "markdown",
   "metadata": {}
  },
  {
   "cell_type": "code",
   "execution_count": 78,
   "metadata": {},
   "outputs": [
    {
     "output_type": "execute_result",
     "data": {
      "text/plain": [
       "{'pt3 pn1 m0': '3',\n",
       " 'cancer de colon con metastasis a pulmon en manejo paliativo': '4',\n",
       " 'cancer de colon': None,\n",
       " 'ca colon': None,\n",
       " 'ca de colon': None}"
      ]
     },
     "metadata": {},
     "execution_count": 78
    }
   ],
   "source": [
    "lista_eliminar = ['na','n','ap','eii','estadio iii']\n",
    "[dic['34'].pop(key,None) for key in lista_eliminar]\n",
    "\n",
    "lista_agregar = ['cancer de colon', 'ca colon','ca de colon']\n",
    "[dic['34'].update({key:None}) for key in lista_agregar]\n",
    "\n",
    "# Más información de la variable\n",
    "\n",
    "def _34(folios,dic):\n",
    "    variable = None\n",
    "    for folio in folios:\n",
    "        for llave in dic['34'].keys():\n",
    "            if llave in folio:\n",
    "                print(llave)\n",
    "                variable = llave\n",
    "                print(variable, dic['34'][llave])\n",
    "    if variable == None:\n",
    "        return 98\n",
    "    \n",
    "\n",
    "dic['34']"
   ]
  },
  {
   "cell_type": "code",
   "execution_count": null,
   "metadata": {},
   "outputs": [],
   "source": [
    "def _35(t_34,folios):\n",
    "    if t_34 != (98 or 99):\n",
    "        pass"
   ]
  },
  {
   "source": [
    "# 36"
   ],
   "cell_type": "markdown",
   "metadata": {}
  },
  {
   "cell_type": "code",
   "execution_count": null,
   "metadata": {},
   "outputs": [],
   "source": [
    "lista_eliminar = ['na','n',]\n",
    "[dic['36'].pop(key,None) for key in lista_eliminar]\n",
    "\n",
    "t_36 = {\n",
    "    \" Estadio I\":1,\n",
    "    \" Estadio II\":2,\n",
    "    \" Estadio III\":3,\n",
    "    \" Estadio IV\":4,\n",
    "    \" Estadio IA\":5,\n",
    "    \" Estadio IB\":6,\n",
    "    \" Estadio IIA\":7,\n",
    "    \" Estadio IIB\":8,\n",
    "    \" Estadio IIIA\":9,\n",
    "    \" Estadio IIIB\":10,\n",
    "    \" Estadio IVA\":11,\n",
    "    \" Estadio IVB\":12,\n",
    "    \" Extranodal cualquier estadio\":13,\n",
    "    \" Primario SNC\":14,\n",
    "    \" Primario Mediastinal\":15,\n",
    "    \" Primario de otros órganos\":16,\n",
    "    \"Persona con aseguramiento\":55,\n",
    "    \"No Aplica, cancer diferente\":98,\n",
    "    \"Desconocido\":99\n",
    "}\n",
    "\n",
    "\n",
    "dic['36'].update(t_36)\n",
    "\n",
    "def _36(folios,dic):\n",
    "    variable = None\n",
    "    for folio in folios:\n",
    "        for llave in dic['36'].keys():\n",
    "            if llave in folio:\n",
    "                print(llave)\n",
    "                variable = llave\n",
    "                print(variable, dic['36'][llave])\n",
    "    if variable == None:\n",
    "        return 99"
   ]
  },
  {
   "source": [
    "# 37"
   ],
   "cell_type": "markdown",
   "metadata": {}
  },
  {
   "cell_type": "code",
   "execution_count": null,
   "metadata": {},
   "outputs": [],
   "source": [
    "# arroja un score cuando en realidad fue reportado como no\n",
    "lista_eliminar = ['na','n',]\n",
    "[dic['37'].pop(key,None) for key in lista_eliminar]\n",
    "\n",
    "def _37(folios,dic):\n",
    "    variable = None\n",
    "    for folio in folios:\n",
    "        for llave in dic['37'].keys():\n",
    "            if llave in folio:\n",
    "                print(llave)\n",
    "                variable = llave\n",
    "                print(variable, dic['37'][llave])\n",
    "    if variable == None:\n",
    "        return 99"
   ]
  },
  {
   "cell_type": "code",
   "execution_count": null,
   "metadata": {},
   "outputs": [],
   "source": [
    "_37(folios,dic)"
   ]
  },
  {
   "source": [
    "# 38 "
   ],
   "cell_type": "markdown",
   "metadata": {}
  },
  {
   "cell_type": "code",
   "execution_count": null,
   "metadata": {},
   "outputs": [],
   "source": [
    "lista_eliminar = ['na','n',]\n",
    "[dic['38'].pop(key,None) for key in lista_eliminar]\n",
    "\n",
    "dic['38']"
   ]
  },
  {
   "cell_type": "code",
   "execution_count": null,
   "metadata": {},
   "outputs": [],
   "source": []
  },
  {
   "cell_type": "code",
   "execution_count": null,
   "metadata": {},
   "outputs": [],
   "source": []
  },
  {
   "cell_type": "code",
   "execution_count": null,
   "metadata": {},
   "outputs": [],
   "source": []
  },
  {
   "cell_type": "code",
   "execution_count": null,
   "metadata": {},
   "outputs": [],
   "source": []
  },
  {
   "cell_type": "code",
   "execution_count": 6,
   "metadata": {},
   "outputs": [],
   "source": [
    "\n"
   ]
  },
  {
   "cell_type": "code",
   "execution_count": 7,
   "metadata": {},
   "outputs": [
    {
     "output_type": "execute_result",
     "data": {
      "text/plain": [
       "    codigo_atc    descripcion_atc\n",
       "0     L01XE50        abemaciclib \n",
       "1      L02BX03        abiraterona\n",
       "2     L01XE51      acalabrutinib \n",
       "3      L01XE13           afatinib\n",
       "4     L01XE36          alectinib \n",
       "..         ...                ...\n",
       "191    L01CA02        vincristina\n",
       "192    L01CA03          vindesine\n",
       "193    L01CA04        vinorelbina\n",
       "194    L01XX43         vismodegib\n",
       "195    M05BA08  zoledronico acido\n",
       "\n",
       "[196 rows x 2 columns]"
      ],
      "text/html": "<div>\n<style scoped>\n    .dataframe tbody tr th:only-of-type {\n        vertical-align: middle;\n    }\n\n    .dataframe tbody tr th {\n        vertical-align: top;\n    }\n\n    .dataframe thead th {\n        text-align: right;\n    }\n</style>\n<table border=\"1\" class=\"dataframe\">\n  <thead>\n    <tr style=\"text-align: right;\">\n      <th></th>\n      <th>codigo_atc</th>\n      <th>descripcion_atc</th>\n    </tr>\n  </thead>\n  <tbody>\n    <tr>\n      <th>0</th>\n      <td>L01XE50</td>\n      <td>abemaciclib</td>\n    </tr>\n    <tr>\n      <th>1</th>\n      <td>L02BX03</td>\n      <td>abiraterona</td>\n    </tr>\n    <tr>\n      <th>2</th>\n      <td>L01XE51</td>\n      <td>acalabrutinib</td>\n    </tr>\n    <tr>\n      <th>3</th>\n      <td>L01XE13</td>\n      <td>afatinib</td>\n    </tr>\n    <tr>\n      <th>4</th>\n      <td>L01XE36</td>\n      <td>alectinib</td>\n    </tr>\n    <tr>\n      <th>...</th>\n      <td>...</td>\n      <td>...</td>\n    </tr>\n    <tr>\n      <th>191</th>\n      <td>L01CA02</td>\n      <td>vincristina</td>\n    </tr>\n    <tr>\n      <th>192</th>\n      <td>L01CA03</td>\n      <td>vindesine</td>\n    </tr>\n    <tr>\n      <th>193</th>\n      <td>L01CA04</td>\n      <td>vinorelbina</td>\n    </tr>\n    <tr>\n      <th>194</th>\n      <td>L01XX43</td>\n      <td>vismodegib</td>\n    </tr>\n    <tr>\n      <th>195</th>\n      <td>M05BA08</td>\n      <td>zoledronico acido</td>\n    </tr>\n  </tbody>\n</table>\n<p>196 rows × 2 columns</p>\n</div>"
     },
     "metadata": {},
     "execution_count": 7
    }
   ],
   "source": [
    "data"
   ]
  },
  {
   "cell_type": "code",
   "execution_count": null,
   "metadata": {},
   "outputs": [],
   "source": []
  },
  {
   "cell_type": "code",
   "execution_count": null,
   "metadata": {},
   "outputs": [],
   "source": []
  },
  {
   "cell_type": "code",
   "execution_count": null,
   "metadata": {},
   "outputs": [],
   "source": []
  },
  {
   "cell_type": "code",
   "execution_count": null,
   "metadata": {},
   "outputs": [],
   "source": []
  },
  {
   "cell_type": "code",
   "execution_count": null,
   "metadata": {},
   "outputs": [],
   "source": []
  },
  {
   "cell_type": "code",
   "execution_count": null,
   "metadata": {},
   "outputs": [],
   "source": []
  },
  {
   "cell_type": "code",
   "execution_count": null,
   "metadata": {},
   "outputs": [],
   "source": []
  },
  {
   "cell_type": "code",
   "execution_count": null,
   "metadata": {},
   "outputs": [],
   "source": []
  }
 ]
}