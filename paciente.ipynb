{
 "metadata": {
  "language_info": {
   "codemirror_mode": {
    "name": "ipython",
    "version": 3
   },
   "file_extension": ".py",
   "mimetype": "text/x-python",
   "name": "python",
   "nbconvert_exporter": "python",
   "pygments_lexer": "ipython3",
   "version": "3.8.5"
  },
  "orig_nbformat": 2,
  "kernelspec": {
   "name": "python3",
   "display_name": "Python 3",
   "language": "python"
  }
 },
 "nbformat": 4,
 "nbformat_minor": 2,
 "cells": [
  {
   "source": [
    "# Aspectos a considerar del software\n",
    "- Si los datos requeridos no estan el los folios suministrados, estos no se llenarán."
   ],
   "cell_type": "markdown",
   "metadata": {}
  },
  {
   "cell_type": "code",
   "execution_count": 1,
   "metadata": {},
   "outputs": [],
   "source": [
    "import json\n",
    "file = open(\"dic_1.json\",)\n",
    "dic = json.load(file)"
   ]
  },
  {
   "source": [
    "# Diagnostico 17"
   ],
   "cell_type": "markdown",
   "metadata": {}
  },
  {
   "cell_type": "code",
   "execution_count": 2,
   "metadata": {},
   "outputs": [],
   "source": [
    "def _17(folios,dic):\n",
    "    here = []\n",
    "    for folio in range(len(folios)):\n",
    "        if '$$DIAGNÓSTICO' in folios[folio]:\n",
    "            here.append(folio)\n",
    "    ultimo = max(here)\n",
    "    fragmento = aux(folios[ultimo],\"$$DIAGNÓSTICO\")\n",
    "    for valor in dic['17'].values():\n",
    "        if valor in fragmento:\n",
    "            variable = valor\n",
    "            print(variable)\n",
    "        else:\n",
    "            variable = None\n",
    "    return variable"
   ]
  },
  {
   "cell_type": "code",
   "execution_count": 3,
   "metadata": {},
   "outputs": [
    {
     "output_type": "error",
     "ename": "NameError",
     "evalue": "name 'folios' is not defined",
     "traceback": [
      "\u001b[0;31m---------------------------------------------------------------------------\u001b[0m",
      "\u001b[0;31mNameError\u001b[0m                                 Traceback (most recent call last)",
      "\u001b[0;32m<ipython-input-3-1dd6d260c721>\u001b[0m in \u001b[0;36m<module>\u001b[0;34m\u001b[0m\n\u001b[0;32m----> 1\u001b[0;31m \u001b[0m_17\u001b[0m\u001b[0;34m(\u001b[0m\u001b[0mfolios\u001b[0m\u001b[0;34m,\u001b[0m\u001b[0mdic\u001b[0m\u001b[0;34m)\u001b[0m\u001b[0;34m\u001b[0m\u001b[0;34m\u001b[0m\u001b[0m\n\u001b[0m",
      "\u001b[0;31mNameError\u001b[0m: name 'folios' is not defined"
     ]
    }
   ],
   "source": [
    "_17(folios,dic)"
   ]
  },
  {
   "source": [
    "# Fecha de Diagnóstico del Cáncer reportado 18\n",
    "- Necesito HC con los que pueda llenar este campo."
   ],
   "cell_type": "markdown",
   "metadata": {}
  },
  {
   "cell_type": "code",
   "execution_count": null,
   "metadata": {},
   "outputs": [],
   "source": [
    "lista_eliminar = ['patologia', 'enfermedad actual','de patologia','fecha','biopsia','patologia.','cancer de vejiga','desde abril 2009 ','-mamografia bilateral','na','hace , 10 años','cuadrantectomia','ap','cancer cervical hace 13 años','desde hace , mas de 5 años','linfoma']\n",
    "[dic['18'].pop(key,None) for key in lista_eliminar]\n",
    "\n",
    "lista_agregar = ['desde hace']\n",
    "[dic['18'].update({key:None}) for key in lista_agregar]\n",
    "dic['18']"
   ]
  },
  {
   "cell_type": "code",
   "execution_count": null,
   "metadata": {},
   "outputs": [],
   "source": [
    "#separar por token word, luego escoger la fecha\n",
    "\n",
    "def _18(folios,dic):\n",
    "    for folio in range(len(folios)):\n",
    "        for valor in dic['18'].keys():\n",
    "            if valor in folios[folio]:\n",
    "                variable = valor\n",
    "                print(variable)\n",
    "            else:\n",
    "                variable = None\n",
    "        #print('Ninguna coincidencia encontrada')\n",
    "    if variable:\n",
    "        return variable\n",
    "    print('Ninguna coincidencia encontrada')\n",
    "    variable = \"1800-01-01\"\n",
    "    return variable"
   ]
  },
  {
   "cell_type": "code",
   "execution_count": null,
   "metadata": {},
   "outputs": [],
   "source": [
    "_18(folios,dic)"
   ]
  },
  {
   "source": [
    "# Fecha de la nota de remisión del médico o institución general hacia la institución que hizo el diagnóstico 19 "
   ],
   "cell_type": "markdown",
   "metadata": {}
  },
  {
   "cell_type": "code",
   "execution_count": null,
   "metadata": {},
   "outputs": [],
   "source": [
    "lista_eliminar = ['ecografia','ecografia mamaria','n','colonoscopipa total bajo sedacion','eco tv','ecografia mamaria bilateral','mamografia bilateral','bacaf de tiroides','mamografia','mamograsfia con reporte','na','fecha','ecografia maamria con reporte de','se realiza una ecografia maamria bilateral','ecogarfia mamaria','ecografi abodminal','hematopecia dese']\n",
    "[dic['19'].pop(key,None) for key in lista_eliminar]\n",
    "\n",
    "lista_agregar = ['remitido el','trasladado el','mamograsfia con reporte','ecografia mamaria con reporte de','hematopecia desde','se realiza una ecografia mamaria bilateral']\n",
    "[dic['19'].update({key:None}) for key in lista_agregar]"
   ]
  },
  {
   "cell_type": "code",
   "execution_count": null,
   "metadata": {},
   "outputs": [],
   "source": [
    "def _19(folios,dic):\n",
    "    for folio in range(len(folios)):\n",
    "        for valor in dic['19'].keys():\n",
    "            if valor in folios[folio]:\n",
    "                variable = valor\n",
    "                print(variable)\n",
    "            else:\n",
    "                variable = None\n",
    "        #print('Ninguna coincidencia encontrada')\n",
    "    if variable:\n",
    "        return variable\n",
    "    print('Ninguna coincidencia encontrada')\n",
    "    variable = \"1800-01-01\"\n",
    "    return variable"
   ]
  },
  {
   "cell_type": "code",
   "execution_count": null,
   "metadata": {},
   "outputs": [],
   "source": [
    "_19(folios,dic)"
   ]
  },
  {
   "source": [
    "# Fecha de ingreso a la institución que realizó el diagnóstico luego de la remisión intenconsulta 20"
   ],
   "cell_type": "markdown",
   "metadata": {}
  },
  {
   "cell_type": "code",
   "execution_count": null,
   "metadata": {},
   "outputs": [],
   "source": [
    "lista_eliminar = ['ecografia','ecografia mamaria','n','colonoscopipa total bajo sedacion','eco tv','ecografia mamaria bilateral','mamografia bilateral','bacaf de tiroides','mamografia','mamograsfia con reporte','na','fecha','ecografia maamria con reporte de','se realiza una ecografia maamria bilateral','ecogarfia mamaria','ecografi abodminal','hematopecia dese','n','biopsia','biopsia de mama','istmectomia','biopsia de mama izquierda','biopsia de mama bilateral']\n",
    "[dic['20'].pop(key,None) for key in lista_eliminar]\n",
    "\n",
    "lista_agregar = ['remitido el','trasladado el','mamograsfia con reporte','ecografia mamaria con reporte de','hematopecia desde','se realiza una ecografia mamaria bilateral']\n",
    "[dic['20'].update({key:None}) for key in lista_agregar]"
   ]
  },
  {
   "cell_type": "code",
   "execution_count": null,
   "metadata": {},
   "outputs": [],
   "source": [
    "# si la variable 19 es \"1800-01-01\" esta tambien lo será\n",
    "\n",
    "def _20(folios,dic):\n",
    "    for folio in range(len(folios)):\n",
    "        for valor in dic['20'].keys():\n",
    "            if valor in folios[folio]:\n",
    "                variable = valor\n",
    "                print(variable)\n",
    "            else:\n",
    "                variable = None\n",
    "        #print('Ninguna coincidencia encontrada')\n",
    "    if variable:\n",
    "        return variable\n",
    "    print('Ninguna coincidencia encontrada')\n",
    "    variable = \"1800-01-01\"\n",
    "    return variable"
   ]
  },
  {
   "cell_type": "code",
   "execution_count": null,
   "metadata": {},
   "outputs": [],
   "source": [
    "_20(folios,dic)"
   ]
  },
  {
   "source": [
    "# Tipo de estudio con el que se realizó el diagnóstico de cáncer 21"
   ],
   "cell_type": "markdown",
   "metadata": {}
  },
  {
   "cell_type": "code",
   "execution_count": null,
   "metadata": {},
   "outputs": [],
   "source": [
    "lista_eliminar = ['na','n','ap','linfoma ','linfoma no hodgkin','linfoma no hodgkin','linfoma']\n",
    "[dic['21'].pop(key,None) for key in lista_eliminar]\n",
    "\n",
    "lista_agregar = []\n",
    "[dic['21'].update({key:None}) for key in lista_agregar]\n",
    "\n",
    "agregar  = {\n",
    "    \"Inmunohistoquímica\":'5',\n",
    "    \"Citometría de flujo\":'6',\n",
    "    \"Clínica exclusivamente\":'7',\n",
    "    \"Otro\":'8',\n",
    "    \"Genética\":'9',\n",
    "    \"Patología básica\":'10',\n",
    "    \"Desconocido\":'99',\n",
    "    \"Persona con aseguramiento\":'55'\n",
    "}\n",
    "\n",
    "dic['21'].update(agregar)"
   ]
  },
  {
   "cell_type": "code",
   "execution_count": null,
   "metadata": {},
   "outputs": [],
   "source": [
    "def _21(folios,dic):\n",
    "    for folio in range(len(folios)):\n",
    "        for valor in dic['21'].keys():\n",
    "            if valor in folios[folio]:\n",
    "                variable = dic['21'][valor]\n",
    "                print(valor,variable)\n",
    "            else:\n",
    "                variable = None\n",
    "        #print('Ninguna coincidencia encontrada')\n",
    "    if variable:\n",
    "        return variable\n",
    "    print('Ninguna coincidencia encontrada')\n",
    "    variable = \"99\"\n",
    "    return variable"
   ]
  },
  {
   "cell_type": "code",
   "execution_count": null,
   "metadata": {},
   "outputs": [],
   "source": [
    "_21(folios,dic)"
   ]
  },
  {
   "source": [
    "# Motivo por el cual el usuario no tuvo diagnóstico por histopatología a la fecha de corte (aplica para registros con respuesta igual a 7 en la variable anterior) 22"
   ],
   "cell_type": "markdown",
   "metadata": {}
  },
  {
   "cell_type": "code",
   "execution_count": null,
   "metadata": {},
   "outputs": [],
   "source": [
    "def _22():\n",
    "    ''' es un valor predeterminado'''\n",
    "    variable = 98\n",
    "    return variable"
   ]
  },
  {
   "source": [
    "# Fecha de recolección de muestra para estudio histopatológico de diagnóstico 23"
   ],
   "cell_type": "markdown",
   "metadata": {}
  },
  {
   "cell_type": "code",
   "execution_count": null,
   "metadata": {},
   "outputs": [],
   "source": [
    "def _23(folios,dic):\n",
    "    for folio in range(len(folios)):\n",
    "        for valor in dic['23'].keys():\n",
    "            if valor in folios[folio]:\n",
    "                variable = dic['23'][valor]\n",
    "                print(valor,variable)\n",
    "            else:\n",
    "                variable = None\n",
    "        #print('Ninguna coincidencia encontrada')\n",
    "    if variable:\n",
    "        return variable\n",
    "    print('Ninguna coincidencia encontrada')\n",
    "    variable = \"1800-01-01\"\n",
    "    return variable"
   ]
  },
  {
   "cell_type": "code",
   "execution_count": null,
   "metadata": {},
   "outputs": [],
   "source": [
    "_23(folio,dic)"
   ]
  },
  {
   "source": [
    "# Fecha de Primero o único informe histopatológico válido de diagnóstico 24"
   ],
   "cell_type": "markdown",
   "metadata": {}
  },
  {
   "cell_type": "code",
   "execution_count": null,
   "metadata": {},
   "outputs": [],
   "source": [
    "#_24 = __18"
   ]
  },
  {
   "source": [
    "# Código válido de habilitación de la IPS donde se realiza la confirmación diagnóstica 25"
   ],
   "cell_type": "markdown",
   "metadata": {}
  },
  {
   "cell_type": "code",
   "execution_count": null,
   "metadata": {},
   "outputs": [],
   "source": [
    "# se tiene que inferir \n",
    "def _25(folio,dic):\n",
    "    return \"80010054401\""
   ]
  },
  {
   "source": [
    "# Fecha de primera consulta con médico tratante de la enfermedad maligna (médico especialista que define la primera conducta terapéutica-terapia sistémica, cirugía , radioterapia o cuidado paliativos- manejo expectante) 26"
   ],
   "cell_type": "markdown",
   "metadata": {}
  },
  {
   "cell_type": "code",
   "execution_count": null,
   "metadata": {},
   "outputs": [],
   "source": [
    "def _26(folios):\n",
    "    for folio in folios:\n",
    "        frag = aux_reg(folio,'reg. ')\n",
    "        if 'oncologia' in frag:\n",
    "            start = folio.find('fecha') + 6\n",
    "            end = start + 10\n",
    "            return folio[start:end]\n",
    "        else:\n",
    "            return \"1800-01-01\"\n",
    "    "
   ]
  },
  {
   "cell_type": "code",
   "execution_count": null,
   "metadata": {},
   "outputs": [],
   "source": [
    "_26(folio)"
   ]
  },
  {
   "source": [
    "# Histología del tumor en muestra de biopsia o quirúrgica 27"
   ],
   "cell_type": "markdown",
   "metadata": {}
  },
  {
   "cell_type": "code",
   "execution_count": null,
   "metadata": {},
   "outputs": [],
   "source": [
    "lista_eliminar = ['na','n','ap','linfoma ','el reporte biopsia de mama derecha','fecha','biopsia','patologia','patologia','cirugia','carcinoma','carcinoma ','ca de mama','tumor']\n",
    "[dic['27'].pop(key,None) for key in lista_eliminar]\n",
    "\n",
    "lista_agregar = ['el reporte biopsia', 'dx en','años de evolucion']\n",
    "[dic['27'].update({key:None}) for key in lista_agregar]\n",
    "\n",
    "t_27 = { # enfermedad actual\n",
    "    \"adenocarcinoma\":1,\n",
    "    \"carcinoma escamocelular\":2,\n",
    "    \"carcinoma de células basales\":3,\n",
    "    \"carcinoma diferente\":4,\n",
    "    \"oligodendroglioma\":5,\n",
    "    \"astrocitoma\":6,\n",
    "    \"ependimoma\":7,\n",
    "    \"neuroblastoma\":8,\n",
    "    \"meduloblastoma\":9,\n",
    "    \"hepatoblastoma\":10,\n",
    "    \"rabdomiosarcoma\":11,\n",
    "    \"leiomiosarcoma\":12,\n",
    "    \"osteosarcoma\":13,\n",
    "    \"fibrosarcoma\":14,\n",
    "    \"angiosarcoma\":15,\n",
    "    \"condrosarcoma\":16,\n",
    "    \"otros sarcomas\":17,\n",
    "    \"pancreatoblastoma\":18,\n",
    "    \"blastoma pleuropulmonar\":19,\n",
    "    \"otros tipos histológicos no mencionados\":20,\n",
    "    \"melanoma\":21,\n",
    "    \"carcinoma papilar de tiroides\":24,\n",
    "    \"persona con aseguramiento\":25,\n",
    "    \"no se realizó estudio histopatológico\":98\n",
    "}\n",
    "\n",
    "dic['27'].update(t_27)\n",
    "\n",
    "# una lista y marcar la moda como el return \n",
    "\n",
    "def _27(folios,dic):\n",
    "    variable = None\n",
    "    for folio in folios:\n",
    "        for llave in dic['27'].keys():\n",
    "            if llave in folio:\n",
    "                variable = llave\n",
    "                print(variable, dic['27'][llave])\n",
    "    if variable == None:\n",
    "        return dic[\"Otros tipos histológicos no mencionados\"]"
   ]
  },
  {
   "cell_type": "code",
   "execution_count": null,
   "metadata": {},
   "outputs": [],
   "source": [
    "_27(folios,dic)"
   ]
  },
  {
   "source": [
    "# Grado de diferenciación del tumor sólido maligno según la biopsia o informe de primera cirugía 28"
   ],
   "cell_type": "markdown",
   "metadata": {}
  },
  {
   "cell_type": "code",
   "execution_count": null,
   "metadata": {},
   "outputs": [],
   "source": [
    "lista_eliminar = ['na',]\n",
    "[dic['28'].pop(key,None) for key in lista_eliminar]\n",
    "\n",
    "lista_agregar = ['el reporte biopsia', 'dx en','años de evolucion']\n",
    "[dic['28'].update({key:None}) for key in lista_agregar]"
   ]
  },
  {
   "cell_type": "code",
   "execution_count": null,
   "metadata": {},
   "outputs": [],
   "source": [
    "def _28(folios,dic):\n",
    "    variable = None\n",
    "    for folio in folios:\n",
    "        for llave in dic['28'].keys():\n",
    "            if llave in folio:\n",
    "                print(llave)\n",
    "                variable = llave\n",
    "                print(variable, dic['28'][llave])\n",
    "    if variable == None:\n",
    "        return 94"
   ]
  },
  {
   "cell_type": "code",
   "execution_count": null,
   "metadata": {},
   "outputs": [],
   "source": [
    "_28(folios,dic)"
   ]
  },
  {
   "source": [
    "# Si es tumor sólido, cuál fue la primera estadificación basada en TNM, FIGO, u otras compatibles con esta numeración según tumor 29"
   ],
   "cell_type": "markdown",
   "metadata": {}
  },
  {
   "cell_type": "code",
   "execution_count": null,
   "metadata": {},
   "outputs": [],
   "source": [
    "# Volver a revisar esta jodida\n",
    "\n",
    "def _29(folios,dic):\n",
    "    variable = None\n",
    "    for folio in folios:\n",
    "        for llave in dic['29'].keys():\n",
    "            if llave in folio:\n",
    "                print(llave)\n",
    "                variable = llave\n",
    "                print(variable, dic['29'][llave])\n",
    "    if variable == None:\n",
    "        return 99"
   ]
  },
  {
   "cell_type": "code",
   "execution_count": null,
   "metadata": {},
   "outputs": [],
   "source": [
    "_29(folios,dic)"
   ]
  },
  {
   "cell_type": "code",
   "execution_count": null,
   "metadata": {},
   "outputs": [],
   "source": []
  },
  {
   "cell_type": "code",
   "execution_count": null,
   "metadata": {},
   "outputs": [],
   "source": [
    "lista_eliminar = []\n",
    "for llave in dic['30'].keys():\n",
    "    if 'fecha' in llave:\n",
    "        lista_eliminar.append(llave)\n",
    "lista_eliminar.append('na')\n",
    "[dic['30'].pop(key,None) for key in lista_eliminar]\n",
    "\n",
    "dic['30']"
   ]
  },
  {
   "cell_type": "code",
   "execution_count": 11,
   "metadata": {},
   "outputs": [],
   "source": [
    "def _30(folios,dic):\n",
    "    n = len(folios)\n",
    "    folio = folios[n-1]\n",
    "    for llave in dic['30'].keys():\n",
    "        if llave in folio:\n",
    "            return f'asd {llave}'\n",
    "    start = folio.find('fecha') + 6\n",
    "    end = start + 10\n",
    "    return f'--- {folio[start:end]}'\n"
   ]
  },
  {
   "cell_type": "code",
   "execution_count": 12,
   "metadata": {},
   "outputs": [
    {
     "output_type": "execute_result",
     "data": {
      "text/plain": [
       "'asd fecha'"
      ]
     },
     "metadata": {},
     "execution_count": 12
    }
   ],
   "source": [
    "# a tener en cuenta cuando no aplica\n",
    "# Volver a revisar esta jodida\n",
    "_30(folios,dic)"
   ]
  },
  {
   "source": [
    "# Para cáncer de mama, ¿se le realizó a este usuario la prueba HER2 (llamado también receptor 2 del factor de crecimiento epidérmico humano, también llamado erb-B2) antes del inicio del tratamiento? 31"
   ],
   "cell_type": "markdown",
   "metadata": {}
  },
  {
   "cell_type": "code",
   "execution_count": 18,
   "metadata": {},
   "outputs": [],
   "source": [
    "lista_eliminar = ['na','n','ap','linfoma ','el reporte biopsia de mama derecha','fecha','biopsia','patologia','patologia','cirugia','carcinoma','carcinoma ','ca de mama','tumor']\n",
    "[dic['31'].pop(key,None) for key in lista_eliminar]\n",
    "\n",
    "def _31(folios,dic):\n",
    "    variable = None\n",
    "    for folio in folios:\n",
    "        for llave in dic['31'].keys():\n",
    "            if llave in folio:\n",
    "                print(llave)\n",
    "                variable = llave\n",
    "                print(variable, dic['31'][llave])\n",
    "    if variable == None:\n",
    "        return 99"
   ]
  },
  {
   "source": [
    "def _31(folios,dic):\n",
    "    variable = None\n",
    "    for folio in folios:\n",
    "        tiene_ca()\n",
    "    #if tiene cancer de mama:\n",
    "        return 1\n",
    "    if variable == None:\n",
    "        return 2"
   ],
   "cell_type": "markdown",
   "metadata": {}
  },
  {
   "cell_type": "code",
   "execution_count": null,
   "metadata": {},
   "outputs": [],
   "source": [
    "_31(folios,dic)"
   ]
  },
  {
   "source": [
    "# Para cáncer de mama, fecha de realización de la primera prueba HER2 32"
   ],
   "cell_type": "markdown",
   "metadata": {}
  },
  {
   "cell_type": "code",
   "execution_count": null,
   "metadata": {},
   "outputs": [],
   "source": [
    "def _32(folios,dic):\n",
    "    return \"1845-01-01\""
   ]
  },
  {
   "cell_type": "code",
   "execution_count": null,
   "metadata": {},
   "outputs": [],
   "source": [
    "def _33(folios,dic):\n",
    "    return 98"
   ]
  },
  {
   "source": [
    "\n",
    "# Para cáncer colorrectal, estadificación de Dukes"
   ],
   "cell_type": "markdown",
   "metadata": {}
  },
  {
   "cell_type": "code",
   "execution_count": 14,
   "metadata": {},
   "outputs": [
    {
     "output_type": "execute_result",
     "data": {
      "text/plain": [
       "98"
      ]
     },
     "metadata": {},
     "execution_count": 14
    }
   ],
   "source": [
    "lista_eliminar = ['na','n','ap','eii','estadio iii']\n",
    "[dic['34'].pop(key,None) for key in lista_eliminar]\n",
    "\n",
    "lista_agregar = ['cancer de colon', 'ca colon','ca de colon']\n",
    "[dic['34'].update({key:None}) for key in lista_agregar]\n",
    "\n",
    "# Más información de la variable\n",
    "\n",
    "def _34(folios,dic):\n",
    "    variable = None\n",
    "    for folio in folios:\n",
    "        for llave in dic['34'].keys():\n",
    "            if llave in folio:\n",
    "                print(llave)\n",
    "                variable = llave\n",
    "                print(variable, dic['34'][llave])\n",
    "    if variable == None:\n",
    "        return 98\n",
    "_34(folios,dic)    "
   ]
  },
  {
   "cell_type": "code",
   "execution_count": null,
   "metadata": {},
   "outputs": [],
   "source": [
    "def _35(t_34,folios):\n",
    "    if t_34 != (98 or 99):\n",
    "        pass"
   ]
  },
  {
   "source": [
    "# 36"
   ],
   "cell_type": "markdown",
   "metadata": {}
  },
  {
   "cell_type": "code",
   "execution_count": null,
   "metadata": {},
   "outputs": [],
   "source": [
    "lista_eliminar = ['na','n',]\n",
    "[dic['36'].pop(key,None) for key in lista_eliminar]\n",
    "\n",
    "t_36 = {\n",
    "    \" Estadio I\":1,\n",
    "    \" Estadio II\":2,\n",
    "    \" Estadio III\":3,\n",
    "    \" Estadio IV\":4,\n",
    "    \" Estadio IA\":5,\n",
    "    \" Estadio IB\":6,\n",
    "    \" Estadio IIA\":7,\n",
    "    \" Estadio IIB\":8,\n",
    "    \" Estadio IIIA\":9,\n",
    "    \" Estadio IIIB\":10,\n",
    "    \" Estadio IVA\":11,\n",
    "    \" Estadio IVB\":12,\n",
    "    \" Extranodal cualquier estadio\":13,\n",
    "    \" Primario SNC\":14,\n",
    "    \" Primario Mediastinal\":15,\n",
    "    \" Primario de otros órganos\":16,\n",
    "    \"Persona con aseguramiento\":55,\n",
    "    \"No Aplica, cancer diferente\":98,\n",
    "    \"Desconocido\":99\n",
    "}\n",
    "\n",
    "\n",
    "dic['36'].update(t_36)\n",
    "\n",
    "def _36(folios,dic):\n",
    "    variable = None\n",
    "    for folio in folios:\n",
    "        for llave in dic['36'].keys():\n",
    "            if llave in folio:\n",
    "                print(llave)\n",
    "                variable = llave\n",
    "                print(variable, dic['36'][llave])\n",
    "    if variable == None:\n",
    "        return 99"
   ]
  },
  {
   "source": [
    "# 37"
   ],
   "cell_type": "markdown",
   "metadata": {}
  },
  {
   "cell_type": "code",
   "execution_count": null,
   "metadata": {},
   "outputs": [],
   "source": [
    "# arroja un score cuando en realidad fue reportado como no\n",
    "lista_eliminar = ['na','n',]\n",
    "[dic['37'].pop(key,None) for key in lista_eliminar]\n",
    "\n",
    "def _37(folios,dic):\n",
    "    variable = None\n",
    "    for folio in folios:\n",
    "        for llave in dic['37'].keys():\n",
    "            if llave in folio:\n",
    "                print(llave)\n",
    "                variable = llave\n",
    "                print(variable, dic['37'][llave])\n",
    "    if variable == None:\n",
    "        return 99"
   ]
  },
  {
   "cell_type": "code",
   "execution_count": null,
   "metadata": {},
   "outputs": [],
   "source": [
    "_37(folios,dic)"
   ]
  },
  {
   "source": [
    "# 38 "
   ],
   "cell_type": "markdown",
   "metadata": {}
  },
  {
   "cell_type": "code",
   "execution_count": null,
   "metadata": {},
   "outputs": [],
   "source": [
    "lista_eliminar = ['na','n',]\n",
    "[dic['38'].pop(key,None) for key in lista_eliminar]\n",
    "\n",
    "dic['38']"
   ]
  },
  {
   "cell_type": "code",
   "execution_count": null,
   "metadata": {},
   "outputs": [],
   "source": []
  },
  {
   "cell_type": "code",
   "execution_count": null,
   "metadata": {},
   "outputs": [],
   "source": []
  },
  {
   "cell_type": "code",
   "execution_count": null,
   "metadata": {},
   "outputs": [],
   "source": []
  },
  {
   "cell_type": "code",
   "execution_count": null,
   "metadata": {},
   "outputs": [],
   "source": []
  },
  {
   "cell_type": "code",
   "execution_count": 6,
   "metadata": {},
   "outputs": [],
   "source": [
    "\n"
   ]
  },
  {
   "cell_type": "code",
   "execution_count": 7,
   "metadata": {},
   "outputs": [
    {
     "output_type": "execute_result",
     "data": {
      "text/plain": [
       "    codigo_atc    descripcion_atc\n",
       "0     L01XE50        abemaciclib \n",
       "1      L02BX03        abiraterona\n",
       "2     L01XE51      acalabrutinib \n",
       "3      L01XE13           afatinib\n",
       "4     L01XE36          alectinib \n",
       "..         ...                ...\n",
       "191    L01CA02        vincristina\n",
       "192    L01CA03          vindesine\n",
       "193    L01CA04        vinorelbina\n",
       "194    L01XX43         vismodegib\n",
       "195    M05BA08  zoledronico acido\n",
       "\n",
       "[196 rows x 2 columns]"
      ],
      "text/html": "<div>\n<style scoped>\n    .dataframe tbody tr th:only-of-type {\n        vertical-align: middle;\n    }\n\n    .dataframe tbody tr th {\n        vertical-align: top;\n    }\n\n    .dataframe thead th {\n        text-align: right;\n    }\n</style>\n<table border=\"1\" class=\"dataframe\">\n  <thead>\n    <tr style=\"text-align: right;\">\n      <th></th>\n      <th>codigo_atc</th>\n      <th>descripcion_atc</th>\n    </tr>\n  </thead>\n  <tbody>\n    <tr>\n      <th>0</th>\n      <td>L01XE50</td>\n      <td>abemaciclib</td>\n    </tr>\n    <tr>\n      <th>1</th>\n      <td>L02BX03</td>\n      <td>abiraterona</td>\n    </tr>\n    <tr>\n      <th>2</th>\n      <td>L01XE51</td>\n      <td>acalabrutinib</td>\n    </tr>\n    <tr>\n      <th>3</th>\n      <td>L01XE13</td>\n      <td>afatinib</td>\n    </tr>\n    <tr>\n      <th>4</th>\n      <td>L01XE36</td>\n      <td>alectinib</td>\n    </tr>\n    <tr>\n      <th>...</th>\n      <td>...</td>\n      <td>...</td>\n    </tr>\n    <tr>\n      <th>191</th>\n      <td>L01CA02</td>\n      <td>vincristina</td>\n    </tr>\n    <tr>\n      <th>192</th>\n      <td>L01CA03</td>\n      <td>vindesine</td>\n    </tr>\n    <tr>\n      <th>193</th>\n      <td>L01CA04</td>\n      <td>vinorelbina</td>\n    </tr>\n    <tr>\n      <th>194</th>\n      <td>L01XX43</td>\n      <td>vismodegib</td>\n    </tr>\n    <tr>\n      <th>195</th>\n      <td>M05BA08</td>\n      <td>zoledronico acido</td>\n    </tr>\n  </tbody>\n</table>\n<p>196 rows × 2 columns</p>\n</div>"
     },
     "metadata": {},
     "execution_count": 7
    }
   ],
   "source": [
    "data"
   ]
  },
  {
   "cell_type": "code",
   "execution_count": null,
   "metadata": {},
   "outputs": [],
   "source": []
  },
  {
   "cell_type": "code",
   "execution_count": null,
   "metadata": {},
   "outputs": [],
   "source": []
  },
  {
   "cell_type": "code",
   "execution_count": null,
   "metadata": {},
   "outputs": [],
   "source": []
  },
  {
   "cell_type": "code",
   "execution_count": null,
   "metadata": {},
   "outputs": [],
   "source": []
  },
  {
   "cell_type": "code",
   "execution_count": null,
   "metadata": {},
   "outputs": [],
   "source": []
  },
  {
   "cell_type": "code",
   "execution_count": null,
   "metadata": {},
   "outputs": [],
   "source": []
  },
  {
   "cell_type": "code",
   "execution_count": null,
   "metadata": {},
   "outputs": [],
   "source": []
  },
  {
   "cell_type": "code",
   "execution_count": null,
   "metadata": {},
   "outputs": [],
   "source": []
  }
 ]
}