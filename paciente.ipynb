{
 "metadata": {
  "language_info": {
   "codemirror_mode": {
    "name": "ipython",
    "version": 3
   },
   "file_extension": ".py",
   "mimetype": "text/x-python",
   "name": "python",
   "nbconvert_exporter": "python",
   "pygments_lexer": "ipython3",
   "version": "3.8.5"
  },
  "orig_nbformat": 2,
  "kernelspec": {
   "name": "python3",
   "display_name": "Python 3",
   "language": "python"
  }
 },
 "nbformat": 4,
 "nbformat_minor": 2,
 "cells": [
  {
   "source": [
    "# Aspectos a considerar del software\n",
    "- Si los datos requeridos no estan el los folios suministrados, estos no se llenarán."
   ],
   "cell_type": "markdown",
   "metadata": {}
  },
  {
   "cell_type": "code",
   "execution_count": null,
   "metadata": {},
   "outputs": [],
   "source": [
    "import pdf_to_txt_3\n",
    "import json\n",
    "import glob"
   ]
  },
  {
   "cell_type": "code",
   "execution_count": null,
   "metadata": {},
   "outputs": [],
   "source": [
    "#pdf_to_txt_3.pdf_to_csv('CC 84046881 - HC')\n",
    "\n",
    "file = open(\"dic_1.json\",)\n",
    "dic = json.load(file)"
   ]
  },
  {
   "cell_type": "code",
   "execution_count": null,
   "metadata": {},
   "outputs": [],
   "source": [
    "# Funcion para quitar los acentos \n",
    "def normalize(s):\n",
    "    replacements = (\n",
    "        (\"á\", \"a\"),\n",
    "        (\"é\", \"e\"),\n",
    "        (\"í\", \"i\"),\n",
    "        (\"ó\", \"o\"),\n",
    "        (\"ú\", \"u\"),\n",
    "    )\n",
    "    for a, b in replacements:\n",
    "        s = s.replace(a, b)\n",
    "    return s\n",
    "\n",
    "# funcion para permanecer las mayusculas de las secciones\n",
    "def agg_mayusculas(s):\n",
    "    replacements =(\n",
    "            ('motivo de consulta','MOTIVO DE CONSULTA'),\n",
    "            ('enfermedad actual','ENFERMEDAD ACTUAL'),\n",
    "            ('examen físico','EXAMEN FÍSICO'),\n",
    "            ('análisis','ANÁLISIS'),\n",
    "            ('plan y manejo','PLAN Y MANEJO'),\n",
    "            ('diagnóstico','DIAGNÓSTICO'),\n",
    "            ('ordenes','ORDENES'),\n",
    "            ('órdenes','ÓRDENES'),\n",
    "            ('interconsultas','INTERCONSULTAS'),\n",
    "            ('notas enfermeria','NOTAS ENFERMERIA'),\n",
    "            ('formula médica','FORMULA MÉDICA'),\n",
    "            ('formatos','FORMATOS'),\n",
    "            ('recomendaciones','RECOMENDACIONES'),\n",
    "            ('nota de ingreso','NOTA DE INGRESO'),\n",
    "            ('observaciones','OBSERVACIONES')\n",
    "            )\n",
    "\n",
    "    for a, b in replacements:\n",
    "        s = s.replace(a, b) \n",
    "    return s\n",
    "\n",
    "\n",
    "# creamos función para remover los signos de puntuacion\n",
    "def remove_punctuation(text):\n",
    "    import string\n",
    "    puntc = string.punctuation.replace(\"$\",'').replace(\"=>\",'') + \"“\"\n",
    "    text_input = nltk.tokenize.word_tokenize(text)\n",
    "    text_output = [text for text in text_input if text not in puntc]\n",
    "    return ' '.join(text_output)\n",
    "\n",
    "\n",
    "\n",
    "def aux(text,search):\n",
    "    try:\n",
    "        start = text.find(search)\n",
    "        aux = text[start+3:]\n",
    "        end = aux.find('$ $')\n",
    "        fragmento = aux[:end]\n",
    "        return fragmento\n",
    "    except:\n",
    "        fragmento = None\n",
    "        return fragmento\n",
    "\n",
    "\n",
    "def aux_reg(text,search):\n",
    "    try:\n",
    "        start = text.find(search)\n",
    "        aux = text[start:]\n",
    "        end = aux.find('sede')\n",
    "        if 'sede' not in aux:\n",
    "            end = aux.find('75.0 *hosvital*')\n",
    "        fragmento = aux[:end]\n",
    "        return fragmento\n",
    "    except:\n",
    "        fragmento = None\n",
    "        return fragmento"
   ]
  },
  {
   "cell_type": "code",
   "execution_count": null,
   "metadata": {},
   "outputs": [],
   "source": [
    "# preprocesamiento general\n",
    "secciones = []\n",
    "textos = glob.glob('HISTORIA CLÍNICA No.CC 84046881 -- WARNER CHISTIAN MONTENEGRO BARROS.txt')\n",
    "for texto in textos:\n",
    "    with open(texto,'r') as file:\n",
    "        paciente = file.read()\n",
    "        paciente = paciente.lower().replace(\"\\n\",\" \") # quitamos los \"\\n\"\n",
    "        paciente = agg_mayusculas(paciente) # agregamos las mayusculas de las secciones\n",
    "        paciente = normalize(paciente) # quitamos los acentos de la data\n",
    "        #paciente = remove_punctuation(paciente)\n",
    "\n",
    "        folios = paciente.split('==>') # separamos por secciones "
   ]
  },
  {
   "source": [
    "# PRUEBAS"
   ],
   "cell_type": "markdown",
   "metadata": {}
  },
  {
   "cell_type": "code",
   "execution_count": null,
   "metadata": {},
   "outputs": [],
   "source": [
    "for folio in folios:\n",
    "    print(folio,'\\n\\n')"
   ]
  },
  {
   "cell_type": "code",
   "execution_count": null,
   "metadata": {},
   "outputs": [],
   "source": [
    "'biopsia' in paciente"
   ]
  },
  {
   "cell_type": "code",
   "execution_count": null,
   "metadata": {},
   "outputs": [],
   "source": []
  },
  {
   "source": [
    "# Diagnostico 17"
   ],
   "cell_type": "markdown",
   "metadata": {}
  },
  {
   "cell_type": "code",
   "execution_count": null,
   "metadata": {},
   "outputs": [],
   "source": [
    "def _17(folios,dic):\n",
    "    here = []\n",
    "    for folio in range(len(folios)):\n",
    "        if '$$DIAGNÓSTICO' in folios[folio]:\n",
    "            here.append(folio)\n",
    "    ultimo = max(here)\n",
    "    fragmento = aux(folios[ultimo],\"$$DIAGNÓSTICO\")\n",
    "    for valor in dic['17'].values():\n",
    "        if valor in fragmento:\n",
    "            variable = valor\n",
    "            print(variable)\n",
    "        else:\n",
    "            variable = None\n",
    "    return variable"
   ]
  },
  {
   "cell_type": "code",
   "execution_count": null,
   "metadata": {},
   "outputs": [],
   "source": [
    "_17(folios,dic)"
   ]
  },
  {
   "source": [
    "# Fecha de Diagnóstico del Cáncer reportado 18\n",
    "- Necesito HC con los que pueda llenar este campo."
   ],
   "cell_type": "markdown",
   "metadata": {}
  },
  {
   "cell_type": "code",
   "execution_count": null,
   "metadata": {},
   "outputs": [],
   "source": [
    "lista_eliminar = ['patologia', 'enfermedad actual','de patologia','fecha','biopsia','patologia.','cancer de vejiga','desde abril 2009 ','-mamografia bilateral','na','hace , 10 años','cuadrantectomia','ap','cancer cervical hace 13 años','desde hace , mas de 5 años','linfoma']\n",
    "[dic['18'].pop(key,None) for key in lista_eliminar]\n",
    "\n",
    "lista_agregar = ['desde hace']\n",
    "[dic['18'].update({key:None}) for key in lista_agregar]\n",
    "dic['18']"
   ]
  },
  {
   "cell_type": "code",
   "execution_count": null,
   "metadata": {},
   "outputs": [],
   "source": [
    "#separar por token word, luego escoger la fecha\n",
    "\n",
    "def _18(folios,dic):\n",
    "    for folio in range(len(folios)):\n",
    "        for valor in dic['18'].keys():\n",
    "            if valor in folios[folio]:\n",
    "                variable = valor\n",
    "                print(variable)\n",
    "            else:\n",
    "                variable = None\n",
    "        #print('Ninguna coincidencia encontrada')\n",
    "    if variable:\n",
    "        return variable\n",
    "    print('Ninguna coincidencia encontrada')\n",
    "    variable = \"1800-01-01\"\n",
    "    return variable"
   ]
  },
  {
   "cell_type": "code",
   "execution_count": null,
   "metadata": {},
   "outputs": [],
   "source": [
    "_18(folios,dic)"
   ]
  },
  {
   "source": [
    "# Fecha de la nota de remisión del médico o institución general hacia la institución que hizo el diagnóstico 19 "
   ],
   "cell_type": "markdown",
   "metadata": {}
  },
  {
   "cell_type": "code",
   "execution_count": null,
   "metadata": {},
   "outputs": [],
   "source": [
    "lista_eliminar = ['ecografia','ecografia mamaria','n','colonoscopipa total bajo sedacion','eco tv','ecografia mamaria bilateral','mamografia bilateral','bacaf de tiroides','mamografia','mamograsfia con reporte','na','fecha','ecografia maamria con reporte de','se realiza una ecografia maamria bilateral','ecogarfia mamaria','ecografi abodminal','hematopecia dese']\n",
    "[dic['19'].pop(key,None) for key in lista_eliminar]\n",
    "\n",
    "lista_agregar = ['remitido el','trasladado el','mamograsfia con reporte','ecografia mamaria con reporte de','hematopecia desde','se realiza una ecografia mamaria bilateral']\n",
    "[dic['19'].update({key:None}) for key in lista_agregar]"
   ]
  },
  {
   "cell_type": "code",
   "execution_count": null,
   "metadata": {},
   "outputs": [],
   "source": [
    "def _19(folios,dic):\n",
    "    for folio in range(len(folios)):\n",
    "        for valor in dic['19'].keys():\n",
    "            if valor in folios[folio]:\n",
    "                variable = valor\n",
    "                print(variable)\n",
    "            else:\n",
    "                variable = None\n",
    "        #print('Ninguna coincidencia encontrada')\n",
    "    if variable:\n",
    "        return variable\n",
    "    print('Ninguna coincidencia encontrada')\n",
    "    variable = \"1800-01-01\"\n",
    "    return variable"
   ]
  },
  {
   "cell_type": "code",
   "execution_count": null,
   "metadata": {},
   "outputs": [],
   "source": [
    "_19(folios,dic)"
   ]
  },
  {
   "source": [
    "# Fecha de ingreso a la institución que realizó el diagnóstico luego de la remisión intenconsulta 20"
   ],
   "cell_type": "markdown",
   "metadata": {}
  },
  {
   "cell_type": "code",
   "execution_count": null,
   "metadata": {},
   "outputs": [],
   "source": [
    "lista_eliminar = ['ecografia','ecografia mamaria','n','colonoscopipa total bajo sedacion','eco tv','ecografia mamaria bilateral','mamografia bilateral','bacaf de tiroides','mamografia','mamograsfia con reporte','na','fecha','ecografia maamria con reporte de','se realiza una ecografia maamria bilateral','ecogarfia mamaria','ecografi abodminal','hematopecia dese','n','biopsia','biopsia de mama','istmectomia','biopsia de mama izquierda','biopsia de mama bilateral']\n",
    "[dic['20'].pop(key,None) for key in lista_eliminar]\n",
    "\n",
    "lista_agregar = ['remitido el','trasladado el','mamograsfia con reporte','ecografia mamaria con reporte de','hematopecia desde','se realiza una ecografia mamaria bilateral']\n",
    "[dic['20'].update({key:None}) for key in lista_agregar]"
   ]
  },
  {
   "cell_type": "code",
   "execution_count": null,
   "metadata": {},
   "outputs": [],
   "source": [
    "# si la variable 19 es \"1800-01-01\" esta tambien lo será\n",
    "\n",
    "def _20(folios,dic):\n",
    "    for folio in range(len(folios)):\n",
    "        for valor in dic['20'].keys():\n",
    "            if valor in folios[folio]:\n",
    "                variable = valor\n",
    "                print(variable)\n",
    "            else:\n",
    "                variable = None\n",
    "        #print('Ninguna coincidencia encontrada')\n",
    "    if variable:\n",
    "        return variable\n",
    "    print('Ninguna coincidencia encontrada')\n",
    "    variable = \"1800-01-01\"\n",
    "    return variable"
   ]
  },
  {
   "cell_type": "code",
   "execution_count": null,
   "metadata": {},
   "outputs": [],
   "source": [
    "_20(folios,dic)"
   ]
  },
  {
   "source": [
    "# Tipo de estudio con el que se realizó el diagnóstico de cáncer 21"
   ],
   "cell_type": "markdown",
   "metadata": {}
  },
  {
   "cell_type": "code",
   "execution_count": null,
   "metadata": {},
   "outputs": [],
   "source": [
    "lista_eliminar = ['na','n','ap','linfoma ','linfoma no hodgkin','linfoma no hodgkin','linfoma']\n",
    "[dic['21'].pop(key,None) for key in lista_eliminar]\n",
    "\n",
    "lista_agregar = []\n",
    "[dic['21'].update({key:None}) for key in lista_agregar]\n",
    "\n",
    "agregar  = {\n",
    "    \"Inmunohistoquímica\":'5',\n",
    "    \"Citometría de flujo\":'6',\n",
    "    \"Clínica exclusivamente\":'7',\n",
    "    \"Otro\":'8',\n",
    "    \"Genética\":'9',\n",
    "    \"Patología básica\":'10',\n",
    "    \"Desconocido\":'99',\n",
    "    \"Persona con aseguramiento\":'55'\n",
    "}\n",
    "\n",
    "dic['21'].update(agregar)"
   ]
  },
  {
   "cell_type": "code",
   "execution_count": null,
   "metadata": {},
   "outputs": [],
   "source": [
    "def _21(folios,dic):\n",
    "    for folio in range(len(folios)):\n",
    "        for valor in dic['21'].keys():\n",
    "            if valor in folios[folio]:\n",
    "                variable = dic['21'][valor]\n",
    "                print(valor,variable)\n",
    "            else:\n",
    "                variable = None\n",
    "        #print('Ninguna coincidencia encontrada')\n",
    "    if variable:\n",
    "        return variable\n",
    "    print('Ninguna coincidencia encontrada')\n",
    "    variable = \"99\"\n",
    "    return variable"
   ]
  },
  {
   "cell_type": "code",
   "execution_count": null,
   "metadata": {},
   "outputs": [],
   "source": [
    "_21(folios,dic)"
   ]
  },
  {
   "source": [
    "# Motivo por el cual el usuario no tuvo diagnóstico por histopatología a la fecha de corte (aplica para registros con respuesta igual a 7 en la variable anterior) 22"
   ],
   "cell_type": "markdown",
   "metadata": {}
  },
  {
   "cell_type": "code",
   "execution_count": null,
   "metadata": {},
   "outputs": [],
   "source": [
    "def _22():\n",
    "    ''' es un valor predeterminado'''\n",
    "    variable = 98\n",
    "    return variable"
   ]
  },
  {
   "source": [
    "# Fecha de recolección de muestra para estudio histopatológico de diagnóstico 23"
   ],
   "cell_type": "markdown",
   "metadata": {}
  },
  {
   "cell_type": "code",
   "execution_count": null,
   "metadata": {},
   "outputs": [],
   "source": [
    "def _23(folios,dic):\n",
    "    for folio in range(len(folios)):\n",
    "        for valor in dic['23'].keys():\n",
    "            if valor in folios[folio]:\n",
    "                variable = dic['23'][valor]\n",
    "                print(valor,variable)\n",
    "            else:\n",
    "                variable = None\n",
    "        #print('Ninguna coincidencia encontrada')\n",
    "    if variable:\n",
    "        return variable\n",
    "    print('Ninguna coincidencia encontrada')\n",
    "    variable = \"1800-01-01\"\n",
    "    return variable"
   ]
  },
  {
   "cell_type": "code",
   "execution_count": null,
   "metadata": {},
   "outputs": [],
   "source": [
    "_23(folio,dic)"
   ]
  },
  {
   "source": [
    "# Fecha de Primero o único informe histopatológico válido de diagnóstico 24"
   ],
   "cell_type": "markdown",
   "metadata": {}
  },
  {
   "cell_type": "code",
   "execution_count": null,
   "metadata": {},
   "outputs": [],
   "source": [
    "#_24 = __18"
   ]
  },
  {
   "source": [
    "# Código válido de habilitación de la IPS donde se realiza la confirmación diagnóstica 25"
   ],
   "cell_type": "markdown",
   "metadata": {}
  },
  {
   "cell_type": "code",
   "execution_count": null,
   "metadata": {},
   "outputs": [],
   "source": [
    "# se tiene que inferir \n",
    "def _25(folio,dic):\n",
    "    return \"80010054401\""
   ]
  },
  {
   "source": [
    "# Fecha de primera consulta con médico tratante de la enfermedad maligna (médico especialista que define la primera conducta terapéutica-terapia sistémica, cirugía , radioterapia o cuidado paliativos- manejo expectante) 26"
   ],
   "cell_type": "markdown",
   "metadata": {}
  },
  {
   "cell_type": "code",
   "execution_count": null,
   "metadata": {},
   "outputs": [],
   "source": [
    "def _26(folios):\n",
    "    for folio in folios:\n",
    "        frag = aux_reg(folio,'reg. ')\n",
    "        if 'oncologia' in frag:\n",
    "            start = folio.find('fecha') + 6\n",
    "            end = start + 10\n",
    "            return folio[start:end]\n",
    "        else:\n",
    "            return \"1800-01-01\"\n",
    "    "
   ]
  },
  {
   "cell_type": "code",
   "execution_count": null,
   "metadata": {},
   "outputs": [],
   "source": [
    "_26(folio)"
   ]
  },
  {
   "source": [
    "# Histología del tumor en muestra de biopsia o quirúrgica 27"
   ],
   "cell_type": "markdown",
   "metadata": {}
  },
  {
   "cell_type": "code",
   "execution_count": null,
   "metadata": {},
   "outputs": [],
   "source": [
    "lista_eliminar = ['na','n','ap','linfoma ','el reporte biopsia de mama derecha','fecha','biopsia','patologia','patologia','cirugia','carcinoma','carcinoma ','ca de mama','tumor']\n",
    "[dic['27'].pop(key,None) for key in lista_eliminar]\n",
    "\n",
    "lista_agregar = ['el reporte biopsia', 'dx en','años de evolucion']\n",
    "[dic['27'].update({key:None}) for key in lista_agregar]\n",
    "\n",
    "t_27 = { # enfermedad actual\n",
    "    \"adenocarcinoma\":1,\n",
    "    \"carcinoma escamocelular\":2,\n",
    "    \"carcinoma de células basales\":3,\n",
    "    \"carcinoma diferente\":4,\n",
    "    \"oligodendroglioma\":5,\n",
    "    \"astrocitoma\":6,\n",
    "    \"ependimoma\":7,\n",
    "    \"neuroblastoma\":8,\n",
    "    \"meduloblastoma\":9,\n",
    "    \"hepatoblastoma\":10,\n",
    "    \"rabdomiosarcoma\":11,\n",
    "    \"leiomiosarcoma\":12,\n",
    "    \"osteosarcoma\":13,\n",
    "    \"fibrosarcoma\":14,\n",
    "    \"angiosarcoma\":15,\n",
    "    \"condrosarcoma\":16,\n",
    "    \"otros sarcomas\":17,\n",
    "    \"pancreatoblastoma\":18,\n",
    "    \"blastoma pleuropulmonar\":19,\n",
    "    \"otros tipos histológicos no mencionados\":20,\n",
    "    \"melanoma\":21,\n",
    "    \"carcinoma papilar de tiroides\":24,\n",
    "    \"persona con aseguramiento\":25,\n",
    "    \"no se realizó estudio histopatológico\":98\n",
    "}\n",
    "\n",
    "dic['27'].update(t_27)\n",
    "\n",
    "# una lista y marcar la moda como el return \n",
    "\n",
    "def _27(folios,dic):\n",
    "    variable = None\n",
    "    for folio in folios:\n",
    "        for llave in dic['27'].keys():\n",
    "            if llave in folio:\n",
    "                variable = llave\n",
    "                print(variable, dic['27'][llave])\n",
    "    if variable == None:\n",
    "        return dic[\"Otros tipos histológicos no mencionados\"]"
   ]
  },
  {
   "cell_type": "code",
   "execution_count": null,
   "metadata": {},
   "outputs": [],
   "source": [
    "_27(folios,dic)"
   ]
  },
  {
   "source": [
    "# Grado de diferenciación del tumor sólido maligno según la biopsia o informe de primera cirugía 28"
   ],
   "cell_type": "markdown",
   "metadata": {}
  },
  {
   "cell_type": "code",
   "execution_count": null,
   "metadata": {},
   "outputs": [],
   "source": [
    "lista_eliminar = ['na',]\n",
    "[dic['28'].pop(key,None) for key in lista_eliminar]\n",
    "\n",
    "lista_agregar = ['el reporte biopsia', 'dx en','años de evolucion']\n",
    "[dic['28'].update({key:None}) for key in lista_agregar]"
   ]
  },
  {
   "cell_type": "code",
   "execution_count": null,
   "metadata": {},
   "outputs": [],
   "source": [
    "def _28(folios,dic):\n",
    "    variable = None\n",
    "    for folio in folios:\n",
    "        for llave in dic['28'].keys():\n",
    "            if llave in folio:\n",
    "                print(llave)\n",
    "                variable = llave\n",
    "                print(variable, dic['28'][llave])\n",
    "    if variable == None:\n",
    "        return 94"
   ]
  },
  {
   "cell_type": "code",
   "execution_count": null,
   "metadata": {},
   "outputs": [],
   "source": [
    "_28(folios,dic)"
   ]
  },
  {
   "source": [
    "# Si es tumor sólido, cuál fue la primera estadificación basada en TNM, FIGO, u otras compatibles con esta numeración según tumor 29"
   ],
   "cell_type": "markdown",
   "metadata": {}
  },
  {
   "cell_type": "code",
   "execution_count": null,
   "metadata": {},
   "outputs": [],
   "source": [
    "# Volver a revisar esta jodida\n",
    "\n",
    "def _29(folios,dic):\n",
    "    variable = None\n",
    "    for folio in folios:\n",
    "        for llave in dic['29'].keys():\n",
    "            if llave in folio:\n",
    "                print(llave)\n",
    "                variable = llave\n",
    "                print(variable, dic['29'][llave])\n",
    "    if variable == None:\n",
    "        return 99"
   ]
  },
  {
   "cell_type": "code",
   "execution_count": null,
   "metadata": {},
   "outputs": [],
   "source": [
    "_29(folios,dic)"
   ]
  },
  {
   "cell_type": "code",
   "execution_count": null,
   "metadata": {},
   "outputs": [],
   "source": []
  },
  {
   "cell_type": "code",
   "execution_count": null,
   "metadata": {},
   "outputs": [],
   "source": [
    "lista_eliminar = []\n",
    "for llave in dic['30'].keys():\n",
    "    if 'fecha' in llave:\n",
    "        lista_eliminar.append(llave)\n",
    "lista_eliminar.append('na')\n",
    "[dic['30'].pop(key,None) for key in lista_eliminar]\n",
    "\n",
    "dic['30']"
   ]
  },
  {
   "cell_type": "code",
   "execution_count": null,
   "metadata": {},
   "outputs": [],
   "source": [
    "def _30(folios,dic):\n",
    "    n = len(folios)\n",
    "    folio = folios[n-1]\n",
    "    for llave in dic['30'].keys():\n",
    "        if llave in folio:\n",
    "            return dic['30'][llave]\n",
    "    start = folio.find('fecha') + 6\n",
    "    end = start + 10\n",
    "    return folio[start:end]\n"
   ]
  },
  {
   "cell_type": "code",
   "execution_count": null,
   "metadata": {},
   "outputs": [],
   "source": [
    "# a tener en cuenta cuando no aplica\n",
    "# Volver a revisar esta jodida\n",
    "_30(folios,dic)"
   ]
  },
  {
   "source": [
    "# Para cáncer de mama, ¿se le realizó a este usuario la prueba HER2 (llamado también receptor 2 del factor de crecimiento epidérmico humano, también llamado erb-B2) antes del inicio del tratamiento? 31"
   ],
   "cell_type": "markdown",
   "metadata": {}
  },
  {
   "cell_type": "code",
   "execution_count": null,
   "metadata": {},
   "outputs": [],
   "source": [
    "lista_eliminar = ['na','n','ap','linfoma ','el reporte biopsia de mama derecha','fecha','biopsia','patologia','patologia','cirugia','carcinoma','carcinoma ','ca de mama','tumor']\n",
    "[dic['31'].pop(key,None) for key in lista_eliminar]\n",
    "\n",
    "def _31(folios,dic):\n",
    "    variable = None\n",
    "    for folio in folios:\n",
    "        for llave in dic['31'].keys():\n",
    "            if llave in folio:\n",
    "                print(llave)\n",
    "                variable = llave\n",
    "                print(variable, dic['31'][llave])\n",
    "    if variable == None:\n",
    "        return 99"
   ]
  },
  {
   "source": [
    "def _31(folios,dic):\n",
    "    variable = None\n",
    "    for folio in folios:\n",
    "        tiene_ca()\n",
    "    #if tiene cancer de mama:\n",
    "        return 1\n",
    "    if variable == None:\n",
    "        return 2"
   ],
   "cell_type": "markdown",
   "metadata": {}
  },
  {
   "cell_type": "code",
   "execution_count": null,
   "metadata": {},
   "outputs": [],
   "source": [
    "_31(folios,dic)"
   ]
  },
  {
   "source": [
    "# Para cáncer de mama, fecha de realización de la primera prueba HER2 32"
   ],
   "cell_type": "markdown",
   "metadata": {}
  },
  {
   "cell_type": "code",
   "execution_count": null,
   "metadata": {},
   "outputs": [],
   "source": [
    "def _32(folios,dic):\n",
    "    return \"1845-01-01\""
   ]
  },
  {
   "cell_type": "code",
   "execution_count": null,
   "metadata": {},
   "outputs": [],
   "source": [
    "def _33(folios,dic):\n",
    "    return 98"
   ]
  },
  {
   "source": [
    "\n",
    "# Para cáncer colorrectal, estadificación de Dukes"
   ],
   "cell_type": "markdown",
   "metadata": {}
  },
  {
   "cell_type": "code",
   "execution_count": null,
   "metadata": {},
   "outputs": [],
   "source": [
    "lista_eliminar = ['na','n','ap','eii','estadio iii']\n",
    "[dic['34'].pop(key,None) for key in lista_eliminar]\n",
    "\n",
    "lista_agregar = ['cancer de colon', 'ca colon','ca de colon']\n",
    "[dic['34'].update({key:None}) for key in lista_agregar]\n",
    "\n",
    "# Más información de la variable\n",
    "\n",
    "def _34(folios,dic):\n",
    "    variable = None\n",
    "    for folio in folios:\n",
    "        for llave in dic['34'].keys():\n",
    "            if llave in folio:\n",
    "                print(llave)\n",
    "                variable = llave\n",
    "                print(variable, dic['34'][llave])\n",
    "    if variable == None:\n",
    "        return 98\n",
    "    "
   ]
  },
  {
   "cell_type": "code",
   "execution_count": null,
   "metadata": {},
   "outputs": [],
   "source": [
    "def _35(t_34,folios):\n",
    "    if t_34 != (98 or 99):\n",
    "        pass"
   ]
  },
  {
   "source": [
    "# 36"
   ],
   "cell_type": "markdown",
   "metadata": {}
  },
  {
   "cell_type": "code",
   "execution_count": null,
   "metadata": {},
   "outputs": [],
   "source": [
    "lista_eliminar = ['na','n',]\n",
    "[dic['36'].pop(key,None) for key in lista_eliminar]\n",
    "\n",
    "t_36 = {\n",
    "    \" Estadio I\":1,\n",
    "    \" Estadio II\":2,\n",
    "    \" Estadio III\":3,\n",
    "    \" Estadio IV\":4,\n",
    "    \" Estadio IA\":5,\n",
    "    \" Estadio IB\":6,\n",
    "    \" Estadio IIA\":7,\n",
    "    \" Estadio IIB\":8,\n",
    "    \" Estadio IIIA\":9,\n",
    "    \" Estadio IIIB\":10,\n",
    "    \" Estadio IVA\":11,\n",
    "    \" Estadio IVB\":12,\n",
    "    \" Extranodal cualquier estadio\":13,\n",
    "    \" Primario SNC\":14,\n",
    "    \" Primario Mediastinal\":15,\n",
    "    \" Primario de otros órganos\":16,\n",
    "    \"Persona con aseguramiento\":55,\n",
    "    \"No Aplica, cancer diferente\":98,\n",
    "    \"Desconocido\":99\n",
    "}\n",
    "\n",
    "\n",
    "dic['36'].update(t_36)\n",
    "\n",
    "def _36(folios,dic):\n",
    "    variable = None\n",
    "    for folio in folios:\n",
    "        for llave in dic['36'].keys():\n",
    "            if llave in folio:\n",
    "                print(llave)\n",
    "                variable = llave\n",
    "                print(variable, dic['36'][llave])\n",
    "    if variable == None:\n",
    "        return 99"
   ]
  },
  {
   "source": [
    "# 37"
   ],
   "cell_type": "markdown",
   "metadata": {}
  },
  {
   "cell_type": "code",
   "execution_count": null,
   "metadata": {},
   "outputs": [],
   "source": [
    "# arroja un score cuando en realidad fue reportado como no\n",
    "lista_eliminar = ['na','n',]\n",
    "[dic['37'].pop(key,None) for key in lista_eliminar]\n",
    "\n",
    "def _37(folios,dic):\n",
    "    variable = None\n",
    "    for folio in folios:\n",
    "        for llave in dic['37'].keys():\n",
    "            if llave in folio:\n",
    "                print(llave)\n",
    "                variable = llave\n",
    "                print(variable, dic['37'][llave])\n",
    "    if variable == None:\n",
    "        return 99"
   ]
  },
  {
   "cell_type": "code",
   "execution_count": null,
   "metadata": {},
   "outputs": [],
   "source": [
    "_37(folios,dic)"
   ]
  },
  {
   "source": [
    "# 38 "
   ],
   "cell_type": "markdown",
   "metadata": {}
  },
  {
   "cell_type": "code",
   "execution_count": null,
   "metadata": {},
   "outputs": [],
   "source": [
    "lista_eliminar = ['na','n',]\n",
    "[dic['38'].pop(key,None) for key in lista_eliminar]\n",
    "\n",
    "dic['38']"
   ]
  },
  {
   "cell_type": "code",
   "execution_count": null,
   "metadata": {},
   "outputs": [],
   "source": []
  },
  {
   "cell_type": "code",
   "execution_count": null,
   "metadata": {},
   "outputs": [],
   "source": []
  },
  {
   "cell_type": "code",
   "execution_count": null,
   "metadata": {},
   "outputs": [],
   "source": []
  },
  {
   "cell_type": "code",
   "execution_count": null,
   "metadata": {},
   "outputs": [],
   "source": []
  },
  {
   "cell_type": "code",
   "execution_count": null,
   "metadata": {},
   "outputs": [],
   "source": []
  },
  {
   "cell_type": "code",
   "execution_count": null,
   "metadata": {},
   "outputs": [],
   "source": []
  },
  {
   "cell_type": "code",
   "execution_count": null,
   "metadata": {},
   "outputs": [],
   "source": []
  },
  {
   "cell_type": "code",
   "execution_count": null,
   "metadata": {},
   "outputs": [],
   "source": []
  },
  {
   "cell_type": "code",
   "execution_count": null,
   "metadata": {},
   "outputs": [],
   "source": []
  },
  {
   "cell_type": "code",
   "execution_count": null,
   "metadata": {},
   "outputs": [],
   "source": []
  },
  {
   "cell_type": "code",
   "execution_count": null,
   "metadata": {},
   "outputs": [],
   "source": []
  },
  {
   "cell_type": "code",
   "execution_count": 109,
   "metadata": {},
   "outputs": [],
   "source": [
    "__1 = None\n",
    "__2 = None\n",
    "__3 = None\n",
    "__4 = None\n",
    "__5 = None\n",
    "__6 = None\n",
    "__7 = None\n",
    "__8 = None\n",
    "__9 = None\n",
    "__10 = None\n",
    "__11 = None\n",
    "__12 = None\n",
    "__13 = None\n",
    "__14 = None\n",
    "__15 = None\n",
    "__16 = None\n",
    "__17 = None\n",
    "__18 = None\n",
    "__19 = None\n",
    "__20 = None\n",
    "__21 = None\n",
    "__22 = None\n",
    "__23 = None\n",
    "__24 = None\n",
    "__25 = None\n",
    "__26 = None\n",
    "__27 = None\n",
    "__28 = None\n",
    "__29 = None\n",
    "__30 = None\n",
    "__31 = None\n",
    "__32 = None\n",
    "__33 = None\n",
    "__34 = None\n",
    "__35 = None\n",
    "__36 = None\n",
    "__37 = None\n",
    "__38 = None\n",
    "__39 = None\n",
    "__40 = None\n",
    "__41 = None\n",
    "__42 = None\n",
    "__43 = None\n",
    "__44 = None\n",
    "__45 = None\n",
    "__46 = None\n",
    "__47 = None\n",
    "__48 = None\n",
    "__49 = None\n",
    "__50 = None\n",
    "__51 = None\n",
    "__52 = None\n",
    "__53 = None\n",
    "__54 = None\n",
    "__55 = None\n",
    "__56 = None\n",
    "__57 = None\n",
    "__58 = None\n",
    "__59 = None\n",
    "__60 = None\n",
    "__61 = None\n",
    "__62 = None\n",
    "__63 = None\n",
    "__64 = None\n",
    "__65 = None\n",
    "__66 = None\n",
    "__67 = None\n",
    "__68 = None\n",
    "__69 = None\n",
    "__70 = None\n",
    "__71 = None\n",
    "__72 = None\n",
    "__73 = None\n",
    "__74 = None\n",
    "__75 = None\n",
    "__76 = None\n",
    "__77 = None\n",
    "__78 = None\n",
    "__79 = None\n",
    "__80 = None\n",
    "__81 = None\n",
    "__82 = None\n",
    "__83 = None\n",
    "__84 = None\n",
    "__85 = None\n",
    "__86 = None\n",
    "__87 = None\n",
    "__88 = None\n",
    "__89 = None\n",
    "__90 = None\n",
    "__91 = None\n",
    "__92 = None\n",
    "__93 = None\n",
    "__94 = None\n",
    "__95 = None\n",
    "__96 = None\n",
    "__97 = None\n",
    "__98 = None\n",
    "__99 = None\n",
    "__100 = None\n",
    "__101 = None\n",
    "__102 = None\n",
    "__103 = None\n",
    "__104 = None\n",
    "__105 = None\n",
    "__106 = None\n",
    "__107 = None\n",
    "__108 = None\n",
    "__109 = None\n",
    "__110 = None\n",
    "__111 = None\n",
    "__112 = None\n",
    "__113 = None\n",
    "__114 = None\n",
    "__115 = None\n",
    "__116 = None\n",
    "__117 = None\n",
    "__118 = None\n",
    "__119 = None\n",
    "__120 = None\n",
    "__121 = None\n",
    "__122 = None\n",
    "__123 = None\n",
    "__124 = None\n",
    "__125 = None\n",
    "__126 = None\n",
    "__127 = None\n",
    "__128 = None\n",
    "__129 = None\n",
    "__130 = None\n",
    "__131 = None\n",
    "__132 = None\n",
    "__133 = None\n",
    "__134 = None\n",
    "__135 = None\n",
    "__136 = None\n",
    "__137 = None\n",
    "__138 = None\n",
    "__139 = None\n",
    "__140 = None\n",
    "__141 = None\n",
    "__142 = None\n",
    "__143 = None\n",
    "__144 = None\n",
    "__145 = None\n",
    "__146 = None\n",
    "__147 = None\n",
    "__148 = None\n",
    "__149 = None\n",
    "__150 = None\n",
    "__151 = None\n",
    "__152 = None\n",
    "__153 = None\n",
    "__154 = None\n",
    "__155 = None\n",
    "__156 = None\n",
    "__157 = None\n",
    "__158 = None\n",
    "__159 = None\n",
    "__160 = None\n",
    "__161 = None\n",
    "__162 = None\n",
    "__163 = None\n",
    "__164 = None\n",
    "__165= None \n",
    "__166 = None"
   ]
  },
  {
   "cell_type": "code",
   "execution_count": 116,
   "metadata": {},
   "outputs": [
    {
     "output_type": "stream",
     "name": "stdout",
     "text": [
      "nayibis\n",
      "none\n",
      "morelo\n",
      "marimon\n",
      "cc\n",
      "40925684\n",
      "14/01/1971 \n",
      "F\n",
      "ama de casa\n",
      "nivel 1\n",
      "comfaguajira pgp oncologia subsidiado \n",
      "ninguno de los anteriores \n",
      "no definido \n",
      "riohacha \n",
      "3226754735 \n",
      "na\n",
      "==> 17: c509\n",
      "==> 18 1800-01-01\n",
      "==>26 : 1800-01-01\n",
      " \n",
      "==> 30: 19/04/2021\n",
      "dolor \n",
      "==>140: 1\n",
      "==>141: 1\n",
      "==>142: 2\n",
      "==>143: 2\n",
      "==>144: 2\n",
      "==>145: 2\n",
      "==>146: 1\n",
      "==>147: 23/03/2021\n",
      "==>148: 98\n",
      " \n",
      "psicologia\n",
      "==>149: 2\n",
      "==>150: 1845-01-01\n",
      "==>151: 98\n",
      " \n",
      "Nutricion\n",
      "==>152: 1\n",
      "==>153: 25/01/2021\n",
      "==>154: 98\n",
      "==>155: 1\n",
      "==>156: 98\n"
     ]
    }
   ],
   "source": [
    "p4 = \"40925684\"\n",
    "p2 = \"84046881\"\n",
    "p3 = \"1192943668\"\n",
    "p1 = p4\n",
    "\n",
    "\n",
    "import connect_db_1\n",
    "import bd_to_dic_2\n",
    "import pdf_to_txt_3\n",
    "import json\n",
    "import glob\n",
    "import os \n",
    "import openpyxl\n",
    "from openpyxl import Workbook\n",
    "from openpyxl import load_workbook\n",
    "import nltk\n",
    "#import cac_data_4\n",
    "\n",
    "#Convertimos el pdf en texto\n",
    "#pdf_to_txt_3.pdf_to_csv('CC 40925684 - HC')\n",
    "\n",
    "# Cargamos el diccionario\n",
    "file = open(\"dic_1.json\",)\n",
    "dic = json.load(file)\n",
    "\n",
    "####################################\n",
    "### DECLARAMOS ALGUNAS FUNCIONES ###\n",
    "####################################\n",
    "\n",
    "# Funcion para quitar los acentos \n",
    "def mayusculas_sec_clave(s):\n",
    "    ''' Funcion para volver mayusculas las secciones clave'''\n",
    "    replacements =(\n",
    "        ('motivo de consulta','MOTIVO DE CONSULTA'),\n",
    "        ('enfermedad actual','ENFERMEDAD ACTUAL'),\n",
    "        ('examen fisico','EXAMEN FÍSICO'),\n",
    "        ('analisis','ANÁLISIS'),\n",
    "        ('evolucion medico','EVOLUCION MEDICO'),\n",
    "        ('antecedentes','ANTECEDENTES'),\n",
    "        ('plan y manejo','PLAN Y MANEJO'),\n",
    "        ('diagnostico','DIAGNÓSTICO'),\n",
    "        ('diagnóstico','DIAGNÓSTICO'),\n",
    "        ('ordenes','ORDENES'),\n",
    "        ('órdenes','ÓRDENES'),\n",
    "        ('interconsultas','INTERCONSULTAS'),\n",
    "        ('notas enfermeria','NOTAS ENFERMERIA'),\n",
    "        ('formula médica','FORMULA MÉDICA'),\n",
    "        ('formatos','FORMATOS'),\n",
    "        ('evolucion medico','EVOLUCION MEDICO'),\n",
    "        ('recomendaciones','RECOMENDACIONES'),\n",
    "        ('descripcion cirugia',\"DESCRIPCIÓN CIRUGÍA\"),\n",
    "        ('nota de ingreso','NOTA DE INGRESO'),\n",
    "        ('observaciones','OBSERVACIONES')\n",
    "        )\n",
    "    for a, b in replacements:\n",
    "        s = s.replace(a, b)\n",
    "    return s\n",
    "\n",
    "def normalize(s):\n",
    "    replacements = (\n",
    "        (\"á\", \"a\"),\n",
    "        (\"é\", \"e\"),\n",
    "        (\"í\", \"i\"),\n",
    "        (\"ó\", \"o\"),\n",
    "        (\"ó\", \"o\"),\n",
    "        (\"ú\", \"u\"),\n",
    "    )\n",
    "    for a, b in replacements:\n",
    "        s = s.replace(a, b)\n",
    "    return s\n",
    "\n",
    "def aux(text,search,helper=False):\n",
    "    start = text.find(search)\n",
    "    aux = text[start:]\n",
    "    end = aux.find('\\n')\n",
    "    fragmento = aux[:end]\n",
    "    if helper==True:\n",
    "        fragmento = fragmento[fragmento.find(':')+2:]\n",
    "        return fragmento.replace('\\n','')\n",
    "    return fragmento.replace('\\n','')\n",
    "\n",
    "\n",
    "def search_text_in_text(texto,dic,tipo):\n",
    "    success = 0\n",
    "    for item in dic[tipo].keys():\n",
    "        if item in texto:\n",
    "            success = 1\n",
    "        if texto.count(item) != 0:\n",
    "            print(f'{item} --> {dic[tipo][item][0]} ')\n",
    "    if success == 0:\n",
    "        print(dic[tipo]['na'])\n",
    "\n",
    "def aux_2(text,search):\n",
    "    try:\n",
    "        start = text.find(search)\n",
    "        aux = text[start+3:]\n",
    "        end = aux.find('$ $')\n",
    "        fragmento = aux[:end]\n",
    "        return fragmento\n",
    "    except:\n",
    "        fragmento = None\n",
    "        return fragmento\n",
    "\n",
    "\n",
    "def aux_reg(text,search):\n",
    "    try:\n",
    "        start = text.find(search)\n",
    "        aux = text[start:]\n",
    "        end = aux.find('sede')\n",
    "        if 'sede' not in aux:\n",
    "            end = aux.find('75.0 *hosvital*')\n",
    "        fragmento = aux[:end]\n",
    "        return fragmento\n",
    "    except:\n",
    "        fragmento = None\n",
    "        return fragmento\n",
    "    \n",
    "def findKeyWord(text,keyWord,n):\n",
    "    wordlist = text.split()\n",
    "    here = []\n",
    "    for i in range(len(wordlist)):\n",
    "        if wordlist[i] == keyWord:\n",
    "            if i > n:\n",
    "                nGram = wordlist[i-n:i+n+1]\n",
    "            elif i+n > len(wordlist):\n",
    "                nGram = wordlist[i-n:]\n",
    "            elif ((2*n)+1)>len(wordlist):\n",
    "               nGram = wordlist[:]\n",
    "            else:\n",
    "                nGram = wordlist[:i+n]\n",
    "            here.append(nGram)\n",
    "    return here\n",
    "\n",
    "    \n",
    "\n",
    "###########################################\n",
    "### EMPEZAMOS EL PROCESAMIENTO GENTERAL ###\n",
    "###########################################\n",
    "secciones = []\n",
    "textos = glob.glob(f'*{p1}*.txt')\n",
    "for texto in textos:\n",
    "    with open(texto,'r') as file:\n",
    "        paciente = file.read()\n",
    "        paciente = paciente.lower().replace('\\n\\n',' \\n\\n ') # quitamos los \"\\n\"\n",
    "        paciente = mayusculas_sec_clave(paciente) # agregamos las mayusculas de las secciones\n",
    "        paciente = normalize(paciente) # quitamos los acentos de la data\n",
    "        #paciente = remove_punctuation(paciente)\n",
    "        folios = paciente.split('==>') # separamos por secciones \n",
    "        \n",
    "\n",
    "\n",
    "#with open(\"HISTORIA CLÍNICA No.CC 84046881 -- WARNER CHISTIAN MONTENEGRO BARROS.txt\",'r') as file:\n",
    "#    paciente = file.read()\n",
    "#paciente = paciente.lower()\n",
    "#paciente = mayusculas_sec_clave(paciente)\n",
    "#paciente = normalize(paciente)\n",
    "\n",
    "\n",
    "\n",
    "# Sacamos la informacion del encabezado\n",
    "def info_Encabezado(texto):\n",
    "    '''\n",
    "    Esta función extrae la información de los items\n",
    "    1 --> 16\n",
    "    los cuales aparecen en el encabezado del historial clinico\n",
    "    -----------\n",
    "    Parametros:\n",
    "    -----------\n",
    "    - texto (string)    :el historial clinico convertido en texto\n",
    "                        y normalizado.\n",
    "\n",
    "    '''\n",
    "    import re\n",
    "    head = aux(texto,'historia clinica')\n",
    "\n",
    "    # identificacion\n",
    "    __5 = head[head.find('.')+1:head.find('.')+3]\n",
    "    __6 = re.findall('[0-9]+', head)\n",
    "    name = head[head.find('-- ')+3:].split()\n",
    "\n",
    "    # nombres\n",
    "    try:\n",
    "        __1 = name[0]\n",
    "        __2 = name[1]\n",
    "        __3 = name[2]\n",
    "        __4 = name[3]\n",
    "        print(__1)\n",
    "        print(__2)\n",
    "        print(__3)\n",
    "        print(__4)\n",
    "        print(__5)\n",
    "        print(__6[0])\n",
    "    except:\n",
    "        print('error')\n",
    "    # fecha nacimiento\n",
    "    __7 = aux(texto,'fecha nacimiento:',True)\n",
    "    print(__7)\n",
    "    # sexo\n",
    "    __8 = aux(texto,'sexo:',True)\n",
    "    if 'masculino' in __8:\n",
    "        __8 = 'M'\n",
    "    else:\n",
    "        __8 = 'F'\n",
    "    print(__8)\n",
    "    # ocupación\n",
    "    __9 = aux(texto,'ocupacion:',True)\n",
    "    print(__9)\n",
    "    # afiliado\n",
    "    __10 = aux(texto,'afiliado:',True) # si es contributivo o subsidiado.\n",
    "    print(__10)\n",
    "    # codigo eps\n",
    "    __11 = aux(texto,'empresa:',True) #COMFAGUAJIRA PGP ONCOLOGIA y SUBSIDIADO son diferentes?\n",
    "    print(__11)\n",
    "    # mirar el df[df['tipo']==11]['texto'].unique()\n",
    "    #grupo2\n",
    "    __12 = aux(texto,'etnia:',True)\n",
    "    print(__12)\n",
    "    __13 = aux(texto,'grupo poblacional: ',True)\n",
    "    print(__13)\n",
    "    # residencia \n",
    "    __14 = aux(texto,'municipio: ',True)\n",
    "    print(__14)\n",
    "    __15 = aux(texto,'telefono:',True) # acento\n",
    "    print(__15)\n",
    "    __16 = \"na\" # en todos los casos a sido na\n",
    "    print(__16)\n",
    "\n",
    "    return __1,__2,__3,__4,__5,__6,__7,__8,__9,__10,__11,__12,__13,__14,__15,__16\n",
    "\n",
    "__1,__2,__3,__4,__5,__6,__7,__8,__9,__10,__11,__12,__13,__14,__15,__16 = info_Encabezado(paciente)\n",
    "\n",
    "\n",
    "###################\n",
    "### VARIABLE 17 ###\n",
    "###################\n",
    "def _17(folios,dic):\n",
    "    here = []\n",
    "    for folio in range(len(folios)):\n",
    "        if '$$DIAGNÓSTICO' in folios[folio]:\n",
    "            here.append(folio)\n",
    "    try:\n",
    "        ultimo = max(here)\n",
    "        fragmento = aux(folios[ultimo],\"$$DIAGNÓSTICO\")\n",
    "        for valor in dic['17'].values():\n",
    "            if valor in fragmento:\n",
    "                variable = valor\n",
    "                return variable\n",
    "            else:\n",
    "                variable = 'c'+fragmento[15:18] # preguntar por esto\n",
    "            return variable\n",
    "    except:\n",
    "        return 'No hubo diagnostico'\n",
    "__17 = _17(folios,dic)\n",
    "print(f'==> 17: {__17}')\n",
    "\n",
    "\n",
    "\n",
    "###################\n",
    "### VARIABLE 18 ###\n",
    "###################\n",
    "lista_eliminar = ['patologia', 'enfermedad actual','de patologia','fecha','biopsia','patologia.','cancer de vejiga','desde abril 2009 ','-mamografia bilateral','na','hace , 10 años','cuadrantectomia','ap','cancer cervical hace 13 años','desde hace , mas de 5 años','linfoma']\n",
    "[dic['18'].pop(key,None) for key in lista_eliminar]\n",
    "lista_agregar = ['desde hace']\n",
    "[dic['18'].update({key:None}) for key in lista_agregar]\n",
    "def _18(folios,dic):\n",
    "    for folio in range(len(folios)):\n",
    "        for valor in dic['18'].keys():\n",
    "            if valor in folios[folio]:\n",
    "                variable = valor\n",
    "            else:\n",
    "                variable = None\n",
    "        #print('Ninguna coincidencia encontrada')\n",
    "    if variable:\n",
    "        return variable\n",
    "    variable = \"1800-01-01\"\n",
    "    return variable\n",
    "__18 = _18(folios,dic)\n",
    "print(f'==> 18 {__18}')\n",
    "\n",
    "\n",
    "\n",
    "###################\n",
    "### VARIABLE 26 ###\n",
    "###################\n",
    "def _26(folios):\n",
    "    for folio in folios:\n",
    "        frag = aux_reg(folio,'reg. ')\n",
    "        if 'oncologia' in frag:\n",
    "            start = folio.find('fecha') + 6\n",
    "            end = start + 10\n",
    "            return folio[start:end]\n",
    "        else:\n",
    "            return \"1800-01-01\"\n",
    "__26 = _26(folios)\n",
    "print(f'==>26 : {__26}')\n",
    "print(' ')\n",
    "\n",
    "\n",
    "\n",
    "\n",
    "###################\n",
    "### VARIABLE 30 ###\n",
    "###################\n",
    "lista_eliminar = []\n",
    "for llave in dic['30'].keys():\n",
    "    if 'fecha' in llave:\n",
    "        lista_eliminar.append(llave)\n",
    "lista_eliminar.append('na')\n",
    "[dic['30'].pop(key,None) for key in lista_eliminar]\n",
    "def _30(folios,dic):\n",
    "    n = len(folios)\n",
    "    folio = folios[n-1]\n",
    "    for llave in dic['30'].keys():\n",
    "        if llave in folio:\n",
    "            return dic['30'][llave]\n",
    "    start = folio.find('fecha') + 6\n",
    "    end = start + 10\n",
    "    return folio[start:end]\n",
    "__30 = _30(folios,dic)\n",
    "print(f'==> 30: {__30}')\n",
    "\n",
    "\n",
    "\n",
    "###################################\n",
    "### DOLOR Y CUIDADOS PALIATIVOS ###\n",
    "###################################\n",
    "def _140__148(folios):\n",
    "    _140 = None\n",
    "    for folio in folios:\n",
    "        here = []\n",
    "        for i in range(len(folio)-5):\n",
    "            sub = folio[i:i+4] # n-grams de caracteres\n",
    "            if sub == 'reg.':\n",
    "                here.append(i)\n",
    "\n",
    "        for ii in here:\n",
    "            frag = folio[ii:ii+30]\n",
    "            if 'dolor y cuidados' in frag:\n",
    "                start = folio.find('fecha') + 6\n",
    "                end = start + 10\n",
    "                _140 =  \"1\"\n",
    "                _141 = \"1\"\n",
    "                _146 = \"1\"\n",
    "                _147 = folio[start:end]\n",
    "                break\n",
    "        if _140 ==\"1\":\n",
    "            break\n",
    "    if _140 == None:\n",
    "        _140 = \"2\"\n",
    "        _141 = \"2\"\n",
    "        _146 = \"2\"\n",
    "        _147 =  \"1845-01-01\"\n",
    "    _142,_143,_144,_145 = (\"2\",\"2\",\"2\",\"2\")\n",
    "    _148 = \"98\" # \"80010054401\"\n",
    "    return _140,_141,_142,_143,_144,_145,_146,_147,_148\n",
    "__140,__141,__142,__143,__144,__145,__146,__147,__148 = _140__148(folios)\n",
    "print('dolor ')\n",
    "print(f'==>140: {__140}')\n",
    "print(f'==>141: {__141}')\n",
    "print(f'==>142: {__142}')\n",
    "print(f'==>143: {__143}')\n",
    "print(f'==>144: {__144}')\n",
    "print(f'==>145: {__145}')\n",
    "print(f'==>146: {__146}')\n",
    "print(f'==>147: {__147}')\n",
    "print(f'==>148: {__148}')\n",
    "print(' ')\n",
    "\n",
    "\n",
    "\n",
    "\n",
    "\n",
    "###################\n",
    "### PSIQUIATRIA ###\n",
    "###################\n",
    "def _149__151(folios):\n",
    "    _149 = None\n",
    "    for folio in folios:\n",
    "        here = []\n",
    "        for i in range(len(folio)-5):\n",
    "            sub = folio[i:i+4] # n-grams de caracteres\n",
    "            if sub == 'reg.':\n",
    "                here.append(i)\n",
    "\n",
    "        for ii in here:\n",
    "            frag = folio[ii:ii+30]\n",
    "            if 'psicologia' in frag:\n",
    "                start = folio.find('fecha') + 6\n",
    "                end = start + 10\n",
    "                fecha = folio[start:end]\n",
    "                _149 =  \"1\"\n",
    "                _150 = fecha\n",
    "                break\n",
    "        if _149 == \"1\":\n",
    "            break\n",
    "    if _149 == None:\n",
    "        _149 = \"2\"\n",
    "        _150 = \"1845-01-01\"\n",
    "    _151 = \"98\" # \"80010054401\"\n",
    "    return _149,_150,_151\n",
    "__149,__150,__151 = _149__151(folios)\n",
    "print('psicologia')\n",
    "print(f'==>149: {__149}')\n",
    "print(f'==>150: {__150}')\n",
    "print(f'==>151: {__151}')\n",
    "print(' ')\n",
    "\n",
    "\n",
    "###################\n",
    "### NUTRICION ###\n",
    "###################\n",
    "def _152__156(folios):\n",
    "    _152 = None\n",
    "    for folio in folios:\n",
    "        here = []\n",
    "        for i in range(len(folio)-5):\n",
    "            sub = folio[i:i+4] # n-grams de caracteres\n",
    "            if sub == 'reg.':\n",
    "                here.append(i)\n",
    "\n",
    "        for ii in here:\n",
    "            frag = folio[ii:ii+30]\n",
    "        \n",
    "            if 'nutricion' in frag:\n",
    "                start = folio.find('fecha') + 6\n",
    "                end = start + 10\n",
    "                _152 =  \"1\"\n",
    "                _153 = folio[start:end]\n",
    "                _155 = \"1\"\n",
    "                break\n",
    "        if _152 ==\"1\":\n",
    "            break\n",
    "    if _152 == None:\n",
    "        _152 = \"2\"\n",
    "        _155 = \"2\"\n",
    "        _153 = \"1845-01-01\"\n",
    "    _156 = \"98\"\n",
    "    _154 = \"98\" # \"80010054401\"\n",
    "    return _152,_153,_154,_155,_156\n",
    "__152,__153,__154,__155,__156 = _152__156(folios)\n",
    "print('Nutricion')\n",
    "print(f'==>152: {__152}')\n",
    "print(f'==>153: {__153}')\n",
    "print(f'==>154: {__154}')\n",
    "print(f'==>155: {__155}')\n",
    "print(f'==>156: {__156}')\n",
    "\n",
    "\n",
    "\n",
    "def _157__166(folios):\n",
    "    pass\n",
    "\n",
    "\n",
    "try:\n",
    "    variables_final = (__1 ,__2 ,__3 ,__4 ,__5 ,__6 ,__7 ,__8 ,__9 ,__10 ,__11 ,__12 ,__13 ,__14 ,__15 ,__16 ,__17 ,__18 ,__19 ,__20 ,__21 ,__22 ,__23 ,__24 ,__25 ,__26 ,__27 ,__28 ,__29 ,__30 ,__31 ,__32 ,__33 ,__34 ,__35 ,__36 ,__37 ,__38 ,__39 ,__40 ,__41 ,__42 ,__43 ,__44 ,__45 ,__46 ,__47 ,__48 ,__49 ,__50 ,__51 ,__52 ,__53 ,__54 ,__55 ,__56 ,__57 ,__58 ,__59 ,__60 ,__61 ,__62 ,__63 ,__64 ,__65 ,__66 ,__67 ,__68 ,__69 ,__70 ,__71 ,__72 ,__73 ,__74 ,__75 ,__76 ,__77 ,__78 ,__79 ,__80 ,__81 ,__82 ,__83 ,__84 ,__85 ,__86 ,__87 ,__88 ,__89 ,__90 ,__91 ,__92 ,__93 ,__94 ,__95 ,__96 ,__97 ,__98 ,__99 ,__100 ,__101 ,__102 ,__103 ,__104 ,__105 ,__106 ,__107 ,__108 ,__109 ,__110 ,__111 ,__112 ,__113 ,__114 ,__115 ,__116 ,__117 ,__118 ,__119 ,__120 ,__121 ,__122 ,__123 ,__124 ,__125 ,__126 ,__127 ,__128 ,__129 ,__130 ,__131 ,__132 ,__133 ,__134 ,__135 ,__136 ,__137 ,__138 ,__139 ,__140 ,__141 ,__142 ,__143 ,__144 ,__145 ,__146 ,__147 ,__148 ,__149 ,__150 ,__151 ,__152 ,__153 ,__154 ,__155 ,__156 ,__157 ,__158 ,__159 ,__160 ,__161 ,__162 ,__163 ,__164 ,__165 ,__166) \n",
    "except:\n",
    "    pass\n",
    "\n",
    "#########################################\n",
    "### TRABAJANDO CON WORKBOOK DE EXCELL ###\n",
    "#########################################\n",
    "#wb = Workbook() # creamos objeto de Excel\n",
    "#wb.save('prueba2.xlsx') \n",
    "wb = load_workbook(filename=\"prueba2.xlsx\")\n",
    "#wb.create_sheet('CAC',0)\n",
    "ws = wb['CAC']\n",
    "for i in range(1,167):\n",
    "    try:\n",
    "        ws.cell(row=4,column=i,value=variables_final[i-1])\n",
    "    except:\n",
    "        continue\n",
    "\n",
    "wb.save(\"prueba2.xlsx\")"
   ]
  },
  {
   "cell_type": "code",
   "execution_count": 69,
   "metadata": {},
   "outputs": [],
   "source": [
    "def findKeyWord(text,keyWord,n):\n",
    "    wordlist = text.split()\n",
    "    here = []\n",
    "    for i in range(len(wordlist)):\n",
    "        if wordlist[i] == keyWord:\n",
    "            if i > n:\n",
    "                nGram = wordlist[i-n:i+n+1]\n",
    "            elif i+n > len(wordlist):\n",
    "                nGram = wordlist[i-n:]\n",
    "            elif ((2*n)+1)>len(wordlist):\n",
    "               nGram = wordlist[:]\n",
    "            else:\n",
    "                nGram = wordlist[:i+n]\n",
    "            here.append(nGram)\n",
    "    return here\n",
    "\n",
    "    "
   ]
  },
  {
   "cell_type": "code",
   "execution_count": 70,
   "metadata": {},
   "outputs": [
    {
     "output_type": "execute_result",
     "data": {
      "text/plain": [
       "[['de',\n",
       "  'la',\n",
       "  'casa',\n",
       "  'a',\n",
       "  'comer',\n",
       "  'pedro',\n",
       "  'estaba',\n",
       "  'con',\n",
       "  'ellos',\n",
       "  'en',\n",
       "  'el']]"
      ]
     },
     "metadata": {},
     "execution_count": 70
    }
   ],
   "source": [
    "findKeyWord(texto3,'pedro',5)"
   ]
  },
  {
   "cell_type": "code",
   "execution_count": 71,
   "metadata": {},
   "outputs": [
    {
     "output_type": "execute_result",
     "data": {
      "text/plain": [
       "[['pedro', 'salio', 'de', 'su', 'casa', 'a', 'comer']]"
      ]
     },
     "metadata": {},
     "execution_count": 71
    }
   ],
   "source": [
    "findKeyWord(texto1,'pedro',5)"
   ]
  },
  {
   "cell_type": "code",
   "execution_count": 72,
   "metadata": {},
   "outputs": [
    {
     "output_type": "execute_result",
     "data": {
      "text/plain": [
       "[['su', 'casa', 'a', 'comer', 'con', 'pedro', 'y', 'el']]"
      ]
     },
     "metadata": {},
     "execution_count": 72
    }
   ],
   "source": [
    "findKeyWord(texto2,'pedro',5)"
   ]
  },
  {
   "cell_type": "code",
   "execution_count": 73,
   "metadata": {},
   "outputs": [
    {
     "output_type": "execute_result",
     "data": {
      "text/plain": [
       "[]"
      ]
     },
     "metadata": {},
     "execution_count": 73
    }
   ],
   "source": [
    "findKeyWord(texto4,'pedro',5)\n"
   ]
  },
  {
   "cell_type": "code",
   "execution_count": 82,
   "metadata": {},
   "outputs": [
    {
     "output_type": "stream",
     "name": "stdout",
     "text": [
      "__1 ,__2 ,__3 ,__4 ,__5 ,__6 ,__7 ,__8 ,__9 ,__10 ,__11 ,__12 ,__13 ,__14 ,__15 ,__16 ,__17 ,__18 ,__19 ,__20 ,__21 ,__22 ,__23 ,__24 ,__25 ,__26 ,__27 ,__28 ,__29 ,__30 ,__31 ,__32 ,__33 ,__34 ,__35 ,__36 ,__37 ,__38 ,__39 ,__40 ,__41 ,__42 ,__43 ,__44 ,__45 ,__46 ,__47 ,__48 ,__49 ,__50 ,__51 ,__52 ,__53 ,__54 ,__55 ,__56 ,__57 ,__58 ,__59 ,__60 ,__61 ,__62 ,__63 ,__64 ,__65 ,__66 ,__67 ,__68 ,__69 ,__70 ,__71 ,__72 ,__73 ,__74 ,__75 ,__76 ,__77 ,__78 ,__79 ,__80 ,__81 ,__82 ,__83 ,__84 ,__85 ,__86 ,__87 ,__88 ,__89 ,__90 ,__91 ,__92 ,__93 ,__94 ,__95 ,__96 ,__97 ,__98 ,__99 ,__100 ,__101 ,__102 ,__103 ,__104 ,__105 ,__106 ,__107 ,__108 ,__109 ,__110 ,__111 ,__112 ,__113 ,__114 ,__115 ,__116 ,__117 ,__118 ,__119 ,__120 ,__121 ,__122 ,__123 ,__124 ,__125 ,__126 ,__127 ,__128 ,__129 ,__130 ,__131 ,__132 ,__133 ,__134 ,__135 ,__136 ,__137 ,__138 ,__139 ,__140 ,__141 ,__142 ,__143 ,__144 ,__145 ,__146 ,__147 ,__148 ,__149 ,__150 ,__151 ,__152 ,__153 ,__154 ,__155 ,__156 ,__157 ,__158 ,__159 ,__160 ,__161 ,__162 ,__163 ,__164 ,__165 ,__166 ,\n"
     ]
    }
   ],
   "source": [
    "lista_variables = ''\n",
    "for i in range(1,167):\n",
    "    lista_variables = lista_variables + f'__{i} ,'\n",
    "print(lista_variables)"
   ]
  },
  {
   "cell_type": "code",
   "execution_count": 83,
   "metadata": {},
   "outputs": [
    {
     "output_type": "error",
     "ename": "TypeError",
     "evalue": "cannot unpack non-iterable NoneType object",
     "traceback": [
      "\u001b[0;31m---------------------------------------------------------------------------\u001b[0m",
      "\u001b[0;31mTypeError\u001b[0m                                 Traceback (most recent call last)",
      "\u001b[0;32m<ipython-input-83-19bcf00becad>\u001b[0m in \u001b[0;36m<module>\u001b[0;34m\u001b[0m\n\u001b[0;32m----> 1\u001b[0;31m \u001b[0;34m(\u001b[0m\u001b[0m__1\u001b[0m \u001b[0;34m,\u001b[0m\u001b[0m__2\u001b[0m \u001b[0;34m,\u001b[0m\u001b[0m__3\u001b[0m \u001b[0;34m,\u001b[0m\u001b[0m__4\u001b[0m \u001b[0;34m,\u001b[0m\u001b[0m__5\u001b[0m \u001b[0;34m,\u001b[0m\u001b[0m__6\u001b[0m \u001b[0;34m,\u001b[0m\u001b[0m__7\u001b[0m \u001b[0;34m,\u001b[0m\u001b[0m__8\u001b[0m \u001b[0;34m,\u001b[0m\u001b[0m__9\u001b[0m \u001b[0;34m,\u001b[0m\u001b[0m__10\u001b[0m \u001b[0;34m,\u001b[0m\u001b[0m__11\u001b[0m \u001b[0;34m,\u001b[0m\u001b[0m__12\u001b[0m \u001b[0;34m,\u001b[0m\u001b[0m__13\u001b[0m \u001b[0;34m,\u001b[0m\u001b[0m__14\u001b[0m \u001b[0;34m,\u001b[0m\u001b[0m__15\u001b[0m \u001b[0;34m,\u001b[0m\u001b[0m__16\u001b[0m \u001b[0;34m,\u001b[0m\u001b[0m__17\u001b[0m \u001b[0;34m,\u001b[0m\u001b[0m__18\u001b[0m \u001b[0;34m,\u001b[0m\u001b[0m__19\u001b[0m \u001b[0;34m,\u001b[0m\u001b[0m__20\u001b[0m \u001b[0;34m,\u001b[0m\u001b[0m__21\u001b[0m \u001b[0;34m,\u001b[0m\u001b[0m__22\u001b[0m \u001b[0;34m,\u001b[0m\u001b[0m__23\u001b[0m \u001b[0;34m,\u001b[0m\u001b[0m__24\u001b[0m \u001b[0;34m,\u001b[0m\u001b[0m__25\u001b[0m \u001b[0;34m,\u001b[0m\u001b[0m__26\u001b[0m \u001b[0;34m,\u001b[0m\u001b[0m__27\u001b[0m \u001b[0;34m,\u001b[0m\u001b[0m__28\u001b[0m \u001b[0;34m,\u001b[0m\u001b[0m__29\u001b[0m \u001b[0;34m,\u001b[0m\u001b[0m__30\u001b[0m \u001b[0;34m,\u001b[0m\u001b[0m__31\u001b[0m \u001b[0;34m,\u001b[0m\u001b[0m__32\u001b[0m \u001b[0;34m,\u001b[0m\u001b[0m__33\u001b[0m \u001b[0;34m,\u001b[0m\u001b[0m__34\u001b[0m \u001b[0;34m,\u001b[0m\u001b[0m__35\u001b[0m \u001b[0;34m,\u001b[0m\u001b[0m__36\u001b[0m \u001b[0;34m,\u001b[0m\u001b[0m__37\u001b[0m \u001b[0;34m,\u001b[0m\u001b[0m__38\u001b[0m \u001b[0;34m,\u001b[0m\u001b[0m__39\u001b[0m \u001b[0;34m,\u001b[0m\u001b[0m__40\u001b[0m \u001b[0;34m,\u001b[0m\u001b[0m__41\u001b[0m \u001b[0;34m,\u001b[0m\u001b[0m__42\u001b[0m \u001b[0;34m,\u001b[0m\u001b[0m__43\u001b[0m \u001b[0;34m,\u001b[0m\u001b[0m__44\u001b[0m \u001b[0;34m,\u001b[0m\u001b[0m__45\u001b[0m \u001b[0;34m,\u001b[0m\u001b[0m__46\u001b[0m \u001b[0;34m,\u001b[0m\u001b[0m__47\u001b[0m \u001b[0;34m,\u001b[0m\u001b[0m__48\u001b[0m \u001b[0;34m,\u001b[0m\u001b[0m__49\u001b[0m \u001b[0;34m,\u001b[0m\u001b[0m__50\u001b[0m \u001b[0;34m,\u001b[0m\u001b[0m__51\u001b[0m \u001b[0;34m,\u001b[0m\u001b[0m__52\u001b[0m \u001b[0;34m,\u001b[0m\u001b[0m__53\u001b[0m \u001b[0;34m,\u001b[0m\u001b[0m__54\u001b[0m \u001b[0;34m,\u001b[0m\u001b[0m__55\u001b[0m \u001b[0;34m,\u001b[0m\u001b[0m__56\u001b[0m \u001b[0;34m,\u001b[0m\u001b[0m__57\u001b[0m \u001b[0;34m,\u001b[0m\u001b[0m__58\u001b[0m \u001b[0;34m,\u001b[0m\u001b[0m__59\u001b[0m \u001b[0;34m,\u001b[0m\u001b[0m__60\u001b[0m \u001b[0;34m,\u001b[0m\u001b[0m__61\u001b[0m \u001b[0;34m,\u001b[0m\u001b[0m__62\u001b[0m \u001b[0;34m,\u001b[0m\u001b[0m__63\u001b[0m \u001b[0;34m,\u001b[0m\u001b[0m__64\u001b[0m \u001b[0;34m,\u001b[0m\u001b[0m__65\u001b[0m \u001b[0;34m,\u001b[0m\u001b[0m__66\u001b[0m \u001b[0;34m,\u001b[0m\u001b[0m__67\u001b[0m \u001b[0;34m,\u001b[0m\u001b[0m__68\u001b[0m \u001b[0;34m,\u001b[0m\u001b[0m__69\u001b[0m \u001b[0;34m,\u001b[0m\u001b[0m__70\u001b[0m \u001b[0;34m,\u001b[0m\u001b[0m__71\u001b[0m \u001b[0;34m,\u001b[0m\u001b[0m__72\u001b[0m \u001b[0;34m,\u001b[0m\u001b[0m__73\u001b[0m \u001b[0;34m,\u001b[0m\u001b[0m__74\u001b[0m \u001b[0;34m,\u001b[0m\u001b[0m__75\u001b[0m \u001b[0;34m,\u001b[0m\u001b[0m__76\u001b[0m \u001b[0;34m,\u001b[0m\u001b[0m__77\u001b[0m \u001b[0;34m,\u001b[0m\u001b[0m__78\u001b[0m \u001b[0;34m,\u001b[0m\u001b[0m__79\u001b[0m \u001b[0;34m,\u001b[0m\u001b[0m__80\u001b[0m \u001b[0;34m,\u001b[0m\u001b[0m__81\u001b[0m \u001b[0;34m,\u001b[0m\u001b[0m__82\u001b[0m \u001b[0;34m,\u001b[0m\u001b[0m__83\u001b[0m \u001b[0;34m,\u001b[0m\u001b[0m__84\u001b[0m \u001b[0;34m,\u001b[0m\u001b[0m__85\u001b[0m \u001b[0;34m,\u001b[0m\u001b[0m__86\u001b[0m \u001b[0;34m,\u001b[0m\u001b[0m__87\u001b[0m \u001b[0;34m,\u001b[0m\u001b[0m__88\u001b[0m \u001b[0;34m,\u001b[0m\u001b[0m__89\u001b[0m \u001b[0;34m,\u001b[0m\u001b[0m__90\u001b[0m \u001b[0;34m,\u001b[0m\u001b[0m__91\u001b[0m \u001b[0;34m,\u001b[0m\u001b[0m__92\u001b[0m \u001b[0;34m,\u001b[0m\u001b[0m__93\u001b[0m \u001b[0;34m,\u001b[0m\u001b[0m__94\u001b[0m \u001b[0;34m,\u001b[0m\u001b[0m__95\u001b[0m \u001b[0;34m,\u001b[0m\u001b[0m__96\u001b[0m \u001b[0;34m,\u001b[0m\u001b[0m__97\u001b[0m \u001b[0;34m,\u001b[0m\u001b[0m__98\u001b[0m \u001b[0;34m,\u001b[0m\u001b[0m__99\u001b[0m \u001b[0;34m,\u001b[0m\u001b[0m__100\u001b[0m \u001b[0;34m,\u001b[0m\u001b[0m__101\u001b[0m \u001b[0;34m,\u001b[0m\u001b[0m__102\u001b[0m \u001b[0;34m,\u001b[0m\u001b[0m__103\u001b[0m \u001b[0;34m,\u001b[0m\u001b[0m__104\u001b[0m \u001b[0;34m,\u001b[0m\u001b[0m__105\u001b[0m \u001b[0;34m,\u001b[0m\u001b[0m__106\u001b[0m \u001b[0;34m,\u001b[0m\u001b[0m__107\u001b[0m \u001b[0;34m,\u001b[0m\u001b[0m__108\u001b[0m \u001b[0;34m,\u001b[0m\u001b[0m__109\u001b[0m \u001b[0;34m,\u001b[0m\u001b[0m__110\u001b[0m \u001b[0;34m,\u001b[0m\u001b[0m__111\u001b[0m \u001b[0;34m,\u001b[0m\u001b[0m__112\u001b[0m \u001b[0;34m,\u001b[0m\u001b[0m__113\u001b[0m \u001b[0;34m,\u001b[0m\u001b[0m__114\u001b[0m \u001b[0;34m,\u001b[0m\u001b[0m__115\u001b[0m \u001b[0;34m,\u001b[0m\u001b[0m__116\u001b[0m \u001b[0;34m,\u001b[0m\u001b[0m__117\u001b[0m \u001b[0;34m,\u001b[0m\u001b[0m__118\u001b[0m \u001b[0;34m,\u001b[0m\u001b[0m__119\u001b[0m \u001b[0;34m,\u001b[0m\u001b[0m__120\u001b[0m \u001b[0;34m,\u001b[0m\u001b[0m__121\u001b[0m \u001b[0;34m,\u001b[0m\u001b[0m__122\u001b[0m \u001b[0;34m,\u001b[0m\u001b[0m__123\u001b[0m \u001b[0;34m,\u001b[0m\u001b[0m__124\u001b[0m \u001b[0;34m,\u001b[0m\u001b[0m__125\u001b[0m \u001b[0;34m,\u001b[0m\u001b[0m__126\u001b[0m \u001b[0;34m,\u001b[0m\u001b[0m__127\u001b[0m \u001b[0;34m,\u001b[0m\u001b[0m__128\u001b[0m \u001b[0;34m,\u001b[0m\u001b[0m__129\u001b[0m \u001b[0;34m,\u001b[0m\u001b[0m__130\u001b[0m \u001b[0;34m,\u001b[0m\u001b[0m__131\u001b[0m \u001b[0;34m,\u001b[0m\u001b[0m__132\u001b[0m \u001b[0;34m,\u001b[0m\u001b[0m__133\u001b[0m \u001b[0;34m,\u001b[0m\u001b[0m__134\u001b[0m \u001b[0;34m,\u001b[0m\u001b[0m__135\u001b[0m \u001b[0;34m,\u001b[0m\u001b[0m__136\u001b[0m \u001b[0;34m,\u001b[0m\u001b[0m__137\u001b[0m \u001b[0;34m,\u001b[0m\u001b[0m__138\u001b[0m \u001b[0;34m,\u001b[0m\u001b[0m__139\u001b[0m \u001b[0;34m,\u001b[0m\u001b[0m__140\u001b[0m \u001b[0;34m,\u001b[0m\u001b[0m__141\u001b[0m \u001b[0;34m,\u001b[0m\u001b[0m__142\u001b[0m \u001b[0;34m,\u001b[0m\u001b[0m__143\u001b[0m \u001b[0;34m,\u001b[0m\u001b[0m__144\u001b[0m \u001b[0;34m,\u001b[0m\u001b[0m__145\u001b[0m \u001b[0;34m,\u001b[0m\u001b[0m__146\u001b[0m \u001b[0;34m,\u001b[0m\u001b[0m__147\u001b[0m \u001b[0;34m,\u001b[0m\u001b[0m__148\u001b[0m \u001b[0;34m,\u001b[0m\u001b[0m__149\u001b[0m \u001b[0;34m,\u001b[0m\u001b[0m__150\u001b[0m \u001b[0;34m,\u001b[0m\u001b[0m__151\u001b[0m \u001b[0;34m,\u001b[0m\u001b[0m__152\u001b[0m \u001b[0;34m,\u001b[0m\u001b[0m__153\u001b[0m \u001b[0;34m,\u001b[0m\u001b[0m__154\u001b[0m \u001b[0;34m,\u001b[0m\u001b[0m__155\u001b[0m \u001b[0;34m,\u001b[0m\u001b[0m__156\u001b[0m \u001b[0;34m,\u001b[0m\u001b[0m__157\u001b[0m \u001b[0;34m,\u001b[0m\u001b[0m__158\u001b[0m \u001b[0;34m,\u001b[0m\u001b[0m__159\u001b[0m \u001b[0;34m,\u001b[0m\u001b[0m__160\u001b[0m \u001b[0;34m,\u001b[0m\u001b[0m__161\u001b[0m \u001b[0;34m,\u001b[0m\u001b[0m__162\u001b[0m \u001b[0;34m,\u001b[0m\u001b[0m__163\u001b[0m \u001b[0;34m,\u001b[0m\u001b[0m__164\u001b[0m \u001b[0;34m,\u001b[0m\u001b[0m__165\u001b[0m \u001b[0;34m,\u001b[0m\u001b[0m__166\u001b[0m\u001b[0;34m)\u001b[0m \u001b[0;34m=\u001b[0m \u001b[0;32mNone\u001b[0m\u001b[0;34m\u001b[0m\u001b[0;34m\u001b[0m\u001b[0m\n\u001b[0m",
      "\u001b[0;31mTypeError\u001b[0m: cannot unpack non-iterable NoneType object"
     ]
    }
   ],
   "source": [
    "(__1 ,__2 ,__3 ,__4 ,__5 ,__6 ,__7 ,__8 ,__9 ,__10 ,__11 ,__12 ,__13 ,__14 ,__15 ,__16 ,__17 ,__18 ,__19 ,__20 ,__21 ,__22 ,__23 ,__24 ,__25 ,__26 ,__27 ,__28 ,__29 ,__30 ,__31 ,__32 ,__33 ,__34 ,__35 ,__36 ,__37 ,__38 ,__39 ,__40 ,__41 ,__42 ,__43 ,__44 ,__45 ,__46 ,__47 ,__48 ,__49 ,__50 ,__51 ,__52 ,__53 ,__54 ,__55 ,__56 ,__57 ,__58 ,__59 ,__60 ,__61 ,__62 ,__63 ,__64 ,__65 ,__66 ,__67 ,__68 ,__69 ,__70 ,__71 ,__72 ,__73 ,__74 ,__75 ,__76 ,__77 ,__78 ,__79 ,__80 ,__81 ,__82 ,__83 ,__84 ,__85 ,__86 ,__87 ,__88 ,__89 ,__90 ,__91 ,__92 ,__93 ,__94 ,__95 ,__96 ,__97 ,__98 ,__99 ,__100 ,__101 ,__102 ,__103 ,__104 ,__105 ,__106 ,__107 ,__108 ,__109 ,__110 ,__111 ,__112 ,__113 ,__114 ,__115 ,__116 ,__117 ,__118 ,__119 ,__120 ,__121 ,__122 ,__123 ,__124 ,__125 ,__126 ,__127 ,__128 ,__129 ,__130 ,__131 ,__132 ,__133 ,__134 ,__135 ,__136 ,__137 ,__138 ,__139 ,__140 ,__141 ,__142 ,__143 ,__144 ,__145 ,__146 ,__147 ,__148 ,__149 ,__150 ,__151 ,__152 ,__153 ,__154 ,__155 ,__156 ,__157 ,__158 ,__159 ,__160 ,__161 ,__162 ,__163 ,__164 ,__165 ,__166) = None\n"
   ]
  },
  {
   "cell_type": "code",
   "execution_count": 119,
   "metadata": {},
   "outputs": [
    {
     "output_type": "execute_result",
     "data": {
      "text/plain": [
       "('1.18.13', '1.18.0', '20210505063222')"
      ]
     },
     "metadata": {},
     "execution_count": 119
    }
   ],
   "source": [
    "import fitz\n",
    "fitz.version"
   ]
  },
  {
   "cell_type": "code",
   "execution_count": null,
   "metadata": {},
   "outputs": [],
   "source": []
  }
 ]
}