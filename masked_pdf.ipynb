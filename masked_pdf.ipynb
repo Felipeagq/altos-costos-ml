{
 "metadata": {
  "language_info": {
   "codemirror_mode": {
    "name": "ipython",
    "version": 3
   },
   "file_extension": ".py",
   "mimetype": "text/x-python",
   "name": "python",
   "nbconvert_exporter": "python",
   "pygments_lexer": "ipython3",
   "version": "3.8.5"
  },
  "orig_nbformat": 2,
  "kernelspec": {
   "name": "python3",
   "display_name": "Python 3",
   "language": "python"
  }
 },
 "nbformat": 4,
 "nbformat_minor": 2,
 "cells": [
  {
   "cell_type": "code",
   "execution_count": 2,
   "metadata": {},
   "outputs": [],
   "source": [
    "import numpy as np\n",
    "import pandas as pd\n",
    "import json\n",
    "import re\n",
    "pd.set_option('display.max_rows', 500) # para visualizar todo el DataFrame\n",
    "pd.set_option('display.max_colwidth',1000)\n",
    "\n",
    "\n"
   ]
  },
  {
   "cell_type": "code",
   "execution_count": 3,
   "metadata": {},
   "outputs": [],
   "source": [
    "def mayusculas_sec_clave(s):\n",
    "    ''' Funcion para volver mayusculas las secciones clave'''\n",
    "    replacements =(\n",
    "        ('motivo de consulta','MOTIVO DE CONSULTA'),\n",
    "        ('enfermedad actual','ENFERMEDAD ACTUAL'),\n",
    "        ('examen físico','EXAMEN FÍSICO'),\n",
    "        ('análisis','ANÁLISIS'),\n",
    "        ('plan y manejo','PLAN Y MANEJO'),\n",
    "        ('diagnóstico','DIAGNÓSTICO'),\n",
    "        ('ordenes','ORDENES'),\n",
    "        ('órdenes','ÓRDENES'),\n",
    "        ('interconsultas','INTERCONSULTAS'),\n",
    "        ('notas enfermeria','NOTAS ENFERMERIA'),\n",
    "        ('formula médica','FORMULA MÉDICA'),\n",
    "        ('formatos','FORMATOS'),\n",
    "        ('recomendaciones','RECOMENDACIONES'),\n",
    "        ('nota de ingreso','NOTA DE INGRESO'),\n",
    "        ('observaciones','OBSERVACIONES')\n",
    "        )\n",
    "    for a, b in replacements:\n",
    "        s = s.replace(a, b)\n",
    "    return s\n",
    "\n",
    "def normalize(s):\n",
    "    replacements = (\n",
    "        (\"á\", \"a\"),\n",
    "        (\"é\", \"e\"),\n",
    "        (\"í\", \"i\"),\n",
    "        (\"ó\", \"o\"),\n",
    "        (\"ú\", \"u\"),\n",
    "    )\n",
    "    for a, b in replacements:\n",
    "        s = s.replace(a, b)\n",
    "    return s\n",
    "\n",
    "def aux(text,search,helper=False):\n",
    "    start = text.find(search)\n",
    "    aux = text[start:]\n",
    "    end = aux.find('\\n')\n",
    "    fragmento = aux[:end]\n",
    "    if helper==True:\n",
    "        fragmento = fragmento[fragmento.find(':')+2:]\n",
    "        print(fragmento)\n",
    "        return fragmento\n",
    "    print(fragmento)\n",
    "    return fragmento\n",
    "\n",
    "\n",
    "def search_text_in_text(texto,dic,tipo):\n",
    "    success = 0\n",
    "    for item in dic[tipo].keys():\n",
    "        if item in texto:\n",
    "            success = 1\n",
    "        if texto.count(item) != 0:\n",
    "            print(f'{item} --> {dic[tipo][item][0]} ')\n",
    "    if success == 0:\n",
    "        print(dic[tipo]['na'])\n",
    "\n",
    "\n",
    "\n"
   ]
  },
  {
   "cell_type": "code",
   "execution_count": 4,
   "metadata": {},
   "outputs": [],
   "source": [
    "file = open(\"dic_1.json\",)\n",
    "dic = json.load(file)"
   ]
  },
  {
   "cell_type": "code",
   "execution_count": 5,
   "metadata": {},
   "outputs": [],
   "source": [
    "with open(\"HISTORIA CLÍNICA No.CC 84046881 -- WARNER CHISTIAN MONTENEGRO BARROS.txt\",'r') as file:\n",
    "    paciente = file.read()\n",
    "\n",
    "paciente = paciente.lower()\n",
    "#paciente = mayusculas_sec_clave(paciente)\n",
    "paciente = normalize(paciente)"
   ]
  },
  {
   "cell_type": "code",
   "execution_count": 6,
   "metadata": {},
   "outputs": [],
   "source": [
    "paciente = paciente.lower()\n",
    "#paciente = mayusculas_sec_clave(paciente)\n",
    "paciente = normalize(paciente)"
   ]
  },
  {
   "cell_type": "code",
   "execution_count": 7,
   "metadata": {},
   "outputs": [
    {
     "output_type": "stream",
     "name": "stdout",
     "text": [
      "historia clinica no.cc 84046881 -- warner chistian montenegro barros\nwarner\nchistian\nmontenegro\nbarros\ncc\n84046881\n10/02/1989 \nmasculino \notras ocupaciones elementales\ncotizante nivel 1\ncomfaguajira pgp oncologia subsidiado \nninguno de los anteriores \nno definido\nmaicao \n3185218372 \n"
     ]
    }
   ],
   "source": [
    "def info_Encabezado(texto):\n",
    "    '''\n",
    "    Esta función extrae la información de los items\n",
    "    1 --> 16\n",
    "    los cuales aparecen en el encabezado del historial clinico\n",
    "    -----------\n",
    "    Parametros:\n",
    "    -----------\n",
    "    - texto (string)    :el historial clinico convertido en texto\n",
    "                        y normalizado.\n",
    "\n",
    "    '''\n",
    "    import re\n",
    "    head = aux(texto,'historia clinica')\n",
    "\n",
    "    # identificacion\n",
    "    tipo_identificacion__5 = head[head.find('.')+1:head.find('.')+3]\n",
    "    n_identificacion__6 = re.findall('[0-9]+', head)\n",
    "    name = head[head.find('-- ')+3:].split()\n",
    "\n",
    "    # nombres\n",
    "    try:\n",
    "        primer_nombre__1 = name[0]\n",
    "        segundo_nombre__2 = name[1]\n",
    "        primer_apellido__3 = name[2]\n",
    "        segundo_apellido__4 = name[3]\n",
    "        print(primer_nombre__1)\n",
    "        print(segundo_nombre__2)\n",
    "        print(primer_apellido__3)\n",
    "        print(segundo_apellido__4)\n",
    "        print(tipo_identificacion__5)\n",
    "        print(n_identificacion__6[0])\n",
    "    except:\n",
    "        print('error')\n",
    "\n",
    "\n",
    "\n",
    "    # fecha nacimiento\n",
    "    helper = aux(texto,'fecha nacimiento:',True)\n",
    "    fecha_nacimiento__7 = helper[helper.find(':')]\n",
    "    # sexo\n",
    "    sexo__8 = aux(texto,'sexo:',True)\n",
    "    # ocupación\n",
    "    ocupacion__9 = aux(texto,'ocupacion:',True)\n",
    "    # afiliado\n",
    "    afiliado__10 = aux(texto,'afiliado:',True)\n",
    "    # codigo eps\n",
    "    codigo_eps__11 = aux(texto,'empresa:',True) #COMFAGUAJIRA PGP ONCOLOGIA y SUBSIDIADO son diferentes?\n",
    "    # mirar el df[df['tipo']==11]['texto'].unique()\n",
    "\n",
    "    #grupo2\n",
    "    grupo_etnico__12 = aux(texto,'etnia:',True)\n",
    "    grupo_poblacional__13 = aux(texto,'grupo poblacional: ',True)\n",
    "\n",
    "    # residencia \n",
    "    municipio_residencia__14 = aux(texto,'municipio: ',True)\n",
    "\n",
    "    telefono__15 = aux(texto,'telefono:',True) # acento\n",
    "\n",
    "    fecha_afiliacion__16 = \"na\" # en todos los casos a sido na\n",
    "\n",
    "    \n",
    "\n",
    "info_Encabezado(paciente)"
   ]
  },
  {
   "cell_type": "code",
   "execution_count": 8,
   "metadata": {},
   "outputs": [],
   "source": [
    "# beta   : mal\n",
    "# alpha  : mas o menos\n",
    "# omega  : bien "
   ]
  },
  {
   "cell_type": "code",
   "execution_count": 9,
   "metadata": {},
   "outputs": [
    {
     "output_type": "stream",
     "name": "stdout",
     "text": [
      "enfermedad de hodgkin no especificada --> c \nlinfoma no hodgkin no especificado --> c \nv --> c \n"
     ]
    }
   ],
   "source": [
    "# Nombre de la neoplasia(cáncer o tumor) maligna reportada (Primario) -- --> 17\n",
    "neoplasia__17 = search_text_in_text(paciente,dic,'17')\n",
    "\n",
    "### alpha"
   ]
  },
  {
   "cell_type": "code",
   "execution_count": 10,
   "metadata": {},
   "outputs": [
    {
     "output_type": "stream",
     "name": "stdout",
     "text": [
      "enfermedad actual --> 2 \nna --> 2 \nfecha --> 2 \nap --> 2 \nlinfoma --> 2 \n"
     ]
    },
    {
     "output_type": "execute_result",
     "data": {
      "text/plain": [
       "'24/05/21'"
      ]
     },
     "metadata": {},
     "execution_count": 10
    }
   ],
   "source": [
    "# Fecha de Diagnóstico del Cáncer reportado -- --> 18 \n",
    "# A REVISAR\n",
    "fecha_cancer_reportado__18 = search_text_in_text(paciente,dic,'18')\n",
    "# la historia clinica que poseo comienza en el folio 271 \n",
    "# segun la base de datos, este dato se adquirió del folio 1  \n",
    "\n",
    "date_reg_exp = re.compile('\\d{4}[-/]\\d{2}[-/]\\d{2}')\n",
    "\n",
    "match=re.search(r'(\\d+/\\d+/\\d+)',paciente)\n",
    "match.group(1)  \n",
    "### beta"
   ]
  },
  {
   "cell_type": "code",
   "execution_count": 11,
   "metadata": {},
   "outputs": [
    {
     "output_type": "stream",
     "name": "stdout",
     "text": [
      "na --> 1 \nn --> 1 \nfecha --> 2 \n"
     ]
    }
   ],
   "source": [
    "# A REVISAR\n",
    "fecha_remision_medico__19= search_text_in_text(paciente,dic,'19')\n",
    "### beta"
   ]
  },
  {
   "cell_type": "code",
   "execution_count": 12,
   "metadata": {},
   "outputs": [
    {
     "output_type": "stream",
     "name": "stdout",
     "text": [
      "na --> 1 \nn --> 1 \nfecha --> 2 \n"
     ]
    }
   ],
   "source": [
    "# A REVISAR\n",
    "fecha_ingreso_intitucion__20 = search_text_in_text(paciente,dic,'20')\n",
    "### beta"
   ]
  },
  {
   "cell_type": "code",
   "execution_count": 13,
   "metadata": {},
   "outputs": [
    {
     "output_type": "stream",
     "name": "stdout",
     "text": [
      "na --> 1 \nap --> 1 \nlinfoma no hodgkin --> 1 \nlinfoma  --> 1 \n"
     ]
    },
    {
     "output_type": "execute_result",
     "data": {
      "text/plain": [
       "False"
      ]
     },
     "metadata": {},
     "execution_count": 13
    }
   ],
   "source": [
    "estudio_diagnostico__21 = search_text_in_text(paciente,dic,'21')\n",
    "'realizan biopsia' in paciente"
   ]
  },
  {
   "cell_type": "code",
   "execution_count": 14,
   "metadata": {},
   "outputs": [
    {
     "output_type": "stream",
     "name": "stdout",
     "text": [
      "na --> 9 \nlinfoma --> 9 \nap --> 9 \n"
     ]
    }
   ],
   "source": [
    "motivo_no_diagnostico__22 = search_text_in_text(paciente,dic,'22')"
   ]
  },
  {
   "cell_type": "code",
   "execution_count": 15,
   "metadata": {},
   "outputs": [
    {
     "output_type": "stream",
     "name": "stdout",
     "text": [
      "fecha --> 2 \nna --> 2 \nap --> 2 \nlinfoma --> 2 \nnotas enfermeria --> 2 \n"
     ]
    }
   ],
   "source": [
    "# A REVISAR\n",
    "fecha_estudio_histopatologico__23 = search_text_in_text(paciente,dic,'23')"
   ]
  },
  {
   "cell_type": "code",
   "execution_count": 16,
   "metadata": {},
   "outputs": [
    {
     "output_type": "stream",
     "name": "stdout",
     "text": [
      "fecha --> 2 \nna --> 2 \nap --> 2 \nlinfoma --> 2 \n"
     ]
    },
    {
     "output_type": "execute_result",
     "data": {
      "text/plain": [
       "False"
      ]
     },
     "metadata": {},
     "execution_count": 16
    }
   ],
   "source": [
    "fecha_primer_informe_histopatologico__24 = search_text_in_text(paciente,dic,'24')\n",
    "# no esta el texto de donde lo sacaron\n",
    "# dicen que lo sacaron del folio 1 pero empieza del folio 271\n",
    "'realizan biopsia la cual en tiene reporte de inmunohistoquimica protocolo' in paciente"
   ]
  },
  {
   "cell_type": "code",
   "execution_count": 17,
   "metadata": {},
   "outputs": [
    {
     "output_type": "stream",
     "name": "stdout",
     "text": [
      "na --> 8 \nambulatorio --> 8 \n"
     ]
    }
   ],
   "source": [
    "codigo_habilitacion_ips__25 = search_text_in_text(paciente,dic,'25')\n",
    "# no encontrado en el dataset"
   ]
  },
  {
   "cell_type": "code",
   "execution_count": 18,
   "metadata": {},
   "outputs": [
    {
     "output_type": "stream",
     "name": "stdout",
     "text": [
      "fecha --> 2 \nfech --> 2 \nna --> 2 \nhematologia --> 2 \n"
     ]
    }
   ],
   "source": [
    "# A REVISAR\n",
    "fecha_primera_consulta__26 = search_text_in_text(paciente,dic,'26')\n",
    "# no esta el texto de donde lo sacaron\n",
    "# dicen que lo sacaron del folio 1 pero empieza del folio 271"
   ]
  },
  {
   "cell_type": "code",
   "execution_count": 19,
   "metadata": {},
   "outputs": [
    {
     "output_type": "stream",
     "name": "stdout",
     "text": [
      "na --> 4 \ntumor --> 4 \nenfermedad de hodgkin no especificada --> 2 \nlinfoma no hodgkin --> 2 \nlinfoma no hodgkin no especificado --> 2 \n"
     ]
    }
   ],
   "source": [
    "# A REVISAR\n",
    "histologia_tumor__27 = search_text_in_text(paciente,dic,'27')"
   ]
  },
  {
   "cell_type": "code",
   "execution_count": 20,
   "metadata": {},
   "outputs": [
    {
     "output_type": "stream",
     "name": "stdout",
     "text": [
      "na --> 2 \nenfermedad de hodgkin no especificada --> 9 \nlinfoma no hodgkin no especificado --> 9 \n"
     ]
    }
   ],
   "source": [
    "grado_diferenciacion_tumor__28 = search_text_in_text(paciente,dic,'28')"
   ]
  },
  {
   "cell_type": "code",
   "execution_count": 21,
   "metadata": {},
   "outputs": [
    {
     "output_type": "stream",
     "name": "stdout",
     "text": [
      "ei --> 3 \nna --> 1 \nestadio --> 1 \nia --> 2 \nenfermedad de hodgkin no especificada --> 9 \nic --> 8 \nlinfoma no hodgkin no especificado --> 9 \n"
     ]
    }
   ],
   "source": [
    "tumor_solido__29 = search_text_in_text(paciente,dic,'29')"
   ]
  },
  {
   "cell_type": "code",
   "execution_count": 22,
   "metadata": {},
   "outputs": [
    {
     "output_type": "stream",
     "name": "stdout",
     "text": [
      "fecha --> 2 \n",
      "na --> 1 \n",
      "enfermedad de hodgkin no especificada --> 1 \n",
      "fecha 29/04/2021 --> 2 \n",
      "fecha 29/04/2021  --> 2 \n",
      "fecha 09/03/2021 --> 2 \n"
     ]
    }
   ],
   "source": [
    "fecha_estadificacion__30 = search_text_in_text(paciente,dic,'30')"
   ]
  },
  {
   "cell_type": "code",
   "execution_count": 23,
   "metadata": {},
   "outputs": [
    {
     "output_type": "stream",
     "name": "stdout",
     "text": [
      "na --> 9 \n"
     ]
    }
   ],
   "source": [
    "cancer_mama__31 = search_text_in_text(paciente,dic,'31')"
   ]
  },
  {
   "cell_type": "code",
   "execution_count": 24,
   "metadata": {},
   "outputs": [
    {
     "output_type": "stream",
     "name": "stdout",
     "text": [
      "na --> 1 \n0 --> 2 \n"
     ]
    }
   ],
   "source": [
    "cancer_mama_primera_fecha__32 = search_text_in_text(paciente,dic,'32')"
   ]
  },
  {
   "cell_type": "code",
   "execution_count": 25,
   "metadata": {},
   "outputs": [
    {
     "output_type": "stream",
     "name": "stdout",
     "text": [
      "na --> 9 \n"
     ]
    }
   ],
   "source": [
    "cancer_mama_ultima_fecha__33 = search_text_in_text(paciente,dic,'33')"
   ]
  },
  {
   "cell_type": "code",
   "execution_count": 26,
   "metadata": {},
   "outputs": [
    {
     "output_type": "stream",
     "name": "stdout",
     "text": [
      "na --> 9 \nn --> 9 \n"
     ]
    }
   ],
   "source": [
    "cancer_colorrectal__34 = search_text_in_text(paciente,dic,'34')"
   ]
  },
  {
   "cell_type": "code",
   "execution_count": 27,
   "metadata": {},
   "outputs": [
    {
     "output_type": "stream",
     "name": "stdout",
     "text": [
      "na --> 1 \nfecha --> 2 \n"
     ]
    }
   ],
   "source": [
    "fecha_estadificacion_dukes__35 = search_text_in_text(paciente,dic,'35')\n"
   ]
  },
  {
   "cell_type": "code",
   "execution_count": 28,
   "metadata": {},
   "outputs": [
    {
     "output_type": "stream",
     "name": "stdout",
     "text": [
      "na --> 9 \nn --> 9 \n"
     ]
    },
    {
     "output_type": "execute_result",
     "data": {
      "text/plain": [
       "True"
      ]
     },
     "metadata": {},
     "execution_count": 28
    }
   ],
   "source": [
    "estadificacion_hodgkin__36 = search_text_in_text(paciente,dic,'36')\n",
    "'linfoma hodgkin clasico' in paciente"
   ]
  },
  {
   "cell_type": "code",
   "execution_count": 29,
   "metadata": {},
   "outputs": [
    {
     "output_type": "stream",
     "name": "stdout",
     "text": [
      "na --> 9 \nscore --> 1 \n"
     ]
    }
   ],
   "source": [
    "cancer_prostata__37 = search_text_in_text(paciente,dic,'37')"
   ]
  },
  {
   "cell_type": "code",
   "execution_count": 30,
   "metadata": {},
   "outputs": [
    {
     "output_type": "stream",
     "name": "stdout",
     "text": [
      "na --> 9 \nriesgo --> 5 \nalto riesgo --> 5 \n"
     ]
    }
   ],
   "source": [
    "riesgo_leucemias_linfomas__38 = search_text_in_text(paciente,dic,'38')"
   ]
  },
  {
   "cell_type": "code",
   "execution_count": 31,
   "metadata": {},
   "outputs": [
    {
     "output_type": "stream",
     "name": "stdout",
     "text": [
      "na --> 1 \nfecha --> 2 \n"
     ]
    }
   ],
   "source": [
    "fecha_clasificacion_riesgo__39 = search_text_in_text(paciente,dic,'39')"
   ]
  },
  {
   "cell_type": "code",
   "execution_count": 32,
   "metadata": {},
   "outputs": [
    {
     "output_type": "stream",
     "name": "stdout",
     "text": [
      "na --> 1 \nprotocolo de quimioterapia --> 1 \nia --> 1 \ntratamiento especial --> 1 \ncontrol --> 1 \n"
     ]
    }
   ],
   "source": [
    "intencion_tratamiento__40 = search_text_in_text(paciente,dic,'40')"
   ]
  },
  {
   "cell_type": "code",
   "execution_count": 33,
   "metadata": {},
   "outputs": [
    {
     "output_type": "stream",
     "name": "stdout",
     "text": [
      "na --> 3 \ntratamiento con quimioterapia --> 2 \nprotocolo de quimioterapia --> 2 \ncontrol --> 3 \nse inicia protocolo de quimioterapia --> 2 \ntratamiento especial --> 2 \nquimioterapia --> 2 \nratamiento especial --> 2 \ncita control --> 3 \ncontrol en 1 --> 3 \ncontrol  --> 3 \ncontro --> 3 \ncita control en 1 mes --> 3 \n"
     ]
    }
   ],
   "source": [
    "objetivo_intervencion__41 = search_text_in_text(paciente,dic,'41')"
   ]
  },
  {
   "cell_type": "code",
   "execution_count": 34,
   "metadata": {},
   "outputs": [
    {
     "output_type": "stream",
     "name": "stdout",
     "text": [
      "na --> 2 \n"
     ]
    }
   ],
   "source": [
    "antecedentes_otro_Cancer__42 = search_text_in_text(paciente,dic,'42')"
   ]
  },
  {
   "cell_type": "code",
   "execution_count": 35,
   "metadata": {},
   "outputs": [
    {
     "output_type": "stream",
     "name": "stdout",
     "text": [
      "na --> 1 \n"
     ]
    }
   ],
   "source": [
    "fecha_otro_Cancer__43 = search_text_in_text(paciente,dic,'43')"
   ]
  },
  {
   "cell_type": "code",
   "execution_count": 36,
   "metadata": {},
   "outputs": [
    {
     "output_type": "stream",
     "name": "stdout",
     "text": [
      "na --> 9 \nlinfoma --> c \n"
     ]
    }
   ],
   "source": [
    "tipo_cie_cancer__44 = search_text_in_text(paciente,dic,'44')"
   ]
  },
  {
   "cell_type": "code",
   "execution_count": 37,
   "metadata": {},
   "outputs": [
    {
     "output_type": "stream",
     "name": "stdout",
     "text": [
      "na --> 9 \n0 --> 9 \ntratamiento especial --> 1 \nse inicia protocolo de quimioterapia --> 1 \nquimioterapia --> 1 \nformula medica --> 1 \n"
     ]
    }
   ],
   "source": [
    "recibido_quimioterapia__45 = search_text_in_text(paciente,dic,'45')"
   ]
  },
  {
   "cell_type": "code",
   "execution_count": 38,
   "metadata": {},
   "outputs": [
    {
     "output_type": "stream",
     "name": "stdout",
     "text": [
      "na --> 9 \n",
      "n --> 9 \n"
     ]
    }
   ],
   "source": [
    "fases_quimioterapia__46 = search_text_in_text(paciente,dic,'46')"
   ]
  },
  {
   "cell_type": "code",
   "execution_count": 39,
   "metadata": {},
   "outputs": [
    {
     "output_type": "stream",
     "name": "stdout",
     "text": [
      "na --> 9 \n"
     ]
    }
   ],
   "source": [
    " prefase_citorreducción_inicial_48 = search_text_in_text(paciente,dic,'48')"
   ]
  },
  {
   "cell_type": "code",
   "execution_count": 40,
   "metadata": {},
   "outputs": [],
   "source": [
    "texto = paciente.split(\"$$\")"
   ]
  },
  {
   "cell_type": "code",
   "execution_count": 41,
   "metadata": {},
   "outputs": [
    {
     "output_type": "stream",
     "name": "stdout",
     "text": [
      "organizacion clinica bonnadona prevenir s.a.s\n\nespacios ars 800194798 - 2 rhscihfch\npreneir pag: 1 de 17\n7 fecha: 24/05/21\npal ren d0 geetareo: 12\n*84046881*\n\nhistoria clinica no.cc 84046881 -- warner chistian montenegro barros\nempresa: comfaguajira pgp oncologia subsidiado \nafiliado: cotizante nivel 1\nfecha nacimiento: 10/02/1989 \nedad actual : 52 años \nsexo: masculino \ngrupo sanguineo: \nestado civil: casado(a)\ntelefono: 3185218372 \ndireccion: calle 19 n 23-57 maicao\nbarrio: santa cruz \ndepartamento: la guajira\nmunicipio: maicao \nocupacion: otras ocupaciones elementales\netnia: ninguno de los anteriores \ngrupo etnico: ninguno de los anteriores\nnivel educativo: basica secundaria \natencion especial: no aplica\ndiscapacidad: ninguna \ngrupo poblacional: no definido\n\n \n\fresponsable: luis alfredo montenegro castillo telefono: 3155863572 parentesco: hijo\n\n \n\n \n\n \n\nsede de atencion: 001 sede unica edad : 51 años\n==> folio 271 — fecha 03/02/2021 10:06:45 tipo de atencion ambulatorio\n\n\n---------------------------------------------------------------------------\nmotivo de consulta\n\nlinfoma\n\n\n---------------------------------------------------------------------------\nenfermedad actual\n\npacienbte masculino de 51 años con diagnostico\nlinfoma hodgkin clasico estadio ll, ipi 3 ( slp a 5 años 60%)\n“secuela de isquemia a nivel de cerebelo\n\n- sindrome de klippel feil\n\n\"completo 6 ciclos de quimioterapia abwd entre el 07-05-20 y el 26 -11-20\ncontinua con dolor en hombros, mejoria de parestesias y movilizacion de dedos de las manos\n\ne fisico: peso 88 kg\nvigil, buen estado general, piel: se observa pigmentada en la cara y antebrazos. no se palpan adenopatias,\ncardio pulmonar normal, abdomen blando, no doloroso, sin masas ni visceromegalias, extremidades sin edemas.\n\nlaboratorios\n14-01-21 hb 13 hto 38,9% gb 5830 n 49% l 44% plaq 277.000 ca 1.2 gl 88 tg 248 ac urico 6 ct 254\n\npet-tc 06-01-21 al comparar con estudio previo del 28-04-20 se indetifica resolucion de adenopatias en cadena\nlaterocervical derecha. mejoria significatica de conglomerado, plastron adenopatico mediastinal, en la actualidad se\nidentifican adenopatias aisladas en diferecntes niveles mediastinales descritos, con leve incremento de la actividad\nmetabolica no superando la captaicon hepatica en relacion con score 3 de los criterios de deuville\n\nde reciente aparicion adenomegalia en cadena laterocevical izquierda, unica , con incremento de la actividad metabolica\nno superando la captacion hepatica en relacion con score 5 de los critrios de deuaville\n\ncomentarios\n\npaciente con linfoma hodgkin que recibe tratamiento con quimioterapia con buena tolerancia. presenta\n\npet-tc de final de tratamiento con persistencia de adenopatias en torax deuville 3 y adenopatia cervical izquierda nueva\ndeuville 5. considero indicar tratamiento de rescate con brentuximab + bendamustina.\n\nse indica\npregabalina tab 50 mg +60\ntomar 1 cada 12 horas segun dolor,\n\nter ciclo brentuximab + bendamustina[dosis reducida 60 mg/m2/dia x 2 dias por ciclo)\npeso 88 kg talla 172 50 2.02 m2\n\npremedicacion\n75.0 *hosvital* usuario: 1045742977\n\fresponsable: luis alfredo montenegro castillo telefono: 3155863572 parentesco: hijo\nhidrocortisona 200 mg ev\nacetaminofen 1 gr vo\nondansetaon 3 mg ev\ndifenhidramina 15 ml vo\n\nbrentuximas vial 50 mg +3\naplicar 150 mg en 250 ml de ssn a pasar ev en 30 minutos, dia 1 del ciclo\n\nbendamustina vial 100 mg a 4\naplicar 120 mg en 250 ml de ssn a pasar ev en 2 horas. dia 1 y 2 del ciclo\n\nciclos cada 21 dias\nse plantean 6 a 3 ciclos.\n\nse solicita hemograma, quimica serica\ncita control en 1 mes\nvaloracion por dermatologia,\n\nse da incapacidad por 90 dias a partir del 2 de noviembre del 2020\n\n\n---------------------------------------------------------------------------\ndiagnostico c819 enfermedad de hodgkin no especificada tipo principal\n\n---------------------------------------------------------------------------\nordenes de procedimientos no quirurgico\ncantidad descripcion\n1 pl tin ica alta toxic pendiente\n\n---------------------------------------------------------------------------\nordenes de laboratorio\ncantidad descripcion\n1 — hemograma iv (hemoglobina hematocrito recuento de eritrocitos indices eritrocitarios l pendiente\n1  deshidrogenasa lactica pendiente\n1  fosfatasa alcalina pendiente\n1 glucosa en suero u otro fluido diferente a orina pendiente\n1  nitrogeno ureico pendiente\n1  transaminasa glutamico-piruvica [alanino amino transferasa] pendiente\n1  transaminasa glutamico oxalacetica [aspartato amino transferasa] pendiente\n1 creatinina en suero u otros fluidos pendiente\n\n---------------------------------------------------------------------------\ninterconsultas\ninterconsulta pofbermatologia fecha de orden: 03/02/2021 ordenada\n\n---------------------------------------------------------------------------\nobservaciones\nresultados :\ninterconsulta pormematologia fecha de orden: 0302/2021 ordenada\n\n---------------------------------------------------------------------------\nobservaciones\ncita control en 1 mes\nresultados :\n\n75.0 *hosvital* usuario: 1045742977\n\fresponsable: luis alfredo montenegro castillo telefono: 3155863572 parentesco: hijo\n\nlala\n\ncesar augusto rodriguez moreno\n\n \n\n \n\n \n\n \n\nreg. 131036106\nhmematologia\nsede de atencion: 001 sede unica edad : 52 años\n==> folio 272 — fecha 04/03/2021 09:48:12 tipo de atencion tratamiento especial\n\n---------------------------------------------------------------------------\nformula medica\ncantidad dosis descripcion via frecuencia accion\n1,00 3,00 miligramos ondansetron 3 mg/ 4 ml solucion inyecta intravenoso ahora nuevo\nble 8 mg/4 ml\n1,00 500,00 cc sodio cloruro 0.9% x s00ml solucion inye intravenoso ahora nuevo\nctable 0.9% sodml\n2,00 120,00 miligramos bendamustina 100mg polvo para inyeccion intravenoso ahora nuevo\n100 mg\n3,00 150,00 miligramos brentuximab vedotina somg ampolla 50 mg intravenoso ahora nuevo\n2,00 1,00 gramos acetaminofen 500 mg tableta 500 mg oral ahora nuevo\n1,00 15,00 cc difenhidramina 125mg/5ml jarabe (120 ml) oral ahora nuevo\n125mg/5ml\nls a prcal.\nqw £a y\ncarlos arturo bacca herrera\nreg. 1140832488\nmedicina general\nsede de atencion: 001 sede unica edad : 52 años\n==> folio 273 fecha 04/03/2021 10:02:51 tipo de atencion tratamiento especial\n\n---------------------------------------------------------------------------\nformatos\n\n75.0 *hosvital* usuario: 1045742977\n\fresponsable: luis alfredo montenegro castillo telefono: 3155863572 parentesco: hijo\nespecialista que ordena el tratamiento\ncodigo del especialista: me265\nprocedimiento del paciente\ncodigo del procedimiento: p\n\n \n\n \n\nsede de atencion: — 001 sede unica edad : 52 años\n==> folio 275 fecha 04/03/2021 13:32:37 tipo de atencion tratamiento especial\n\n---------------------------------------------------------------------------\nnotas enfermeria\n\ndia 1: se canaliza vena en dorso de la mano derecho con cateter 22 unica punsion con previa asepsia y antisepsia con\nalcohol y se instalan liquidos endovenosos con solucion salina normal al 0.9 % 500 cc por bomba infusion.\n\n09:30 se inicia hidrocortisona 200mg diluida en 10ccde solucion salina normal en bolo, 1 gr de acetaminofen vo.10ccde\ndifehidramida vo,\n\n09:45 se inicia ondansetron 3 mg iv diluido en 100cc de solucion salina normal al 0.9%\n\n10:00 se inicia protocolo de quimioterapia con brentuximab 150 mg iv diluido en 250 cc de solucion salina normal al\n0.9%por bomba infusion para 1 horas, previo retorno venoso sin complicaciones.\n\nse lawa acceso venoso con solcuion salina normal 100cc\n\n11:00 se inicia bendamustina 120 mg iv diluido en 250 cc de solucion salina normal al 0.9%por bomba infusion para 2\nhoras, previo retorno venoso sin complicaciones.\n\n13:00 termina infusion de quimioterapia sin complicaciones se instala 100 cc de solucion salina normal al 0.9% para\nlavar vena\n\n13:15 se retira wenoclisis sin complicaciones se dan indicaciones para la casa, se entrega cita de refuerzo sale\npaciente del servicio de hospital dia en buenas condiciones generales caminando por sus propios medios acompañado por\nfamiliar.\n\nnota realizada por: diana chamorro hernandez fecha: 04/09/21 13:33:17\n\ndiana chamorro hernandez\n\nreg. 4522\nauxiliar de enfermeria\n\n75.0 *hosvital* usuario: 1045742977\n\fresponsable: luis alfredo montenegro castillo\n\ntelefono: 3155863572\n\nparentesco: hijo\n\n \n\n \n\n \n\n \n\nsede de atencion: 001 sede unica edad : 52 años\n==> folio 276 — fecha 04/03/2021 15:37:08 tipo de atencion tratamiento especial\n\n---------------------------------------------------------------------------\nformula medica\ncantidad dosis descripcion via frecuencia accion\n2,00 200,00 miligramos hidrocortisona 100mg polvo para inyeccio intravenoso ahora nuevo\nn 100 mg\nls a prcal.\nqw £a y\ncarlos arturo bacca herrera\nreg. 1140832488\nmedicina general\nsede de atencion: —— 001 sede unica edad : 52 años\n==> folio 278 fecha 05/03/2021 15:00:42 tipo de atencion tratamiento especial\n\n---------------------------------------------------------------------------\nformula medica\ncantidad dosis descripcion via frecuencia accion\n1,00 38,00 miligramos ondansetron 8 mg/ 4 ml solucion inyecta intravenoso ahora continuar\nble 3 mg/4 ml\n1,00 500,00 cc sodio cloruro 0.9% x s00ml solucion inye intravenoso ahora continuar\nctable 0,9% so0ml\n2,00 200,00 miligramos hidrocortisona 100mg polvo para inyeccio intravenoso ahora continuar\nn 100 mg\n2,00 120,00 miligramos bendamustina 100mg polvo para inyeccion intravenoso ahora continuar\n100 mg\n2,00 1,00 gramos acetaminofen 500 mg tableta 500 mg oral ahora continuar\n1,00 15,00 cc difenhidramina 125mg/5ml jarabe (120 ml) oral ahora continuar\n\n73.0 *hosvital*\n\n125mg/bml\n\nusuario: 1045742977\n\fresponsable: luis alfredo montenegro castillo telefono: 3155863572 parentesco: hijo\n\noprles a braceh.\n\ncarlos arturo bacca herrera\nreg. 1140832488\n\n \n\n \n\nmedicina general\nsede de atencion: — 001 sede unica edad : 52 años\n==> folio 279 — fecha 05/03/2021 16:21:10 tipo de atencion tratamiento especial\n\n---------------------------------------------------------------------------\nnotas enfermeria\n\ndia 2: se canaliza vena en dorso de la mano derecho con cateter 22 unica punsion con previa asepsia y antisepsia con\nalcohol y se instalan liquidos endovenosos con solucion salina normal al 0.9 5% 500 cc por bomba infusion,\n\n09:30 se inicia hidrocortisona 200mg diluida en 10ccde solucion salina normal en bolo, 1 gr de acetaminofen vo.10c0cde\ndifehidramida vo,\n\n09:45 se inicia ondansetron 8 mg iv diluido en 100cc de solucion salina normal al 0,9%\n10:00 se inicia bendamustina 120 mg iv diluido en 250 cc de solucion salina normal al 0.9%por bomba infusion para 2\nhoras, previo retorno venoso sin complicaciones,\n\n12:00 termina infusion de quimioterapia sin complicaciones se instala 100 cc de solucion salina normal al 0,9% para\nlavar vena\n\n12:15 se retira venoclisis sin complicaciones se dan indicaciones para la casa, se entrega cita de control sale paciente\n\ndel servicio de hospital dia en buenas condiciones generales caminando por sus propios medios acompañado por familiar\nnota realizada por: diana chamorro hernandez fecha: 05/03/21 16:24:29\n\ndiana chamorro hernandez\n\n \n\n \n\nreg. 4522\nauxiliar de enfermeria\nsede de atencion: 001 sede unica edad : 52 años\n==> folio 280 — fecha 09/03/2021 09:14:27 tipo de atencion tratamiento especial\n\nsalida clinica: 05/03/2021 18:14:39\n\n75.0 *hosvital* usuario: 1045742977\n\fresponsable: luis alfredo montenegro castillo telefono: 3155863572 parentesco: hijo\n\n---------------------------------------------------------------------------\ndiagnostico c819 enfermedad de hodgkin no especificada tipo principal\n\n---------------------------------------------------------------------------\ndiagnostico 2511 sesion de quimioterapia por tumor tipo relacionado\n\noprles a bruce ah.\n\ncarlos arturo bacca herrera\nreg. 1140832488\nmedicina general\n\n \n\nsede de atencion: 001 sede unica edad : 52 años\n\n \n\n==> folio 281 — fecha 18/03/2021 15:12:19 tipo de atencion ambulatorio\n\n \n\n\n---------------------------------------------------------------------------\nmotivo de consulta\n\nlinfoma hodgkin\n\n\n---------------------------------------------------------------------------\nenfermedad actual\n\npacienbte masculino de 51 años con diagnostico\n\nlinfoma hodgkin clasico estadio ll, 1pi 3 ( slp a 5 años 60%) refractario a 1ea linea con abvd\n“secuela de isquemia a nivel de cerebelo\n\n“sindrome de klippel feil\n\n\"completo 6 ciclos de quimioterapia abvd entre el 07-05-20 y el 26 -11-20\n* recibio 1er ciclo brentuximas + bendamustina 04-03-21\n\nrefiere edema de miembros inferiores\n\ne. fisico: peso 88 kg\n\nvigil, buen estado general, piel: se observa pigmentada en la cara y antebrazos. no se palpan adenopatias,\ncardiopulmonar normal, abdomen blando, no doloroso, sin masas ni visceromegalias, extremidades sin edemas\ncomentarios\n\npaciente con linfoma hodgkin refractario a 1era linea de tratamiento con esquema abvd. recibio 1€8ar ciclo de\nquimioterapia brentuximab + bendamustina con buena tolerancia.\n\nse indica\n\npregabalina tab 75 mg 4 60\n\ntomar 1 cada 12 horas segun dolor.\n\n2do ciclo brentuximab + bendamustina\n\npeso 38 kg talla 172 5c 2.02 m2\n\npremedicacion\n75.0 *hosvital* usuario: 1045742977\n\fresponsable: luis alfredo montenegro castillo telefono: 3155863572 parentesco: hijo\n\nhidrocortisona 200 mg ev\nacetaminofen 1 gr vo\nondansetron 3 mg ev\ndifenhidramina 15 ml vo\n\nbrentuximas vial 50 mg e 3\naplicar 150 mg en 250 ml de ssn a pasar ev en 30 minutos. dia 1 del ciclo\n\nbendamustina vial 100 mg a 4\naplicar 180 mg en 250 ml de ssn a pasar ev en 2 horas. dia 1 y 2 del ciclo\n\nciclos cada 21 dias\nse plantean 6 a 3 ciclos.\n\nse solicita hemograma, quimica serica\ncita control en 1 mes\nvaloracion por medicina laboral\n\n\n---------------------------------------------------------------------------\ndiagnostico c819 enfermedad de hodgkin no especificada tipo principal\n\n---------------------------------------------------------------------------\nordenes de procedimientos no quirurgico\ncantidad descripcion\n1 pl tin ica alta toxic pendiente\n\n---------------------------------------------------------------------------\nordenes de laboratorio\ncantidad descripcion\n1 — hemograma iv (hemoglobina hematocrito recuento de eritrocitos indices eritrocitarios l pendiente\n1 creatinina depuracion pendiente\n1  deshidrogenasa lactica pendiente\n1  fosfatasa alcalina pendiente\n1 glucosa en suero u otro fluido diferente a orina pendiente\n1  nitrogeno ureico pendiente\n1 proteinas en orina de 24 horas pendiente\n1  transaminasa glutamico-piruvica [alanino amino transferasa] pendiente\n1  transaminasa glutamico oxalacetica [aspartato amino transferasa] pendiente\n1 creatinina en suero u otros fluidos pendiente\n\n---------------------------------------------------------------------------\ninterconsultas\ninterconsulta pophematologia fecha de orden: 18/03/2021 ordenada\n\n---------------------------------------------------------------------------\nobservaciones\ncita control en 1 mes\nresultados :\ninterconsulta pofsalud ocupacional y proteccion de riesgos laborales — fecha de orden: 18/03/2021 ordenada\n\n---------------------------------------------------------------------------\nobservaciones\nresultados :\n\n75.0 *hosvital* usuario: 1045742977\n\fresponsable: luis alfredo montenegro castillo telefono: 3155863572 parentesco: hijo\n\nlala\n\ncesar augusto rodriguez moreno\nreg. 131036106\nmematologia\n\n \n\nsede de atencion: 001 sede unica edad : 52 años\n\n \n\n==> folio 263 — fecha 22/04/2021 11:59:54 tipo de atencion ambulatorio\n\n\n---------------------------------------------------------------------------\nmotivo de consulta\n\nlinfoma hodgkin\n\nactualizacion\n\n\n---------------------------------------------------------------------------\nenfermedad actual\n\npacienbte masculino de 51 años con diagnostico\n\nlinfoma hodgkin clasico estadio ll, ipi 3 ( slp a 5 años 60%) refractario a 1ea linea con abvd\n“secuela de isquemia a nivel de cerebelo\n\n“sindrome de klippel feil\n\n\"completo 6 ciclos de quimioterapia abvd entre el 07-05-20 y el 26 -11-20\n\n* recibio 1er ciclo brentuximas + bendamustina 04-03-21\nrefiere edema de miembros inferiores\n\ne. fisico: peso 88 kg\n\nvigil, buen estado general, piel: se observa pigmentada en la cara y antebrazos. no se palpan adenopatias,\ncardiopulmonar normal, abdomen blando, no doloroso, sin masas ni visceromegalias, extremidades sin edemas\n\ncomentarios\n\npaciente con linfoma hodgkin refractario a 1era linea de tratamiento con esquema abvd, recibio 1er ciclo de\nquimioterapia brentuximab + bendamustina con buena tolerancia.\n\nse indica\npregabalina tab 75 mg 4 60\ntomar 1 cada 12 horas segun dolor.\n\n200 ciclo brentuximab + bendamustina\n\n75.0 *hosvital* usuario: 1045742977\n\fresponsable: luis alfredo montenegro castillo telefono: 3155863572 parentesco: hijo\npeso 88 kg talla 172 50 2.02 m2\n\npremedicacion\nhidrocortisona 200 mg ev\nacetaminofen 1 gr vo\nondansetron 3 mg ev\ndifenhidramina 15 ml vo\n\nbrentuximas vial 50 mg e 3\naplicar 150 mg en 250 ml de ssn a pasar ev en 30 minutos. dia 1 del ciclo\n\nbendamustina vial 100 mg a 4\naplicar 180 mg en 250 ml de ssn a pasar ev en 2 horas. dia 1 y 2 del ciclo\n\nciclos cada 21 dias\nse plantean 6 a 3 ciclos.\n\nse solicita hemograma, quimica serica\ncita control en 1 mes\nvaloracion por medicina laboral\n\n\n---------------------------------------------------------------------------\ndiagnostico c5819 enfermedad de hodgkin no especificada tipo principal\n\n---------------------------------------------------------------------------\nordenes de procedimientos no quirurgico\ncantidad descripcion\n1 pl mis] ica de alta toxici pendiente\n\n---------------------------------------------------------------------------\nordenes de laboratorio\ncantidad descripcion\n1 hemograma iv (hemoglobina hematocrito recuento de eritrocitos indices eritrocitarios l pendiente\n1 deshidrogenasa lactica pendiente\n1 fosfatasa alcalina pendiente\n1 glucosa en suero u otro fluido diferente a orina pendiente\n1 nitrogeno ureico pendiente\n1 transaminasa glutamico-piruvica [alanino amino transferasa] pendiente\n1 transaminasa glutamico oxalacetica [aspartato amino transferasa] pendiente\n1 creatinina en suero u otros fluidos pendiente\n\n---------------------------------------------------------------------------\ninterconsultas\ninterconsulta pophematologia fecha de orden: 2204/2021 ordenada\n\n---------------------------------------------------------------------------\nobservaciones\ncita contral en 1 mes\nresultados :\n\n75.0 *hosvital* usuario: 1045742977\n\fresponsable: luis alfredo montenegro castillo telefono: 3155863572 parentesco: hijo\n\nlala\n\ncesar augusto rodriguez moreno\nreg. 131036106\nmematologia\n\nsede de atencion: 001 sede unica edad : 52 años\n\n==> folio 284 — fecha 22/04/2021 16:53:23 tipo de atencion ambulatorio\n\n\n---------------------------------------------------------------------------\nmotivo de consulta\n\nlinfoma\n\n\n---------------------------------------------------------------------------\nenfermedad actual\n\nse realiza teleconsulta por la emergencia sanitaria decretada por el ministerio de salud por la pandemia generada por el\ncovid-19\n\npaciente acepta realizar la teleconsulta.\n\n \n\n \n\npacienbte masculino de 51 años con diagnostico\n\nlinfoma hodgkin clasico estadio ll, ipi 3 ( slp a 5 años 60%) refractario a 1ea linea con abvd\n“secuela de isquemia a nivel de cerebelo\n\n“sindrome de klippel feil\n\n\"completo 6 ciclos de quimioterapia abvd entre el 07-05-20 y el 26 -11-20\n* recibio 1er ciclo brentuximas + bendamustina 04-03-21\n\nrefiere edema en tobillos. suspendio pregabalina por sensibilidad en pezones\nmanifiesta que aun no se realiza 2d0 ciclos por temas administrativos.\n\nlaboratorios\n31-03-21 fal 223 tgo 31 tgp 40 ldh 357 normal, proteinuria de 24 horas 64 normal. hb 14.3 gb 6000 n 62% l 26% m\n11,6% plaq 222000 bun 19 cr 1.2 gl 80\n\ncomentarios\npaciente con linfoma hodgkin refractario a 1era linea de tratamiento con esquema abvd, recibio 1er ciclo de\nquimioterapia brentuximab + bendamustina con buena tolerancia.\n\nse indica\n\n200 ciclo brentuximab + bendamustina a realizar a la brevedad\nse solicita hemograma, tgo, tgp, loh, bun creatinina,\n\ncita control en 3 semanas,\n\npendiente valoracion por medicina laboral\n\n75.0 *hosvital* usuario: 1045742977\n\fresponsable: luis alfredo montenegro castillo telefono: 3155863572 parentesco: hijo\n\ninia rr\n\npeso 88 kg talla 172 5c 2.02 m2\n\npremedicacion\nhidrocortisona 200 mg ev\nacetaminofen 1 gr vo\nondansetron 3 mg ev\ndifenhidramina 15 ml vo\n\nbrentuximas vial 50 mg e 3\naplicar 150 mg en 250 ml de ssn a pasar ev en 30 minutos. dia 1 del ciclo\n\nbendamustina vial 100 mg a 4\naplicar 180 mg en 250 ml de ssn a pasar ev en 2 horas. dia 1 y 2 del ciclo\n\nciclos cada 21 dias\n\nse plantean 6 a 3 ciclos.\n\n---------------------------------------------------------------------------\ndiagnostico c859 linfoma no hodgkin no especificado tipo principal\n\n---------------------------------------------------------------------------\nordenes de procedimientos no quirurgico\ncantidad descripcion\n1 pl tin ica alta toxich pendiente\n\n---------------------------------------------------------------------------\nordenes de laboratorio\ncantidad descripcion\n1 hemograma iv (hemoglobina hematocrito recuento de eritrocitos indices eritrocitarios l pendiente\n1 deshidrogenasa lactica pendiente\n1  fosfatasa alcalina pendiente\n1 glucosa en suero u otro fluido diferente a orina pendiente\n1  nitrogeno ureico pendiente\n1 transaminasa glutamico-piruwvica [alanino amino transferasa] pendiente\n1 transaminasa glutamico oxalacetica [aspartato amino transferasa] pendiente\n1 creatinina en suero u otros fluidos pendiente\n\n---------------------------------------------------------------------------\ninterconsultas\ninterconsulta pophematologia facha de orden: 2204/2021 ordenada\n\n---------------------------------------------------------------------------\nobservaciones\ncita control en 3 semanas.\nresultados :\n\n75.0 *hosvital* usuario: 1045742977\n\fresponsable: luis alfredo montenegro castillo telefono: 3155863572 parentesco: hijo\n\nlala\n\ncesar augusto rodriguez moreno\n\n \n\n \n\n \n\nreg. 131036106\nmematologia\nsede de atencion: — 001 sede unica edad : 52 años\n==> folio 285 fecha 29/04/2021 08:56:34 tipo de atencion tratamiento especial\n\n---------------------------------------------------------------------------\nformatos\n\nespecialista que ordena el tratamiento\ncodigo del especialista: me265\nprocedimiento del paciente\ncodigo del procedimiento: p\n\n \n\n \n\nsede de atencion: 001 sede unica edad : 52 años\n==> folio 286 fecha 29/04/2021 09:08:18 tipo de atencion tratamiento especial\n\n---------------------------------------------------------------------------\nformula medica\ncantidad dosis descripcion via frecuencia accion\n1,00 38,00 miligramos ondansetron 3 mg/ 4 ml solucion inyecta intravenoso ahora nuevo\nble y mg/4 ml\n1,00 500,00 cc sodio cloruro 0.9% x sooml solucion inye intravenoso ahora nuevo\nctable 0.9% sodml\n2,00 200,00 miligramos hidrocortisona 100mg polvo para inyeccio intravenoso ahora nuevo\nn 100 mg\n2,00 180,00 miligramos bendamustina 100mg polvo para inyeccion intravenoso ahora nuevo\n100 mg\n3,00 150,00 miligramos brentuximab vedotina s5somg ampolla 50 mg intravenoso ahora nuevo\n2,00 1,00 gramos acetaminofen 500 mg tableta 500 mg oral ahora nuevo\n\n75.0 *hosvital* usuario: 1045742977\n\fresponsable: luis alfredo montenegro castillo telefono: 3155863572 parentesco: hijo\n\na\n\nfarid eduardo restrepo avendaño\nreg. 1140848842\n\n \n\n \n\nmedicina general\nsede de atencion: 001 sede unica edad : 52 años\n==> folio 287 — fecha 29/04/2021 10:53:29 tipo de atencion tratamiento especial\n\n---------------------------------------------------------------------------\nnotas enfermeria\n\ndia 1: se canaliza vena en dorso de la mano derecho con cateter 22 unica punsion con previa asepsia y antisepsia con\nalcohol y se instalan liquidos endovenosos con solucion salina normal al 0.9 5% 500 cc por bomba infusion,\n\n09:30 se inicia ondansetron 8 mg iv diluido en 100c0c de solucion salina normal al 0,9% + hidrocortisona 200 mg diluida\nen 10cc de solucion salina normal al 0,9% + acetaminofen via oral + difehidramida 15 cc via oral,\n\n10:00 se inicia protocolo de quimioterapia con brentuximab 150 mg iv diluido en 250 cc de solucion salina normal al\nd9%por bomba infusion para 1 horas, previo retorno venoso sin complicaciones,\n\nse lava acceso venoso con solcuion salina normal 10000\n\n11:00 se inicia bendamustina 180 mg iv diluido en 250 cc de solucion salina normal al 0.9%por bomba infusion para 2\nhoras, previo retorno venoso sin complicaciones,\n\n13:00 termina infusion de quimioterapia sin complicaciones se instala 100 cc de solucion salina normal al 0,9% para\nlavar vena\n\n13:15 se retira venoclisis sin complicaciones se dan indicaciones para la casa, se entrega cita de refuerzo mañana, sale\npaciente del servicio de hospital dia en buenas condiciones generales caminando por sus propios medios acompañado por\nfamiliar,\n\nnota realizada por: karime coronel gutierrez fecha: 29/04/21 09:15:00\n\n---------------------------------------------------------------------------\nformatos\nvariables\n\npaciente con neutropenia y trombocitopenia severa , no aplica\n\npacierne posox durante las primera 24 horas no aplica\n\ncaidas previas si  noo\n\nedad menor de 700 mayor de 70\n\nuso de medicamentos nmguno — tranquiizamtos/sedantes diureticos — hipotensores (no diuraticos) amtiparkinsonianos\n\nantidepresivos — otros medicamentos!\n\ndeficit sensorial ninguno  ahñeraciones visuales (uso de lentes problemas de vista)1\n\nalteraciones auditivas (vertigo uso de audilonos problemas de escucha)\n\n75.0 *hosvital* usuario: 1045742977\n\fresponsable: luis alfredo montenegro castillo telefono: 3155863572 parentesco: hijo\nextremidades (dificultad para caminar, uso de aparatos ortopedicos)\nestado mental orientado 0 comtuso\ndeambulacion normal — segura con ayuda insegura con ayuda — nodeambula\npuntaje obtenido 2.0000\ninterpretacion del puntaje\n40 mas : alto riesgo\n2 a 3: mediano riesgo\nda 1: bajo riesgo\n\nkarime coronel gutierrez\n\n \n\n \n\n \n\n \n\n \n\nreg. $080\nauxiliar de enfermeria\nsede de atencion: 001 sede unica edad : 52 años\n==> folio 289 — fecha 30/04/2021 08:52:52 tipo de atencion tratamiento especial\n\n---------------------------------------------------------------------------\nformula medica\ncantidad dosis descripcion via frecuencia accion\n1,00 3,00 miligramos ondansetron 3 mg/ 4 ml solucion inyecta intravenoso ahora continuar\nble 3 mg/4 ml\n1,00 500,00 cc sodio cloruro 0.9% x s00ml solucion inye intravenoso ahora continuar\nctable 0.9% sodml\n2,00 180,00 miligramos bendamustina 100mg polvo para inyeccion intravenoso ahora continuar\n100 mg\na\nfarid eduardo restrepo avendaño\nreg. 1140848842\nmedicina general\nsede de atencion: 001 sede unica edad : 52 años\n==> folio 291 — fecha 30/04/2021 10:51:53 tipo de atencion tratamiento especial\n\n \n\n75.0 *hosvital* usuario: 1045742977\n\fresponsable: luis alfredo montenegro castillo telefono: 3155863572 parentesco: hijo\n\n\n---------------------------------------------------------------------------\nnota de ingreso\n\ningresa paciente al servicio de hospital dia proveniente de su casa caminando por sus propios medios acompañada por\nfamiliar para realizar protocolo de quimioterapia, se ubica paciente en cubiculo numero 2, se entrega visor y se dan\nindicaciones de uso,se indaga sobre posible signo y sintomas asociados a gripa tales como: (tos, molestia en la\ngarganta, fiebre o malestar general] tanto a el como a su nucleo familiar el cual manifiesta que no. paciente que sera a\ntendido por parte del personal bajo estricta medidas de seguridad (bata antifluido, guante, gafas, visor, gorro,\ntapabocas], se inicia protocolo de bienvenida presentandole el personal a atenderlo recalcando sus derechos y deberes,\nseguridad del paciente, se educa sobre la importancia del lavado de manos, segregacion de la fuente, plan de\nevacuacion, se identifica paciente con manilla respectiva al servicio, se realiza escala de caidas dando un porcentaje\nde riesgo medio , se indaga paciente de posibles alergia el cual niega, se advierten las siguientes medidas para\n\ndisminuir el riesgo de caidas acompañamiento continuo de familiar durante el tratamiento , acompañando al paciente\ndurante sus traslados , incentivar al paciente a solicitar ayuda para su traslado cuando lo necesite, promover el uso\nde calzado comodo y seguro , verificar frenos de sillas y camillas , advertir sobre los peligros del suelo humedo ,\nmantener los dispositivos de ayuda en buen estado de uso , colocar a los pacientes con incontinencia o dificultad para\nel traslado cerca de los baños . informarles de la altura de las camas y /o sillas y la forma apropiada de levantarse.\n\n---------------------------------------------------------------------------\nexamen fisico\n\n. sistema nerwioso central: consciente orientado en sus tres esferas. cuello: movil. abdomen: blando a la palpacion.\nextremidades inferiores: simetricos\n\nkarime coronel gutierrez\n\n \n\n \n\nreg. 5060\nauxiliar de enfermeria\nsede de atencion: 001 sede unica edad : 52 años\n==> folio 292 — fecha 30/04/2021 11:16:52 tipo de atencion tratamiento especial\n\n---------------------------------------------------------------------------\nnotas enfermeria\n\ndia 2: se canaliza vena en dorso de la mano izquireda con cateter 22 unica punsion con previa asepsia y antisepsia con\nalcohol y se instalan liquidos endovenosos con solucion salina normal al 0.9% 500 cc por bomba infusion.\n\n08:45 se incia ondansetron 8 mg iv diluido en 100 cc de solucion salina normal al 0.9%\n\n09:00 se inicia protocolo de quimioterapia con bendamustina 130 mg iv diluido en 500cc de solucion salina normal al\n0.9% por bomba infusion para 1 horas, previo retorno venoso.\n\n10:00 termina infusion de quimioterapia sin complicaciones se instala 100 cc de solucion salina normal al 0.9% por\nbomba infusion.\n\n75.0 *hosvital* usuario: 1045742977\n\fresponsable: luis alfredo montenegro castillo telefono: 3155863572 parentesco: hijo\n\n10:30 se retira venoclisis, se dan indicaciones para la casa, se entrega cita de control con medico especialista, sale\npaciente del servicio de hospital dia en buenas condiciones generales caminando por sus propios medios acompañado por\nfamiliar.\n\nnota realizada por: adriana patricia romero beltran fecha: 30/04/21 08:30:00\n\n---------------------------------------------------------------------------\nformatos\nvariables\n\npaclerñe con neutroperta y trombocitopenia severa , no aplica\n\npaciente posqx durante las primera 24 horas no aplica\n\ncaidas previas si  noo\n\nedad menar de 700 mayor de 70\n\nuso de medicamentos ninguno 0. tranquiizamtes/sedantes diureticos — hipotensores (no diyraticos) artiparkinsonianos\n\nantidepresivos — otros medicamentost\n\ndeficit sensorial ninguno o añeraciones visuales (uso de lentes problemas de vista]\n\nalteraciones audiwas (vertigo uso de audifonos problemas de escucha)\n\nextremidades (dificultad pera caminar, uso de aparatos onopedicos)\n\nestado mental orientado 0. contuzo\n\ndeambulacion normal o segura con ayuda insegura con ayuda — nodeambula\n\npuntaje obtenido 2.0000\n\ninterpretacion del puntaje\n\n40 mas : alto riesgo\n\n2 a 3: mediano riesgo\n\nda 1: bajo riesgo\n\na ns -\nadriana patricia romero beltran\n\nreg. 13013667\nauxiliar de enfermeria\n\n75.0 *hosvital* usuario: 1045742977\n\f\n---------------------------------------------------------------------------\n"
     ]
    }
   ],
   "source": [
    "for parte in texto:\n",
    "    print(parte)\n",
    "    print('-'*75)"
   ]
  },
  {
   "cell_type": "code",
   "execution_count": 42,
   "metadata": {},
   "outputs": [],
   "source": [
    "import json \n",
    "file = open(\"dic_1.json\",)\n",
    "dic = json.load(file)"
   ]
  },
  {
   "cell_type": "code",
   "execution_count": 64,
   "metadata": {},
   "outputs": [
    {
     "output_type": "execute_result",
     "data": {
      "text/plain": [
       "{'reporte de patologia': '2018-01-01',\n",
       " 'con reporte de patologia': '2020-07-10',\n",
       " 'reporte de biopsia de prostata': '2019-12-10',\n",
       " 'reporte de patolgoai': '2016-07-06',\n",
       " 'protocolo biopsia': '2018-01-01',\n",
       " 'conreporte de patologia n°': '2020-10-02',\n",
       " 'con rporte de patologia': '2018-11-13',\n",
       " 'ap con resultado': '2018-11-02',\n",
       " 'dx de ca de cervix': '2021-03-03',\n",
       " 'cx estadificadora': '2012-11-30',\n",
       " 'reporte de biopsia': '2020-02-12',\n",
       " 'reporte de patologia nª': '2017-12-18',\n",
       " 'resultado de patologia': '2020-12-31',\n",
       " 'biopsia trucut con patologia': '2017-01-01',\n",
       " 'biopsia de mama derecha del dia': '2020-03-05',\n",
       " '3 años de evolucion': '2015-01-15',\n",
       " 'fechad e toma de muestra': '2020-10-15',\n",
       " 'dx de ca de prostata': '2015-01-01',\n",
       " 'biopsia de prostata': '2018-04-05',\n",
       " 'diagnosticado': '2004-12-01',\n",
       " 'antecedentes de cancer de prostata': '2018-01-01',\n",
       " 'biopsia de piel': '2021-01-01',\n",
       " 'trae rpeorte de patologia': '2021-02-17',\n",
       " 'trae reporte de patologia': '2019-06-25',\n",
       " 'x patologia': '2018-03-27',\n",
       " 'ap de patonorte': '2021-03-02',\n",
       " 'patologia del': '2020-10-09',\n",
       " 'ca de cervix 2004': '2004-01-01',\n",
       " 'reporte de patologia n°': '2019-02-25',\n",
       " 'patologioa': '2021-04-11',\n",
       " 'con datos de patologia': '2018-01-01',\n",
       " 'cx en': '2020-07-15',\n",
       " 'informe de patologia': '2016-02-17',\n",
       " 'hallazgo quirurgico': '2017-05-30',\n",
       " 'patologia de biopsia': '2018-10-16',\n",
       " 'cuadro clinico de 4 meses': '2020-10-15',\n",
       " 'ca de mama derecho hace 13 años': '2006-01-01',\n",
       " 'dx en 2009': '2009-01-01',\n",
       " 'antecedente de ca de prostata': '2018-01-01',\n",
       " 'tratado en 2013': '2013-01-01',\n",
       " 'biopsia hepatica del dia': '2018-06-06',\n",
       " 'fecha de reporte': '2021-02-16',\n",
       " 'patologia quirurgica': '2020-09-04',\n",
       " 'con reporte de patologia de reseccion tumoral previa': '2018-10-22',\n",
       " 'con resultados de biopsia de prostata': '2020-09-04',\n",
       " 'con reporte de biopsia de prostata protocolo': '2020-09-09',\n",
       " 'reporte d epatologia protocolo n°': '2019-03-02',\n",
       " 'patologia informe': '2020-11-12',\n",
       " 'estudios histopatologico': '2015-11-05',\n",
       " 'biopsia puncion en': '2016-06-30',\n",
       " 'estudio ap': '2015-09-09',\n",
       " 'informe patologia': '2017-01-19',\n",
       " 'finaliza el tratamiento en 2011': '2011-01-01',\n",
       " 'le fue realizad biopsa de prostata con inmunohistoquimica': '2018-05-23',\n",
       " 'cancer cervical hace 9.5 años': '2011-01-01',\n",
       " 'mieloma dg en ': '2016-03-15',\n",
       " 'cx radical': '2013-06-09',\n",
       " 'el reporta de la biopsia': '2020-12-10',\n",
       " 'ca de colon con dx ': '2014-01-01',\n",
       " '-patologia': '2016-08-23',\n",
       " 'ca renal operado en el 2014': '2014-01-01',\n",
       " 'dx de ca de mama derecha': '2006-04-19',\n",
       " 'dx ca mama': '2018-11-15',\n",
       " 'biopsia de mama': '2018-05-11',\n",
       " 'biopsia cervical patologia': '2020-01-31',\n",
       " 'biopsia de ganglio linfatico': '2020-01-30',\n",
       " 'en 2009 cancer endodmetrial': '2009-01-01',\n",
       " 'con ap': '2012-02-14',\n",
       " 'estudio de diagnostico citometria flujo medula osea fecha 8junio2016': '2016-06-08',\n",
       " 'biopsia trucut': '2020-08-15',\n",
       " 'patologia protocolo n°': '2018-06-26',\n",
       " 'biopsiia de ganglio liinfatico': '2019-01-12',\n",
       " 'biopsia por aguja trucut': '2020-09-04',\n",
       " 'dx: lla preb dxco septiembre/17': '2017-09-15',\n",
       " 'paciente con dx en 2016': '2016-01-15',\n",
       " 'ca de mama izquierda eiia': '2011-01-01',\n",
       " 'biomolecular': '2018-10-02',\n",
       " 'paciente antecedente de del 2015': '2015-01-15',\n",
       " 'reprote de patologia.': '2019-08-01',\n",
       " 'diagnosticado en': '2013-01-01',\n",
       " 'inmunohistoquimic': '2021-02-02',\n",
       " 'informe': '2018-12-15',\n",
       " 'fecha de diagnostico': '2016-12-12',\n",
       " 'biomolecular.': '2020-02-20',\n",
       " 'reporte patologia': '2019-07-12',\n",
       " 'dx de carcinoma basocelular': '2018-01-01',\n",
       " 'hemicolectomia izquierda via abierta': '2018-08-09',\n",
       " 'somrtida reseccion cerebral': '2020-09-22',\n",
       " 'patologia de': '2019-08-17',\n",
       " 'bx prostata': '2020-01-10',\n",
       " 'en vigilancia de hace 12 años': '2004-01-01',\n",
       " 'leucemia mielode cronica desde el 2006': '2006-01-01',\n",
       " 'patologia n° pat-01362-19': '2019-01-01',\n",
       " 'patologia bio-molecular del': '2020-07-13',\n",
       " 'biopsia de mama derechha del dia': '2020-02-18',\n",
       " '´protocolo # s6-6647-19': '2019-06-06',\n",
       " 'trae patologia': '2019-09-02',\n",
       " 'sometida a reseccion de tumor (14 de sept,15': '2013-09-29',\n",
       " 'con reporte de patologia n°': '2019-08-01',\n",
       " 'dx 2014,': '2014-01-15',\n",
       " 'reseccion de tumor maligno del mediastino': '2018-02-17',\n",
       " 'con patologia del': '2020-09-07',\n",
       " 'fecha de informe': '2020-07-25',\n",
       " 'inmunohistoquimica la cual solo se la realizan el 24 de enero del 2019': '2019-01-24',\n",
       " 'hace 6 años cancer de ovario,': '2019-01-01',\n",
       " 'tiroidectomia total del': '2020-12-26',\n",
       " 'diagnosticos de leucemia mieloide cronica': '2017-05-12',\n",
       " 'fecha de diagnostico enero 16 / 2019': '2019-01-16',\n",
       " 'biopsia mama izquierda protocolo': '2021-01-27',\n",
       " 'reporte de patologia de fecha feb/19/2016': '2016-02-19',\n",
       " 'patologia raul garcia del': '2020-10-03',\n",
       " 'diagnosticado en el': '2016-01-01',\n",
       " 'hace 2 años': '2014-01-01',\n",
       " 'biopsia con reporte de biomolecular n°': '2020-03-11',\n",
       " 'dx': '2009-11-15',\n",
       " 'reporte de patologia : no 032367': '2017-08-25',\n",
       " 'con reporte de patologia 18b-0994 15-08-2018': '2018-08-15',\n",
       " 'mrm': '2017-05-11',\n",
       " 'cancer de ovario cx radical + qt, finaliza en sep-19, venezuela': '2019-01-01',\n",
       " 'finalizando en enero': '2013-01-01',\n",
       " 'trae reporte inmunohistoquimica de biopsia de pleura 12943 2 de noviembre 2019': '2019-11-17',\n",
       " 'el 15-4-20 se realiza cx por tumor de ovario': '2020-04-30',\n",
       " 'hace 3 años fue diagnosticada': '2015-01-01',\n",
       " 'biopsia puncion de masa en mama izquierda informe': '2018-05-20',\n",
       " 'tiroidectomia total': '2020-11-28',\n",
       " 'patologia del 13/7/2020': '2020-07-13',\n",
       " 'inmunohistoquimica': '2020-04-16',\n",
       " 'estudios de coloracion': '2021-02-11',\n",
       " 'patologia numero': '2018-03-24',\n",
       " 'realizan biopsia la cual en tiene reporte de inmunohistoquimica protocolo: ihq2000085 del 18/04/2020': '2020-04-18',\n",
       " 'paciente diagnosticado desde el año': '2014-01-01',\n",
       " 'biopsia del': '2018-12-21',\n",
       " 'cancer de mama derecha': '2012-09-17',\n",
       " 'biopsia de vejiga': '2019-03-05',\n",
       " 'con reporte de patologia n° e302610227/10/20': '2020-10-27',\n",
       " 'reportede patologia': '2008-04-15',\n",
       " 'reseccion de tumor maligno de piel o tejido celular subcutaneo': '2019-07-14',\n",
       " 'biopsia de mama izquierda': '2019-11-09',\n",
       " '8 años de evolucion': '2012-01-15',\n",
       " 'neoplasia de seno derecho hace mas de 12 años': '2003-01-15',\n",
       " 'biopsia de mama izquierda del dia 25/01/2021,': '2021-02-11',\n",
       " 'fuera de tratamiento': '2014-01-01',\n",
       " 'con biopsia trucut': '2019-02-26',\n",
       " 'cancer de seno izdo eiiia 2013': '2014-01-01',\n",
       " 'dx ap': '2013-10-01',\n",
       " 'hace 10 años cancer de ovario': '2010-01-15',\n",
       " 'antecedente cancer de mama derecha': '2012-01-01',\n",
       " 'istmectomia': '2017-05-23',\n",
       " 'patologia n° 125.135 30/10/20': '2020-10-30',\n",
       " 'paciente con diagnostico leucemia mieloide cronica cromosoma filadelfia positivo desde': '2006-06-15',\n",
       " 'bx': '2016-06-22',\n",
       " 'reporte de patologia del': '2018-12-12',\n",
       " 'nefrectomia radical': '2019-11-04',\n",
       " 'masas en glandulas suprarrenales': '2020-01-15',\n",
       " 'dermatofibrosarcoma': '2012-01-01',\n",
       " 'padecio linfoma hodgkin esclerosis nodular hace': '2013-07-15',\n",
       " 'laparotomia el': '2018-06-20',\n",
       " 'de resultado de biopsia de colon: adenocaracinoma de colon bien difeenciado infiltrativo. dr raul garcia 20pq03640-1 de fecha': '2020-03-27',\n",
       " 'reporte de patologia 1247 2019': '2019-01-01',\n",
       " 'tto desde 2008': '2008-01-01',\n",
       " 'biopsia mas aspirado de medula': '2020-09-30',\n",
       " 'biopsia del 10/10/2018': '2018-10-25',\n",
       " 'biopsiada': '2019-01-01',\n",
       " 'mieloma multiple': '2015-01-01',\n",
       " 'infiltracion neoplasica no 17b202 marzo año 2017': '2017-03-15',\n",
       " 'vaciamiento ganglionar (negativo para mts)': '2013-03-30',\n",
       " 'control ca de tiroides': '2017-02-07',\n",
       " 'reseccion de lesion maligna en seno maxilar': '2019-10-12',\n",
       " 'hicieron biopisa.  dra fabiola donado caos numero 3533-20 fecha de recibido materal: 20/5/2020, fecha de salida': '2020-05-27',\n",
       " 'biopsia de mama bilateral': '2020-02-28',\n",
       " 'reporte de patologia de biopsia de prostata del 2011': '2017-01-01',\n",
       " 'patologia 121.02.2017 del 16 de feb. 2017': '2017-02-16',\n",
       " 'indicacion biopsia trucut': '2020-09-20',\n",
       " 'con biopsia de prostata: informe n° adenocarcinoma de prostata grado i gleason 3+3 que afecta menos del 5% del vol. tisular (n° in 362-19 dr herberg eastman)': '2019-01-01',\n",
       " 'reporte de biopsia del': '2018-03-08',\n",
       " 'smetida a cx ': '2015-01-01',\n",
       " 'orquiectomia hace 10 años.': '2009-01-15',\n",
       " 'carcinoma ductal': '2011-11-12',\n",
       " 'cancer de mama derecho 18 años de evolucion.': '2002-01-01',\n",
       " 'operado por ca de prostata': '2013-01-01',\n",
       " 'caso': '2012-07-21',\n",
       " 'cancer de prostata de 10 años': '2007-01-01',\n",
       " 'ca de mama': '2015-01-15',\n",
       " 'trae informe de patologia numero': '2018-07-14',\n",
       " 'arcinomas separados de carcinoma basocelular. dra redondo.  br 264/2019.29/1/2019.': '2019-01-29',\n",
       " 'se le practico prostatectomia': '2016-09-12',\n",
       " 'biopsia de ganglio centinela ( 18 enero 2016': '2016-12-01',\n",
       " 'glosorrafia': '2019-07-28',\n",
       " 'tiene leucemia mieloide cronica desde hace 2 años': '2015-01-01',\n",
       " 'masa en cervix': '2020-01-15',\n",
       " 'sometido a prostatectomia abierta': '2019-07-26',\n",
       " 'leucemia desde dic.17': '2017-12-15',\n",
       " 'paciente con diagnostico de leucemia mieloide cronica': '2017-11-15',\n",
       " 'hace 21 años cancer de ovario': '1999-01-01',\n",
       " 'dx 2017': '2017-01-01',\n",
       " 'ca de mama izquierda en septiembre de 2016': '2019-09-15',\n",
       " 'cx hace 10 años': '2009-01-15',\n",
       " 'seguimiento por hematologia desde el año 2015': '2015-01-01',\n",
       " '26/10/2018 con reporte de patologia': '2018-10-26',\n",
       " 'dx en': '2007-06-15',\n",
       " 'ca de cuerda de vocal': '2014-10-27',\n",
       " 'pop mrmi+vac': '2015-07-07',\n",
       " 'biopsia mama derecha informe b 3860-15': '20185-01-01',\n",
       " 'nodulo tiroideo ': '2020-01-01',\n",
       " 'informe de poatologia #01665-17 dr jesus perez del': '2017-02-28',\n",
       " 'biopsia de mama izquierda el dia 12/12/18': '2018-12-27',\n",
       " 'carcinoma de seno': '2013-01-01',\n",
       " 'cirugia de cuadrantectomia': '2015-08-03',\n",
       " 'leucemia mieloide cronica filadelfia positivo desde 2009': '2009-01-01',\n",
       " 'se toma biopsia': '2018-11-15',\n",
       " 'o carcinoma ductal no especial': '2016-11-16',\n",
       " 'la paciente presenta leucemia desde el año 2011': '2011-01-01',\n",
       " 'cancer de cervix': '2013-01-15',\n",
       " 'ca de mama infiltrativo tipo no especial': '2020-01-01',\n",
       " 'bocio tiroideo': '2020-01-15',\n",
       " 'biopsia la ecografia mamaria de oct del 2018': '2018-10-15',\n",
       " 'reporte': '2020-08-11',\n",
       " 'ha sido tratada desde hace 5 años': '2015-01-01',\n",
       " 'bx de mama derecha con patologia: 037-148': '2018-01-01',\n",
       " 'leucemia mieloide cronica en fase cronica dx. 2018': '2018-01-01',\n",
       " 'ap de patonorte del': '2019-07-04',\n",
       " 'consulta hoy con reporte de biopsia trucut con reporte': '2017-01-25',\n",
       " 'lla cd10+ desde ': '2015-08-15',\n",
       " 'desde hace': None}"
      ]
     },
     "metadata": {},
     "execution_count": 64
    }
   ],
   "source": [
    "lista_eliminar = ['patologia', 'enfermedad actual','de patologia','fecha','biopsia','patologia.','cancer de vejiga','desde abril 2009 ','-mamografia bilateral','na','hace , 10 años','cuadrantectomia','ap','cancer cervical hace 13 años','desde hace , mas de 5 años','linfoma']\n",
    "[dic['18'].pop(key,None) for key in lista_eliminar]\n",
    "\n",
    "lista_agregar = ['desde hace']\n",
    "[dic['18'].update({key:None}) for key in lista_agregar]\n",
    "dic['18']"
   ]
  },
  {
   "cell_type": "code",
   "execution_count": 44,
   "metadata": {},
   "outputs": [
    {
     "output_type": "execute_result",
     "data": {
      "text/plain": [
       "[None, None, None, None, None, None]"
      ]
     },
     "metadata": {},
     "execution_count": 44
    }
   ],
   "source": [
    "lista_eliminar = ['ecografia','ecografia mamaria','n','colonoscopipa total bajo sedacion','eco tv','ecografia mamaria bilateral','mamografia bilateral','bacaf de tiroides','mamografia','mamograsfia con reporte','na','fecha','ecografia maamria con reporte de','se realiza una ecografia maamria bilateral','ecogarfia mamaria','ecografi abodminal','hematopecia dese']\n",
    "[dic['19'].pop(key,None) for key in lista_eliminar]\n",
    "\n",
    "lista_agregar = ['remitido el','trasladado el','mamograsfia con reporte','ecografia mamaria con reporte de','hematopecia desde','se realiza una ecografia mamaria bilateral']\n",
    "[dic['19'].update({key:None}) for key in lista_agregar]"
   ]
  },
  {
   "cell_type": "code",
   "execution_count": 45,
   "metadata": {},
   "outputs": [
    {
     "output_type": "execute_result",
     "data": {
      "text/plain": [
       "[None, None, None, None, None, None]"
      ]
     },
     "metadata": {},
     "execution_count": 45
    }
   ],
   "source": [
    "lista_eliminar = ['ecografia','ecografia mamaria','n','colonoscopipa total bajo sedacion','eco tv','ecografia mamaria bilateral','mamografia bilateral','bacaf de tiroides','mamografia','mamograsfia con reporte','na','fecha','ecografia maamria con reporte de','se realiza una ecografia maamria bilateral','ecogarfia mamaria','ecografi abodminal','hematopecia dese','n','biopsia','biopsia de mama','istmectomia','biopsia de mama izquierda','biopsia de mama bilateral']\n",
    "[dic['20'].pop(key,None) for key in lista_eliminar]\n",
    "\n",
    "lista_agregar = ['remitido el','trasladado el','mamograsfia con reporte','ecografia mamaria con reporte de','hematopecia desde','se realiza una ecografia mamaria bilateral']\n",
    "[dic['20'].update({key:None}) for key in lista_agregar]"
   ]
  },
  {
   "cell_type": "code",
   "execution_count": 46,
   "metadata": {},
   "outputs": [],
   "source": [
    "lista_eliminar = ['na','n','ap','linfoma ','linfoma no hodgkin','linfoma no hodgkin','linfoma']\n",
    "[dic['21'].pop(key,None) for key in lista_eliminar]\n",
    "\n",
    "lista_agregar = []\n",
    "[dic['21'].update({key:None}) for key in lista_agregar]\n",
    "\n",
    "agregar  = {\n",
    "    \"Inmunohistoquímica\":'5',\n",
    "    \"Citometría de flujo\":'6',\n",
    "    \"Clínica exclusivamente\":'7',\n",
    "    \"Otro\":'8',\n",
    "    \"Genética\":'9',\n",
    "    \"Patología básica\":'10',\n",
    "    \"Desconocido\":'99',\n",
    "    \"Persona con aseguramiento\":'55'\n",
    "}\n",
    "\n",
    "dic['21'].update(agregar)"
   ]
  },
  {
   "cell_type": "code",
   "execution_count": 47,
   "metadata": {},
   "outputs": [],
   "source": [
    "# 22 variable predeterminada"
   ]
  },
  {
   "cell_type": "code",
   "execution_count": 48,
   "metadata": {},
   "outputs": [
    {
     "output_type": "execute_result",
     "data": {
      "text/plain": [
       "[None, None, None]"
      ]
     },
     "metadata": {},
     "execution_count": 48
    }
   ],
   "source": [
    "lista_eliminar = ['na','n','ap','linfoma ','el reporte biopsia de mama derecha','fecha','biopsia','patologia','patologia','cirugia']\n",
    "[dic['23'].pop(key,None) for key in lista_eliminar]\n",
    "\n",
    "lista_agregar = ['el reporte biopsia', 'dx en','años de evolucion']\n",
    "[dic['23'].update({key:None}) for key in lista_agregar]"
   ]
  },
  {
   "cell_type": "code",
   "execution_count": null,
   "metadata": {},
   "outputs": [],
   "source": []
  },
  {
   "cell_type": "code",
   "execution_count": 49,
   "metadata": {},
   "outputs": [
    {
     "output_type": "execute_result",
     "data": {
      "text/plain": [
       "[None, None, None]"
      ]
     },
     "metadata": {},
     "execution_count": 49
    }
   ],
   "source": [
    "lista_eliminar = ['na','n','ap','linfoma ','el reporte biopsia de mama derecha','fecha','biopsia','patologia','patologia','cirugia','carcinoma','carcinoma ','ca de mama','tumor']\n",
    "[dic['27'].pop(key,None) for key in lista_eliminar]\n",
    "\n",
    "lista_agregar = ['el reporte biopsia', 'dx en','años de evolucion']\n",
    "[dic['27'].update({key:None}) for key in lista_agregar]"
   ]
  },
  {
   "cell_type": "code",
   "execution_count": 50,
   "metadata": {},
   "outputs": [
    {
     "output_type": "stream",
     "name": "stdout",
     "text": [
      "fecha\nfecha 16/02/2021\nfecha 24/03/2021 \nfecha 02/03/2021\nfecha 01/03/2021\nfecha 23/04/2021\nfecha 29/04/2021\nfecha 29/04/2021 \nfecha 09/03/2021\nfecha 25/01/2021\nfecha 17/12/2020\nfecha 27/10/2020\nfecha 13/08/2020\nfecha 15/01/2020\nfecha 20/10/2020\nfecha 30/10/2020\nfecha 25/11/2020\nfecha 23/09/2020\nfecha 05/11/2020\nfecha 09/09/2020\nfecha 01/10/2020\nfecha 27/07/2020\n"
     ]
    },
    {
     "output_type": "execute_result",
     "data": {
      "text/plain": [
       "['2020-12-16',\n",
       " '2021-02-16',\n",
       " '2021-03-24',\n",
       " '2021-03-02',\n",
       " '2021-03-01',\n",
       " '2021-04-23',\n",
       " '2021-04-29',\n",
       " '2021-04-29',\n",
       " '2021-03-09',\n",
       " '2021-01-25',\n",
       " '2020-12-17',\n",
       " '2020-10-27',\n",
       " '2020-08-13',\n",
       " '2020-01-15',\n",
       " '2020-10-20',\n",
       " '2020-10-30',\n",
       " '2020-11-25',\n",
       " '2020-09-23',\n",
       " '2020-11-05',\n",
       " '2020-09-09',\n",
       " '2020-10-01',\n",
       " '2020-07-27',\n",
       " '1845-01-01']"
      ]
     },
     "metadata": {},
     "execution_count": 50
    }
   ],
   "source": [
    "lista_eliminar = []\n",
    "for llave in dic['30'].keys():\n",
    "    if 'fecha' in llave:\n",
    "        print(llave)\n",
    "        lista_eliminar.append(llave)\n",
    "lista_eliminar.append('na')\n",
    "[dic['30'].pop(key,None) for key in lista_eliminar]\n"
   ]
  },
  {
   "cell_type": "code",
   "execution_count": 51,
   "metadata": {},
   "outputs": [
    {
     "output_type": "execute_result",
     "data": {
      "text/plain": [
       "[None, None, None]"
      ]
     },
     "metadata": {},
     "execution_count": 51
    }
   ],
   "source": [
    "lista_eliminar = ['na','n','ap','eii','estadio iii']\n",
    "[dic['34'].pop(key,None) for key in lista_eliminar]\n",
    "\n",
    "lista_agregar = ['cancer de colon', 'ca colon','ca de colon']\n",
    "[dic['34'].update({key:None}) for key in lista_agregar]"
   ]
  },
  {
   "cell_type": "code",
   "execution_count": 52,
   "metadata": {},
   "outputs": [],
   "source": [
    "lista_eliminar = ['na','n',]\n",
    "[dic['36'].pop(key,None) for key in lista_eliminar]\n",
    "\n",
    "t_36 = {\n",
    "    \" Estadio I\":1,\n",
    "    \" Estadio II\":2,\n",
    "    \" Estadio III\":3,\n",
    "    \" Estadio IV\":4,\n",
    "    \" Estadio IA\":5,\n",
    "    \" Estadio IB\":6,\n",
    "    \" Estadio IIA\":7,\n",
    "    \" Estadio IIB\":8,\n",
    "    \" Estadio IIIA\":9,\n",
    "    \" Estadio IIIB\":10,\n",
    "    \" Estadio IVA\":11,\n",
    "    \" Estadio IVB\":12,\n",
    "    \" Extranodal cualquier estadio\":13,\n",
    "    \" Primario SNC\":14,\n",
    "    \" Primario Mediastinal\":15,\n",
    "    \" Primario de otros órganos\":16,\n",
    "    \"Persona con aseguramiento\":55,\n",
    "    \"No Aplica, cancer diferente\":98,\n",
    "    \"Desconocido\":99\n",
    "}\n",
    "\n",
    "\n",
    "dic['36'].update(t_36)"
   ]
  },
  {
   "cell_type": "code",
   "execution_count": 53,
   "metadata": {},
   "outputs": [
    {
     "output_type": "execute_result",
     "data": {
      "text/plain": [
       "[None, None, None, None]"
      ]
     },
     "metadata": {},
     "execution_count": 53
    }
   ],
   "source": [
    "lista_eliminar = ['na','0']\n",
    "[dic['45'].pop(key,None) for key in lista_eliminar]\n",
    "\n",
    "lista_agregar = ['vengo a protocolo de quimioterapia','viene a protocolo de quimioterapia','para inicio de protocolo de quimioterapia','ingresa a quimioterapia']\n",
    "[dic['45'].update({key:None}) for key in lista_agregar]\n",
    "\n"
   ]
  },
  {
   "cell_type": "code",
   "execution_count": 62,
   "metadata": {},
   "outputs": [
    {
     "output_type": "execute_result",
     "data": {
      "text/plain": [
       "{'muerto': '2',\n",
       " 'muerte': '2',\n",
       " 'fallecio': '2',\n",
       " 'fallecimiento': '2',\n",
       " 'fallecido': '2',\n",
       " 'pcte fallecio': '2',\n",
       " 'se declara muerte clinica': '2',\n",
       " 'paciente fallecido': '2',\n",
       " 'se declara fallecido': '2',\n",
       " 'se entrega acta de defuncion': '2',\n",
       " 'se declara paciente fallecida': '2',\n",
       " 'fallecida': '2',\n",
       " 'muerta': '2',\n",
       " 'declara fallecido': '2',\n",
       " 'declara fallecida': '2'}"
      ]
     },
     "metadata": {},
     "execution_count": 62
    }
   ],
   "source": [
    "\n",
    "\n",
    "dic['159']"
   ]
  },
  {
   "cell_type": "code",
   "execution_count": 74,
   "metadata": {},
   "outputs": [
    {
     "output_type": "stream",
     "name": "stdout",
     "text": [
      "False\nFalse\nTrue\n"
     ]
    }
   ],
   "source": [
    "print('1845-01-01'.isalnum())\n",
    "print('1845-01-01'.isnumeric())\n",
    "print('y hora de'.replace(' ','').isalpha())"
   ]
  },
  {
   "cell_type": "code",
   "execution_count": null,
   "metadata": {},
   "outputs": [],
   "source": []
  }
 ]
}