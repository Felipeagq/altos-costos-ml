{
 "metadata": {
  "language_info": {
   "codemirror_mode": {
    "name": "ipython",
    "version": 3
   },
   "file_extension": ".py",
   "mimetype": "text/x-python",
   "name": "python",
   "nbconvert_exporter": "python",
   "pygments_lexer": "ipython3",
   "version": "3.8.5"
  },
  "orig_nbformat": 2,
  "kernelspec": {
   "name": "python3",
   "display_name": "Python 3",
   "language": "python"
  }
 },
 "nbformat": 4,
 "nbformat_minor": 2,
 "cells": [
  {
   "cell_type": "code",
   "execution_count": 2,
   "metadata": {},
   "outputs": [],
   "source": [
    "import numpy as np\n",
    "import pandas as pd\n",
    "import json\n",
    "import re\n",
    "pd.set_option('display.max_rows', 500) # para visualizar todo el DataFrame\n",
    "pd.set_option('display.max_colwidth',1000)\n",
    "\n",
    "\n"
   ]
  },
  {
   "cell_type": "code",
   "execution_count": 3,
   "metadata": {},
   "outputs": [],
   "source": [
    "file = open(\"dic_1.json\",)\n",
    "dic = json.load(file)"
   ]
  },
  {
   "cell_type": "code",
   "execution_count": 9,
   "metadata": {},
   "outputs": [
    {
     "output_type": "execute_result",
     "data": {
      "text/plain": [
       "[None]"
      ]
     },
     "metadata": {},
     "execution_count": 9
    }
   ],
   "source": [
    "###################\n",
    "### VARIABLE 18 ###\n",
    "###################\n",
    "lista_eliminar = ['patologia', 'enfermedad actual','de patologia','fecha','biopsia','patologia.','cancer de vejiga','desde abril 2009 ','-mamografia bilateral','na','hace , 10 años','cuadrantectomia','ap','cancer cervical hace 13 años','desde hace , mas de 5 años','linfoma','inmunohistoquimic','inmunohistoquimica']\n",
    "[dic['18'].pop(key,None) for key in lista_eliminar]\n",
    "lista_agregar = ['desde hace']\n",
    "[dic['18'].update({key:None}) for key in lista_agregar]\n",
    "def _18(folios,dic):\n",
    "    for folio in range(len(folios)):\n",
    "        for llave in dic['18'].keys():\n",
    "            if llave in folios[folio]:\n",
    "                n = folios[folio].find(llave)\n",
    "                print(llave,folio)\n",
    "                print(folios[folio][n-20:n+50])\n",
    "                print(' ')\n",
    "            else:\n",
    "                variable = None\n",
    "        #print('Ninguna coincidencia encontrada')\n",
    "    if variable:\n",
    "        return variable\n",
    "    variable = \"1800-01-01\"\n",
    "    return variable\n",
    "__18 = _18(folios,dic)\n",
    "print(f'==> 18 {__18}')\n"
   ]
  },
  {
   "cell_type": "code",
   "execution_count": 44,
   "metadata": {},
   "outputs": [
    {
     "output_type": "execute_result",
     "data": {
      "text/plain": [
       "[None, None, None, None, None, None]"
      ]
     },
     "metadata": {},
     "execution_count": 44
    }
   ],
   "source": [
    "lista_eliminar = ['ecografia','ecografia mamaria','n','colonoscopipa total bajo sedacion','eco tv','ecografia mamaria bilateral','mamografia bilateral','bacaf de tiroides','mamografia','mamograsfia con reporte','na','fecha','ecografia maamria con reporte de','se realiza una ecografia maamria bilateral','ecogarfia mamaria','ecografi abodminal','hematopecia dese']\n",
    "[dic['19'].pop(key,None) for key in lista_eliminar]\n",
    "\n",
    "lista_agregar = ['remitido el','trasladado el','mamograsfia con reporte','ecografia mamaria con reporte de','hematopecia desde','se realiza una ecografia mamaria bilateral']\n",
    "[dic['19'].update({key:None}) for key in lista_agregar]"
   ]
  },
  {
   "cell_type": "code",
   "execution_count": 12,
   "metadata": {},
   "outputs": [
    {
     "output_type": "error",
     "ename": "NameError",
     "evalue": "name 'folios' is not defined",
     "traceback": [
      "\u001b[0;31m---------------------------------------------------------------------------\u001b[0m",
      "\u001b[0;31mNameError\u001b[0m                                 Traceback (most recent call last)",
      "\u001b[0;32m<ipython-input-12-1340da6f1470>\u001b[0m in \u001b[0;36m<module>\u001b[0;34m\u001b[0m\n\u001b[1;32m      5\u001b[0m \u001b[0;34m[\u001b[0m\u001b[0mdic\u001b[0m\u001b[0;34m[\u001b[0m\u001b[0;34m'20'\u001b[0m\u001b[0;34m]\u001b[0m\u001b[0;34m.\u001b[0m\u001b[0mupdate\u001b[0m\u001b[0;34m(\u001b[0m\u001b[0;34m{\u001b[0m\u001b[0mkey\u001b[0m\u001b[0;34m:\u001b[0m\u001b[0;32mNone\u001b[0m\u001b[0;34m}\u001b[0m\u001b[0;34m)\u001b[0m \u001b[0;32mfor\u001b[0m \u001b[0mkey\u001b[0m \u001b[0;32min\u001b[0m \u001b[0mlista_agregar\u001b[0m\u001b[0;34m]\u001b[0m\u001b[0;34m\u001b[0m\u001b[0;34m\u001b[0m\u001b[0m\n\u001b[1;32m      6\u001b[0m \u001b[0;34m\u001b[0m\u001b[0m\n\u001b[0;32m----> 7\u001b[0;31m \u001b[0;32mfor\u001b[0m \u001b[0mfolio\u001b[0m \u001b[0;32min\u001b[0m \u001b[0mfolios\u001b[0m\u001b[0;34m:\u001b[0m\u001b[0;34m\u001b[0m\u001b[0;34m\u001b[0m\u001b[0m\n\u001b[0m\u001b[1;32m      8\u001b[0m     \u001b[0;32mfor\u001b[0m \u001b[0mllave\u001b[0m \u001b[0;32min\u001b[0m \u001b[0mdic\u001b[0m\u001b[0;34m[\u001b[0m\u001b[0;34m'20'\u001b[0m\u001b[0;34m]\u001b[0m\u001b[0;34m.\u001b[0m\u001b[0mkeys\u001b[0m\u001b[0;34m(\u001b[0m\u001b[0;34m)\u001b[0m\u001b[0;34m:\u001b[0m\u001b[0;34m\u001b[0m\u001b[0;34m\u001b[0m\u001b[0m\n\u001b[1;32m      9\u001b[0m         \u001b[0;32mif\u001b[0m \u001b[0mllave\u001b[0m \u001b[0;32min\u001b[0m \u001b[0mfolios\u001b[0m\u001b[0;34m:\u001b[0m\u001b[0;34m\u001b[0m\u001b[0;34m\u001b[0m\u001b[0m\n",
      "\u001b[0;31mNameError\u001b[0m: name 'folios' is not defined"
     ]
    }
   ],
   "source": [
    "lista_eliminar = ['ecografia','ecografia mamaria','n','colonoscopipa total bajo sedacion','eco tv','ecografia mamaria bilateral','mamografia bilateral','bacaf de tiroides','mamografia','mamograsfia con reporte','na','fecha','ecografia maamria con reporte de','se realiza una ecografia maamria bilateral','ecogarfia mamaria','ecografi abodminal','hematopecia dese','n','biopsia','biopsia de mama','istmectomia','biopsia de mama izquierda','biopsia de mama bilateral']\n",
    "[dic['20'].pop(key,None) for key in lista_eliminar]\n",
    "\n",
    "lista_agregar = ['remitido el','trasladado el','mamograsfia con reporte','ecografia mamaria con reporte de','hematopecia desde','se realiza una ecografia mamaria bilateral']\n",
    "[dic['20'].update({key:None}) for key in lista_agregar]\n",
    "\n",
    "for folio in folios:\n",
    "    for llave in dic['20'].keys():\n",
    "        if llave in folios: \n",
    "            print(llave)\n",
    "        else:\n",
    "            print('No Match')"
   ]
  },
  {
   "cell_type": "code",
   "execution_count": 14,
   "metadata": {},
   "outputs": [],
   "source": [
    "lista_eliminar = ['na','n','ap','linfoma ','linfoma no hodgkin','linfoma no hodgkin','linfoma']\n",
    "[dic['21'].pop(key,None) for key in lista_eliminar]\n",
    "\n",
    "lista_agregar = []\n",
    "[dic['21'].update({key:None}) for key in lista_agregar]\n",
    "\n",
    "agregar  = {\n",
    "    \"Inmunohistoquímica\":'5',\n",
    "    \"Citometría de flujo\":'6',\n",
    "    \"Clínica exclusivamente\":'7',\n",
    "    \"Otro\":'8',\n",
    "    \"Genética\":'9',\n",
    "    \"Patología básica\":'10',\n",
    "    \"Desconocido\":'99',\n",
    "    \"Persona con aseguramiento\":'55'\n",
    "}\n",
    "\n",
    "dic['21'].update(agregar)\n"
   ]
  },
  {
   "cell_type": "code",
   "execution_count": 47,
   "metadata": {},
   "outputs": [],
   "source": [
    "# 22 variable predeterminada"
   ]
  },
  {
   "cell_type": "code",
   "execution_count": 48,
   "metadata": {},
   "outputs": [
    {
     "output_type": "execute_result",
     "data": {
      "text/plain": [
       "[None, None, None]"
      ]
     },
     "metadata": {},
     "execution_count": 48
    }
   ],
   "source": [
    "lista_eliminar = ['na','n','ap','linfoma ','el reporte biopsia de mama derecha','fecha','biopsia','patologia','patologia','cirugia']\n",
    "[dic['23'].pop(key,None) for key in lista_eliminar]\n",
    "\n",
    "lista_agregar = ['el reporte biopsia', 'dx en','años de evolucion']\n",
    "[dic['23'].update({key:None}) for key in lista_agregar]"
   ]
  },
  {
   "cell_type": "code",
   "execution_count": null,
   "metadata": {},
   "outputs": [],
   "source": []
  },
  {
   "cell_type": "code",
   "execution_count": 49,
   "metadata": {},
   "outputs": [
    {
     "output_type": "execute_result",
     "data": {
      "text/plain": [
       "[None, None, None]"
      ]
     },
     "metadata": {},
     "execution_count": 49
    }
   ],
   "source": [
    "lista_eliminar = ['na','n','ap','linfoma ','el reporte biopsia de mama derecha','fecha','biopsia','patologia','patologia','cirugia','carcinoma','carcinoma ','ca de mama','tumor']\n",
    "[dic['27'].pop(key,None) for key in lista_eliminar]\n",
    "\n",
    "lista_agregar = ['el reporte biopsia', 'dx en','años de evolucion']\n",
    "[dic['27'].update({key:None}) for key in lista_agregar]"
   ]
  },
  {
   "cell_type": "code",
   "execution_count": 50,
   "metadata": {},
   "outputs": [
    {
     "output_type": "stream",
     "name": "stdout",
     "text": [
      "fecha\n",
      "fecha 16/02/2021\n",
      "fecha 24/03/2021 \n",
      "fecha 02/03/2021\n",
      "fecha 01/03/2021\n",
      "fecha 23/04/2021\n",
      "fecha 29/04/2021\n",
      "fecha 29/04/2021 \n",
      "fecha 09/03/2021\n",
      "fecha 25/01/2021\n",
      "fecha 17/12/2020\n",
      "fecha 27/10/2020\n",
      "fecha 13/08/2020\n",
      "fecha 15/01/2020\n",
      "fecha 20/10/2020\n",
      "fecha 30/10/2020\n",
      "fecha 25/11/2020\n",
      "fecha 23/09/2020\n",
      "fecha 05/11/2020\n",
      "fecha 09/09/2020\n",
      "fecha 01/10/2020\n",
      "fecha 27/07/2020\n"
     ]
    },
    {
     "output_type": "execute_result",
     "data": {
      "text/plain": [
       "['2020-12-16',\n",
       " '2021-02-16',\n",
       " '2021-03-24',\n",
       " '2021-03-02',\n",
       " '2021-03-01',\n",
       " '2021-04-23',\n",
       " '2021-04-29',\n",
       " '2021-04-29',\n",
       " '2021-03-09',\n",
       " '2021-01-25',\n",
       " '2020-12-17',\n",
       " '2020-10-27',\n",
       " '2020-08-13',\n",
       " '2020-01-15',\n",
       " '2020-10-20',\n",
       " '2020-10-30',\n",
       " '2020-11-25',\n",
       " '2020-09-23',\n",
       " '2020-11-05',\n",
       " '2020-09-09',\n",
       " '2020-10-01',\n",
       " '2020-07-27',\n",
       " '1845-01-01']"
      ]
     },
     "metadata": {},
     "execution_count": 50
    }
   ],
   "source": [
    "lista_eliminar = []\n",
    "for llave in dic['30'].keys():\n",
    "    if 'fecha' in llave:\n",
    "        print(llave)\n",
    "        lista_eliminar.append(llave)\n",
    "lista_eliminar.append('na')\n",
    "[dic['30'].pop(key,None) for key in lista_eliminar]\n"
   ]
  },
  {
   "cell_type": "code",
   "execution_count": 51,
   "metadata": {},
   "outputs": [
    {
     "output_type": "execute_result",
     "data": {
      "text/plain": [
       "[None, None, None]"
      ]
     },
     "metadata": {},
     "execution_count": 51
    }
   ],
   "source": [
    "lista_eliminar = ['na','n','ap','eii','estadio iii']\n",
    "[dic['34'].pop(key,None) for key in lista_eliminar]\n",
    "\n",
    "lista_agregar = ['cancer de colon', 'ca colon','ca de colon']\n",
    "[dic['34'].update({key:None}) for key in lista_agregar]"
   ]
  },
  {
   "cell_type": "code",
   "execution_count": 52,
   "metadata": {},
   "outputs": [],
   "source": [
    "lista_eliminar = ['na','n',]\n",
    "[dic['36'].pop(key,None) for key in lista_eliminar]\n",
    "\n",
    "t_36 = {\n",
    "    \" Estadio I\":1,\n",
    "    \" Estadio II\":2,\n",
    "    \" Estadio III\":3,\n",
    "    \" Estadio IV\":4,\n",
    "    \" Estadio IA\":5,\n",
    "    \" Estadio IB\":6,\n",
    "    \" Estadio IIA\":7,\n",
    "    \" Estadio IIB\":8,\n",
    "    \" Estadio IIIA\":9,\n",
    "    \" Estadio IIIB\":10,\n",
    "    \" Estadio IVA\":11,\n",
    "    \" Estadio IVB\":12,\n",
    "    \" Extranodal cualquier estadio\":13,\n",
    "    \" Primario SNC\":14,\n",
    "    \" Primario Mediastinal\":15,\n",
    "    \" Primario de otros órganos\":16,\n",
    "    \"Persona con aseguramiento\":55,\n",
    "    \"No Aplica, cancer diferente\":98,\n",
    "    \"Desconocido\":99\n",
    "}\n",
    "\n",
    "\n",
    "dic['36'].update(t_36)"
   ]
  },
  {
   "cell_type": "code",
   "execution_count": 53,
   "metadata": {},
   "outputs": [
    {
     "output_type": "execute_result",
     "data": {
      "text/plain": [
       "[None, None, None, None]"
      ]
     },
     "metadata": {},
     "execution_count": 53
    }
   ],
   "source": [
    "lista_eliminar = ['na','0']\n",
    "[dic['45'].pop(key,None) for key in lista_eliminar]\n",
    "\n",
    "lista_agregar = ['vengo a protocolo de quimioterapia','viene a protocolo de quimioterapia','para inicio de protocolo de quimioterapia','ingresa a quimioterapia']\n",
    "[dic['45'].update({key:None}) for key in lista_agregar]\n",
    "\n"
   ]
  },
  {
   "cell_type": "code",
   "execution_count": 54,
   "metadata": {},
   "outputs": [],
   "source": [
    "#dic['159']"
   ]
  },
  {
   "cell_type": "code",
   "execution_count": 55,
   "metadata": {},
   "outputs": [
    {
     "output_type": "execute_result",
     "data": {
      "text/plain": [
       "{'leucemia de celulas vellosas': '1845-01-01',\n",
       " 'glioma de alto grado de snc': '1845-01-01',\n",
       " 'leucemia linfoblastica aguda': '1845-01-01',\n",
       " 'enfermedad de hodgkin no especificada': '1845-01-01',\n",
       " 'leucemia': '1845-01-01',\n",
       " 'linfoma hodgkin no clasico tipo predominio linfocitico nodular': '1845-01-01',\n",
       " 'tumor maligno del cerebro excepto lobulos y ventriculost': '1845-01-01',\n",
       " 'leucemia mieloide cronica': '1845-01-01',\n",
       " 'tumor maligno del cerebro excepto lobulos y': '1845-01-01',\n",
       " 'leucemia mieloide aguda': '1845-01-01',\n",
       " 'tumor maligno del lobulo frontal': '1845-01-01',\n",
       " 'linfoma de hodgkin con predominio linfocitico nodular': '1845-01-01',\n",
       " 'carcinoma basocelular': '1845-01-01',\n",
       " 'mieloma multiple': '1845-01-01',\n",
       " 'macroglobulinemia de waldenstrom': '1845-01-01',\n",
       " 'leucemia linfocitica cronica': '1845-01-01'}"
      ]
     },
     "metadata": {},
     "execution_count": 55
    }
   ],
   "source": [
    "dic['30']"
   ]
  },
  {
   "cell_type": "code",
   "execution_count": 56,
   "metadata": {},
   "outputs": [
    {
     "output_type": "execute_result",
     "data": {
      "text/plain": [
       "[None, None, None, None]"
      ]
     },
     "metadata": {},
     "execution_count": 56
    }
   ],
   "source": [
    "lista_eliminar = ['na','0']\n",
    "[dic['31'].pop(key,None) for key in lista_eliminar]\n",
    "\n",
    "lista_agregar = ['vengo a protocolo de quimioterapia','viene a protocolo de quimioterapia','para inicio de protocolo de quimioterapia','ingresa a quimioterapia']\n",
    "[dic['31'].update({key:None}) for key in lista_agregar]\n",
    "\n"
   ]
  },
  {
   "cell_type": "code",
   "execution_count": 57,
   "metadata": {},
   "outputs": [
    {
     "output_type": "execute_result",
     "data": {
      "text/plain": [
       "[None, None, None, None, None, None, None, None, None, None, None]"
      ]
     },
     "metadata": {},
     "execution_count": 57
    }
   ],
   "source": [
    "from scipy import stats \n",
    "lista_eliminar = ['na','0','gleason','gleasson','score']\n",
    "[dic['37'].pop(key,None) for key in lista_eliminar]\n",
    "\n",
    "lista_agregar = [('gleason 3+5','14'),('gleason 5+3','14'),('gleason score 8','14'),('gleason grado 8','14'),('gleason 4+5','15'),('gleason 5+4','15'),('gleason 5+5','15'),('gleason grado 10','15'),('gleason score 10','15'),('gleason grado 9','15'),('gleason score 9','15')]\n",
    "[dic['37'].update({key:value}) for key,value in lista_agregar]"
   ]
  },
  {
   "cell_type": "code",
   "execution_count": 58,
   "metadata": {},
   "outputs": [
    {
     "output_type": "execute_result",
     "data": {
      "text/plain": [
       "{'estadio iii': '9',\n",
       " 'iib,': '8',\n",
       " 'estadio inicial iv b': '12',\n",
       " 'iv-b': '12',\n",
       " 'linfoma hodgkin clasico estadio ii': '2',\n",
       " 'linfoma b folicular iv-b inicial': '12',\n",
       " 'hodgkin de buen pronostico estadio temprano': '1',\n",
       " ' Estadio I': 1,\n",
       " ' Estadio II': 2,\n",
       " ' Estadio III': 3,\n",
       " ' Estadio IV': 4,\n",
       " ' Estadio IA': 5,\n",
       " ' Estadio IB': 6,\n",
       " ' Estadio IIA': 7,\n",
       " ' Estadio IIB': 8,\n",
       " ' Estadio IIIA': 9,\n",
       " ' Estadio IIIB': 10,\n",
       " ' Estadio IVA': 11,\n",
       " ' Estadio IVB': 12,\n",
       " ' Extranodal cualquier estadio': 13,\n",
       " ' Primario SNC': 14,\n",
       " ' Primario Mediastinal': 15,\n",
       " ' Primario de otros órganos': 16,\n",
       " 'Persona con aseguramiento': 55,\n",
       " 'No Aplica, cancer diferente': 98,\n",
       " 'Desconocido': 99}"
      ]
     },
     "metadata": {},
     "execution_count": 58
    }
   ],
   "source": [
    "dic['36']"
   ]
  },
  {
   "source": [
    "CÁNCER DE MAMA Y CÁNCER GÁSTRICO 15 0= estadio clínico (ec) 0 (tumor in situ) 2= ec IA o 1A 5= ec IB o 1b 11= ec IIA o 2a 14= ec IIB 17= ec IIIA o 3a 18= ec IIIB o 3b 19= ec IIIC o 3c 20= ec IV o 4 \n",
    "\n",
    "CANCER DE PRÓSTATA 7a Edición TNM 0= estadio clínico (ec) o (tumor in situ) \n",
    "1= ec I o 1 \n",
    "\n",
    "11= ec IIA o 2a \n",
    "14= ec IIB \n",
    "16= ec III o 3 \n",
    "20= ec IV o 4 8ª \n",
    "Edición TNM \n",
    "15= ec IIC o 2c \n",
    "17= ec IIIA o 3a \n",
    "18= ec IIIB o 3b \n",
    "19= ec IIIC o 3c \n",
    "21= ec IVA o 4a \n",
    "22= ec IVB o 4b \n",
    "\n",
    "CANCER DE PULMON 7a Edición TNM \n",
    "0= estadio clínico (ec) o (tumor in situ) \n",
    "2= ec IA o 1A \n",
    "5= ec IB o 1b \n",
    "11= ec IIA o 2a \n",
    "14= ec IIB \n",
    "17= ec IIIA o 3a \n",
    "18= ec IIIB o 3b \n",
    "20= ec IV o 4 8ª \n",
    "Edición TNM \n",
    "3= ec IA1 \n",
    "4= ec IA2 \n",
    "19= ec IIIC o 3c \n",
    "21= ec IVA o 4a \n",
    "22= ec IVB o 4b 16 \n",
    "26= Estadio IAB \n",
    "\n",
    "MELANOMA \n",
    "0= estadio clínico (ec) o (tumor in situ) \n",
    "2= ec IA o 1A \n",
    "5= ec IB o 1b \n",
    "11= ec IIA o 2a \n",
    "14= ec IIB \n",
    "15= ec IIC o 2c \n",
    "16= ec III o 3 \n",
    "17= ec IIIA o 3a \n",
    "18= ec IIIB o 3b \n",
    "19= ec IIIC o 3c \n",
    "20= ec IV o 4 \n",
    "29= ec IIID o 3d \n",
    "\n",
    "CÁNCER DE COLON Y RECTO \n",
    "0= estadio clínico (ec) o (tumor in situ) \n",
    "1= ec I o 1 \n",
    "11= ec IIA o 2a \n",
    "14= ec IIB \n",
    "15= ec IIC o 2c \n",
    "17= ec IIIA o 3a \n",
    "18= ec IIIB o 3b \n",
    "19= ec IIIC o 3c \n",
    "21= ec IVA o 4a \n",
    "22= ec IVB o 4b \n",
    "\n",
    "CÁNCER ANAL (Agrupador Colon y recto) \n",
    "0= estadio clínico (ec) o (tumor in situ) \n",
    "1= ec I o 1 \n",
    "10= ec II o 2 \n",
    "17= ec IIIA o 3a \n",
    "18= ec IIIB o 3b \n",
    "20= ec IV o 4 8ª \n",
    "Edición \n",
    "TNM 1= ec I o 1 \n",
    "11= ec IIA o 2a \n",
    "14= ec IIB o 2b \n",
    "17= ec IIIA o 3a \n",
    "18= ec IIIB o 3b \n",
    "19= ec IIIC o 3c \n",
    "20=ec IV o 4 17 \n",
    "\n",
    "CÁNCER DE CÉRVIX (FIGO) \n",
    "0= estadio clínico (ec) o (tumor in situ) \n",
    "1= ec I o 1 \n",
    "2= ec IA o 1A \n",
    "3= ec IA1 \n",
    "4= ec IA2 \n",
    "5= ec IB o 1b \n",
    "6= ec IB1 \n",
    "7= ec IB2 \n",
    "10= ec II o 2 \n",
    "11= ec IIA o 2a \n",
    "12= ec IIA1 \n",
    "13= ec IIA2 \n",
    "14= ec IIB \n",
    "16= ec III o 3 \n",
    "17= ec IIIA o 3a \n",
    "18= ec IIIB o 3b \n",
    "19= ec IIIC o 3c \n",
    "21= ec IVA o 4a \n",
    "22= ec IVB o 4b \n",
    "27= ec IIIC1 o 3c1 \n",
    "28= ec IIIC2 o 3c2 \n",
    "30= ec IB3 \n",
    "31= ec IC1 \n",
    "32= ec IC2 \n",
    "33= ec IC3 \n",
    "\n",
    "OTRAS OPCIONES 8= ec IC o 1c 9= ec IS o 1s 23= ec IVC o 4c 24= ec 4S (para neuroblastoma) 25= ec V o 5 55= Persona con aseguramiento (régimen subsidiado o contributivo y que no son PPNA) que recibió servicios de salud por parte del ente territorial durante el periodo de reporte. 98= No Aplica (Es cáncer de piel basocelular, es cáncer hematológico o es cáncer en SNC, excepto neuroblastoma). 99= Desconocido, el dato de esta variable no se encuentra descrito en los soportes clínicos."
   ],
   "cell_type": "markdown",
   "metadata": {}
  },
  {
   "cell_type": "code",
   "execution_count": null,
   "metadata": {},
   "outputs": [],
   "source": []
  },
  {
   "cell_type": "code",
   "execution_count": null,
   "metadata": {},
   "outputs": [],
   "source": [
    "lista_eliminar = ['na','0','trastuzumab','pendiente inmunohsitoquimica ','para inicio de protocolo de quimioterapia','viene a protocolo de quimioterapia','vengo a protocolo de quimioterapia','no trajo ihq','inmunohistoquimica pendiente ','receptores de estrogeno 10%, progesterona negativo, her 2 negativo','inmunohistoquimica pendiente','recetores de estrogenos positivos progestagenos negativos her 2 neu negativo','inmunohistoquimica 23-02-2017 re y rp 100% y her 2 +1','se solicita nuevamente el estudio de inmunohistoquimicapara el her 2','receptores de estrogenos y progesterona positivos, her 2 negativo','receptores hormonales + y her 2 negativo','ca de mama izq triple negativo','receptores hormonales positivos, her 2 negativo,','vengo a protocolo de quimioterapia','desde hace']\n",
    "[dic['33'].pop(key,None) for key in lista_eliminar]\n",
    "print('-')"
   ]
  },
  {
   "cell_type": "code",
   "execution_count": null,
   "metadata": {},
   "outputs": [],
   "source": []
  },
  {
   "cell_type": "code",
   "execution_count": 19,
   "metadata": {},
   "outputs": [
    {
     "output_type": "execute_result",
     "data": {
      "text/plain": [
       "{'na': '99',\n",
       " 'tumor maligno del endometrio': 'c541',\n",
       " 'ca de cervix': 'c531',\n",
       " 'cancer de utero': 'c55x',\n",
       " 'tumor maligno de la cabeza cara y cuello': 'c760',\n",
       " 'ca de utero': 'c541',\n",
       " 'tumor maligno del rinon excepto de la pelvis renal': 'c64x',\n",
       " 'tumor maligno de exocervix': 'c531',\n",
       " 'tumor maligno del ovario': 'c56x',\n",
       " 'linfoma': 'c851',\n",
       " 'tumor maligno del recto': 'c20x'}"
      ]
     },
     "metadata": {},
     "execution_count": 19
    }
   ],
   "source": [
    "dic['44']"
   ]
  },
  {
   "cell_type": "code",
   "execution_count": null,
   "metadata": {},
   "outputs": [],
   "source": []
  },
  {
   "cell_type": "code",
   "execution_count": 60,
   "metadata": {},
   "outputs": [],
   "source": [
    "here = []"
   ]
  },
  {
   "cell_type": "code",
   "execution_count": 61,
   "metadata": {},
   "outputs": [
    {
     "output_type": "execute_result",
     "data": {
      "text/plain": [
       "0"
      ]
     },
     "metadata": {},
     "execution_count": 61
    }
   ],
   "source": [
    "len(here)"
   ]
  },
  {
   "cell_type": "code",
   "execution_count": null,
   "metadata": {},
   "outputs": [],
   "source": []
  }
 ]
}