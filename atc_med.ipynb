{
 "metadata": {
  "language_info": {
   "codemirror_mode": {
    "name": "ipython",
    "version": 3
   },
   "file_extension": ".py",
   "mimetype": "text/x-python",
   "name": "python",
   "nbconvert_exporter": "python",
   "pygments_lexer": "ipython3",
   "version": "3.8.5"
  },
  "orig_nbformat": 2,
  "kernelspec": {
   "name": "python3",
   "display_name": "Python 3",
   "language": "python"
  }
 },
 "nbformat": 4,
 "nbformat_minor": 2,
 "cells": [
  {
   "cell_type": "code",
   "execution_count": 1,
   "metadata": {},
   "outputs": [],
   "source": [
    "import pandas as pd \n",
    "\n",
    "def lower(text):\n",
    "    return text.lower()\n",
    "\n",
    "def normalize(s):\n",
    "    replacements = (\n",
    "        (\"á\", \"a\"),\n",
    "        (\"é\", \"e\"),\n",
    "        (\"í\", \"i\"),\n",
    "        (\"ó\", \"o\"),\n",
    "        (\"ó\", \"o\"),\n",
    "        (\"ú\", \"u\"),\n",
    "    )\n",
    "    for a, b in replacements:\n",
    "        s = s.replace(a, b)\n",
    "    return s\n",
    "        \n",
    "data = pd.read_csv('atc_medicamentos.csv')\n",
    "data['descripcion_atc'] = data['descripcion_atc'].apply(lambda x: lower(x))\n",
    "data['descripcion_atc'] = data['descripcion_atc'].apply(lambda x: normalize(x))"
   ]
  },
  {
   "cell_type": "code",
   "execution_count": 2,
   "metadata": {},
   "outputs": [
    {
     "output_type": "execute_result",
     "data": {
      "text/plain": [
       "    codigo_atc    descripcion_atc\n",
       "0     L01XE50        abemaciclib \n",
       "1      L02BX03        abiraterona\n",
       "2     L01XE51      acalabrutinib \n",
       "3      L01XE13           afatinib\n",
       "4     L01XE36          alectinib \n",
       "..         ...                ...\n",
       "191    L01CA02        vincristina\n",
       "192    L01CA03          vindesine\n",
       "193    L01CA04        vinorelbina\n",
       "194    L01XX43         vismodegib\n",
       "195    M05BA08  zoledronico acido\n",
       "\n",
       "[196 rows x 2 columns]"
      ],
      "text/html": "<div>\n<style scoped>\n    .dataframe tbody tr th:only-of-type {\n        vertical-align: middle;\n    }\n\n    .dataframe tbody tr th {\n        vertical-align: top;\n    }\n\n    .dataframe thead th {\n        text-align: right;\n    }\n</style>\n<table border=\"1\" class=\"dataframe\">\n  <thead>\n    <tr style=\"text-align: right;\">\n      <th></th>\n      <th>codigo_atc</th>\n      <th>descripcion_atc</th>\n    </tr>\n  </thead>\n  <tbody>\n    <tr>\n      <th>0</th>\n      <td>L01XE50</td>\n      <td>abemaciclib</td>\n    </tr>\n    <tr>\n      <th>1</th>\n      <td>L02BX03</td>\n      <td>abiraterona</td>\n    </tr>\n    <tr>\n      <th>2</th>\n      <td>L01XE51</td>\n      <td>acalabrutinib</td>\n    </tr>\n    <tr>\n      <th>3</th>\n      <td>L01XE13</td>\n      <td>afatinib</td>\n    </tr>\n    <tr>\n      <th>4</th>\n      <td>L01XE36</td>\n      <td>alectinib</td>\n    </tr>\n    <tr>\n      <th>...</th>\n      <td>...</td>\n      <td>...</td>\n    </tr>\n    <tr>\n      <th>191</th>\n      <td>L01CA02</td>\n      <td>vincristina</td>\n    </tr>\n    <tr>\n      <th>192</th>\n      <td>L01CA03</td>\n      <td>vindesine</td>\n    </tr>\n    <tr>\n      <th>193</th>\n      <td>L01CA04</td>\n      <td>vinorelbina</td>\n    </tr>\n    <tr>\n      <th>194</th>\n      <td>L01XX43</td>\n      <td>vismodegib</td>\n    </tr>\n    <tr>\n      <th>195</th>\n      <td>M05BA08</td>\n      <td>zoledronico acido</td>\n    </tr>\n  </tbody>\n</table>\n<p>196 rows × 2 columns</p>\n</div>"
     },
     "metadata": {},
     "execution_count": 2
    }
   ],
   "source": [
    "data"
   ]
  },
  {
   "cell_type": "code",
   "execution_count": null,
   "metadata": {},
   "outputs": [],
   "source": []
  }
 ]
}